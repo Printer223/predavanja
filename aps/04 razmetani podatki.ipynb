{
 "cells": [
  {
   "cell_type": "markdown",
   "metadata": {},
   "source": [
    "Še preden smo \"odkrili\" drevesa in preden smo poskušali uporabljati sezname, smo imeli idejo, ki bi jo le po krivici prezrli: problem vstavljanja bi se dalo rešiti tako, da med osebami pustimo prazne stole.\n",
    "\n",
    "Pa poskusimo na ta način.\n",
    "\n",
    "Najprej ne spreglejmo, da nič od tega, kar smo počeli doslej, ni vezano na nize. Namesto oseb, urejenih po imenih, bi lahko v drevesa spravljali tudi številke ali karkoli drugega, za kar imamo relacijo urejenosti, tako da lahko gre \"manjši\" na levo in večji na desno. Tudi urejene tabele in bisekcija delujejo za kakršnekoli objekte, za katere je definirana neka relacija urejenosti.\n",
    "\n",
    "Recimo torej, da bomo v tabelo (ali, v naši metafori, na stole) spravljali številke. Najprej, recimo 5617. Recimo, da imamo 20 stolov. Na katerega posedemo 5617? Precej odvisno od tega, kakšne bodo druge številke, ne? Če gre za številke do 10000, najbrž nekam na sredo, če za številke do milijon, nekam na začetek, če za številke do 5620, pa kam blizu konca, drži?\n",
    "\n",
    "Za 5617 pride 5650. Jo damo par stolov na desno ali čisto na desno? Spet odvisno od obsega.\n",
    "\n",
    "Kaj pa imena? Ali, recimo, priimki? Koliko prostora je potrebno pustiti med L in O? Ogromno, ker se neverjetno velik del slovenskih priimkov začne s črko M.\n",
    "\n",
    "Ideja s praznimi stoli ni slaba. Vendar deluje le, če vemo, kakšen je obseg vrednosti in, še več, kakšna je porazdelitev, se pravi, katere reči so pogostejše."
   ]
  },
  {
   "cell_type": "markdown",
   "metadata": {},
   "source": [
    "## Kaotično shranjevanje"
   ]
  },
  {
   "cell_type": "markdown",
   "metadata": {},
   "source": [
    "Amazon ima poseben način shranjevanja reči. Imenujejo ga <a href=\"http://twistedsifter.com/2012/12/inside-amazons-chaotic-storage-warehouses/\">Chaotic storage</a>. Uporablja ga tudi moja žena. Ideja sistema je, da vsako stvar odložiš, kjer ti pade iz rok. Razlika med Amazonovim in ženinim sistemom je v tem, da Amazon ve, kaj so odložili kam. Če veš, kam si odložil, potem je pravzaprav vseeno, kam odložiš; pomembno je, da veš, kje reč najti.\n",
    "\n",
    "Amazon uporablja podatkovno bazo, mi bomo naredili drugačno finto. Napišimo funkcijo, ki iz podanega niza izračuna neko številko. Za zdaj je vseeno, kako (in tudi ostalo bo dokaj vseeno, le nekaj opazk bomo naredili). Naredimo, recimo, takole."
   ]
  },
  {
   "cell_type": "code",
   "execution_count": 23,
   "metadata": {},
   "outputs": [],
   "source": [
    "def razprsi(s):\n",
    "    v = 0\n",
    "    for i, c in enumerate(s):\n",
    "        v += i * ord(c)\n",
    "    return v"
   ]
  },
  {
   "cell_type": "code",
   "execution_count": 24,
   "metadata": {},
   "outputs": [
    {
     "data": {
      "text/plain": [
       "304"
      ]
     },
     "execution_count": 24,
     "metadata": {},
     "output_type": "execute_result"
    }
   ],
   "source": [
    "razprsi(\"Ana\")"
   ]
  },
  {
   "cell_type": "code",
   "execution_count": 25,
   "metadata": {},
   "outputs": [
    {
     "data": {
      "text/plain": [
       "1065"
      ]
     },
     "execution_count": 25,
     "metadata": {},
     "output_type": "execute_result"
    }
   ],
   "source": [
    "razprsi(\"Berta\")"
   ]
  },
  {
   "cell_type": "code",
   "execution_count": 26,
   "metadata": {},
   "outputs": [
    {
     "data": {
      "text/plain": [
       "1030"
      ]
     },
     "execution_count": 26,
     "metadata": {},
     "output_type": "execute_result"
    }
   ],
   "source": [
    "razprsi(\"Cilka\")"
   ]
  },
  {
   "cell_type": "markdown",
   "metadata": {},
   "source": [
    "Vsaka znak ima (upam, da to vemo?) zaporedno številko; presledek ima številko 32, 0 je 48, 1 je 49 (in tako naprej), A je 65, B je 66 (in tako naprej), a je 97, b je 98 (in tako naprej). Funkcija `ord(c)` vrne številko, ki pripada znaku c. To številko pomnožimo z mestom znaka v nizu in vse skupaj seštejemo.\n",
    "\n",
    "Funkcijo bi se dalo napisati krajše, vendar je ne zapletajmo brez potrebe. (Tule je to, da vsi razumemo, kaj počnemo, pomembnejše od tega, da to počnemo na najboljši možen način.)\n",
    "\n",
    "Zdaj recimo, da imamo tabelo z desetimi polji. Ano bomo dali na četrto polje, Berto na peto in Cilko na ničto; vzamemo, preprosto, številko, ki jo naračuna funkcija `razprsi` in izračunamo ostanek po deljenju z 10. Ker imamo deset polj."
   ]
  },
  {
   "cell_type": "code",
   "execution_count": 27,
   "metadata": {},
   "outputs": [],
   "source": [
    "class RazprsenaTabela:\n",
    "    def __init__(self):\n",
    "        self.velikost = 50\n",
    "        self.tabela = [None] * self.velikost\n",
    "\n",
    "    def dodaj(self, oseba):\n",
    "        self.tabela[razprsi(oseba.ime) % self.velikost] = oseba\n",
    "\n",
    "    def poisci(self, ime):\n",
    "        return self.tabela[razprsi(ime) % self.velikost]\n",
    "\n",
    "    def izpisi(self):\n",
    "        for oseba in self.tabela:\n",
    "            if oseba:\n",
    "                print(oseba.ime)"
   ]
  },
  {
   "cell_type": "markdown",
   "metadata": {},
   "source": [
    "Naš razred bo imel atributa `velikost` in `tabela`. Velikost bo velikost tabele; torej `self.velikost == len(self.tabela)`. Če kdo meni, da atributa `velikost` potemtakem sploh ne bi potrebovali, ima sicer prav, vendar bomo velikost potrebovali na toliko mestih, da se jo splača imeti zapisano ločeno, da ne bo potrebno vedno pisali `len(self.tabela)`. Tabela pa so naši \"stoli\", na katere bomo posedali osebe. V začetku pripravimo tabelo, v kateri so sami `None`, kar pomeni, da je stol prazen.\n",
    "\n",
    "Tule smo se odločili, da bo polj 50, saj 15 oseb očitno ne bi šlo na deset stolov.\n",
    "\n",
    "Metoda `dodaj` doda osebo. Najprej izračuna, kam sodi: pokliče funkcijo `razprsi`, izračuna ostanek po deljenju s `self.velikost` in shrani osebo na mesto s tako izračunanim indeksom.\n",
    "\n",
    "Metoda `poisci` je podobno preprosta. Kot argument dobi ime osebe; iz imena izračuna, v katerem polju je shranjena oseba s tem imenom in pač vrne vsebino tega polja.\n",
    "\n",
    "Metoda `izpisi` izpiše vse osebe v tabeli: gre čez polja in izpiše vsa tista, v katerih je shranjena kakšna oseba (`None` je neresničen, osebe pa so resnične).\n",
    "\n",
    "Pripravimo si navaden seznam oseb."
   ]
  },
  {
   "cell_type": "code",
   "execution_count": 28,
   "metadata": {},
   "outputs": [],
   "source": [
    "class Oseba:\n",
    "    def __init__(self, ime, stevilka):\n",
    "        self.ime = ime\n",
    "        self.stevilka = stevilka\n",
    "        \n",
    "osebe = [(\"Ana\", 356), (\"Berta\", 374), (\"Cilka\", 698), (\"Dani\", 781),\n",
    "         (\"Ema\", 972), (\"Fanči\", 941), (\"Greta\", 613), (\"Helga\", 197),\n",
    "         (\"Iva\", 919), (\"Jana\", 591), (\"Klara\", 62), (\"Liza\", 196),\n",
    "         (\"Micka\", 718), (\"Nina\", 417), (\"Olga\", 682)]\n",
    "\n",
    "osebe = [Oseba(ime, stevilka) for ime, stevilka in osebe]"
   ]
  },
  {
   "cell_type": "markdown",
   "metadata": {},
   "source": [
    "Zložimo jih v tabelo."
   ]
  },
  {
   "cell_type": "code",
   "execution_count": 29,
   "metadata": {},
   "outputs": [
    {
     "name": "stdout",
     "output_type": "stream",
     "text": [
      "Greta\n",
      "Ema\n",
      "Ana\n",
      "Olga\n",
      "Jana\n",
      "Micka\n",
      "Helga\n",
      "Berta\n",
      "Nina\n",
      "Cilka\n",
      "Klara\n",
      "Liza\n",
      "Fanči\n"
     ]
    }
   ],
   "source": [
    "t = RazprsenaTabela()\n",
    "for oseba in osebe:\n",
    "    t.dodaj(oseba)\n",
    "t.izpisi()"
   ]
  },
  {
   "cell_type": "code",
   "execution_count": 30,
   "metadata": {},
   "outputs": [
    {
     "data": {
      "text/plain": [
       "591"
      ]
     },
     "execution_count": 30,
     "metadata": {},
     "output_type": "execute_result"
    }
   ],
   "source": [
    "t.poisci(\"Jana\").stevilka"
   ]
  },
  {
   "cell_type": "markdown",
   "metadata": {},
   "source": [
    "Kar smo sestavili, je imenitno, saj imamo vstavljanje in iskanje v, huh, konstantnem času! To je še boljše kot logaritemski čas. Pri logaritemskem času dvakrat večje število oseb pomeni eno operacijo več, ko dodajamo oziroma shranjujemo. To smo dosegli z drevesi. Tule pa je čas vstavljanja in iskanja neodvisen od števila oseb.\n",
    "\n",
    "Zanimivo je, da smo pri tabelah dosegli odlične čase iskanja s tem, da smo se potrudili, da so bile urejene. Drevesa so morala biti urejena in uravnotežena. Tule pa smo dosegli odlične čase tako, da ignoriramo vrstni red.\n",
    "\n",
    "Točneje: kar smo sestavili, bi bilo imenitno, če bi delovalo. Vendar ne deluje. Kaj se zgodi, če funkcija pri dveh nizih vrne številko, ki ima enak ostanek po deljenju s 50?\n",
    "\n",
    "Kam je izginila Dani?! V izpisu je ni. Poskusimo jo poiskati."
   ]
  },
  {
   "cell_type": "code",
   "execution_count": 31,
   "metadata": {},
   "outputs": [
    {
     "data": {
      "text/plain": [
       "'Klara'"
      ]
     },
     "execution_count": 31,
     "metadata": {},
     "output_type": "execute_result"
    }
   ],
   "source": [
    "t.poisci(\"Dani\").ime"
   ]
  },
  {
   "cell_type": "markdown",
   "metadata": {},
   "source": [
    "Klara je povozila Dani. Zakaj?"
   ]
  },
  {
   "cell_type": "code",
   "execution_count": 32,
   "metadata": {},
   "outputs": [
    {
     "data": {
      "text/plain": [
       "1032"
      ]
     },
     "execution_count": 32,
     "metadata": {},
     "output_type": "execute_result"
    }
   ],
   "source": [
    "razprsi(\"Klara\")"
   ]
  },
  {
   "cell_type": "code",
   "execution_count": 33,
   "metadata": {},
   "outputs": [
    {
     "data": {
      "text/plain": [
       "632"
      ]
     },
     "execution_count": 33,
     "metadata": {},
     "output_type": "execute_result"
    }
   ],
   "source": [
    "razprsi(\"Dani\")"
   ]
  },
  {
   "cell_type": "markdown",
   "metadata": {},
   "source": [
    "Kako je tule z ostankom po deljenju s 50?\n",
    "\n",
    "Temu rečemo trk ali \"kolizija\" (angl. *collision*). Funkcijam, kakršna je gornja pravimo *razpršitvena* ali *zgoščevalna* funkcija, v angleščini pa tudi in predvsem (<a href=\"https://en.wikipedia.org/wiki/Hash_function\">hash function</a>). *Razpršitvena* zato, ker jo uporabljamo, da *razprši* elemente po tabeli. Zgoščevalna pa zato, ker je številk, ki jih lahko vrne, bistveno manj kot je različnih nizov, torej množico nizov *zgosti* v manjšo množico števil.\n",
    "\n",
    "Od dobre razprševalne funkcije zahtevamo, da čimbolj razpršuje. Zelo nerodno bi bilo, če bi napisali takšno funkcijo, ki bi vračala le soda števila, saj bi to pomenilo, da bo polovica polj vedno praznih, verjetnost trkov v lihih pa bo dvakrat večja, kot bi lahko bila. Želimo si torej, da bodo vsi ostanki po deljenju s 50 enako verjetni. Ali po deljenju z 10. Ali s 100. Ali s čimerkoli že bomo delili - pri čemer pri načrtovanju funkcije ne vemo vnaprej, s čim nameravamo deliti. Če koga zanima, si lahko ogleda <a href=\"https://en.wikipedia.org/wiki/Universal_hashing\">teorijo o tem, kako izgledajo dobre funkcije</a>. Veliko učenega si lahko preberete tudi na strani o <a href=\"https://en.wikipedia.org/wiki/Hash_table\">razpršenih tabelah</a>. Kot si lahko predstavljate, je to pomembna reč, o kateri so veliko razmišljali.\n",
    "\n",
    "A pri še tako dobri funkciji bomo naleteli na trke. Različnih ostankov po deljenju s 50 je točno 50, različnih nizov pa je krvavo očitno bistveno več kot toliko.\n",
    "\n",
    "Spomnimo se seznamov. Kaj če bi osebo, ki trči v drugo osebo, pripeli pod to osebo? Ali - kot ste, upam, odkrili na vajah - nad to osebo, saj je lažje pripenjati na začetek kot na konec."
   ]
  },
  {
   "cell_type": "code",
   "execution_count": 36,
   "metadata": {},
   "outputs": [],
   "source": [
    "class RazprsenaTabela:\n",
    "    def __init__(self):\n",
    "        self.velikost = 50\n",
    "        self.tabela = [None] * self.velikost\n",
    "\n",
    "    def dodaj(self, oseba):\n",
    "        kam = razprsi(oseba.ime) % self.velikost\n",
    "        oseba.naslednji = self.tabela[kam]\n",
    "        self.tabela[kam] = oseba\n",
    "\n",
    "    def poisci(self, ime):\n",
    "        kje = razprsi(ime) % self.velikost\n",
    "        v = self.tabela[kje]\n",
    "        while v is not None and v.ime != ime:\n",
    "            v = v.naslednji\n",
    "        return v\n",
    "\n",
    "    def izpisi(self):\n",
    "        for i, oseba in enumerate(self.tabela):\n",
    "            if not oseba:\n",
    "                continue\n",
    "            print(\"\\n\", i, end=\" \")\n",
    "            while oseba:\n",
    "                print(oseba.ime, end=\" \")\n",
    "                oseba = oseba.naslednji"
   ]
  },
  {
   "cell_type": "markdown",
   "metadata": {},
   "source": [
    "Metoda `dodaj` zdaj doda novo osebo na začetek seznama. Polje, kamor dodaja osebo, ima enako vlogo kot `prvi` v seznamih. Kot smo delali pred dvema tednoma oz. pred dvema domačima nalogama: če hočemo dodajati na začetek, rečemo `oseba.naslednji = prvi` in `prvi = oseba`. Le da imamo tule namesto `prvi` pač `self.tabela[kam]`.\n",
    "\n",
    "Iskanje smo napisali tako, da `if` zamenjamo z `while`.\n",
    "\n",
    "Nekoliko smo dopolnili izpis, tako da gre čez tabelo in v vsaki celici čez njen pripadajoči seznam."
   ]
  },
  {
   "cell_type": "code",
   "execution_count": 37,
   "metadata": {},
   "outputs": [],
   "source": [
    "t = RazprsenaTabela()\n",
    "for oseba in osebe:\n",
    "    t.dodaj(oseba)"
   ]
  },
  {
   "cell_type": "code",
   "execution_count": 38,
   "metadata": {},
   "outputs": [
    {
     "name": "stdout",
     "output_type": "stream",
     "text": [
      "Dani 781\n"
     ]
    }
   ],
   "source": [
    "dani = t.poisci(\"Dani\")\n",
    "print(dani.ime, dani.stevilka)"
   ]
  },
  {
   "cell_type": "code",
   "execution_count": 39,
   "metadata": {},
   "outputs": [
    {
     "name": "stdout",
     "output_type": "stream",
     "text": [
      "Klara 62\n"
     ]
    }
   ],
   "source": [
    "klara = t.poisci(\"Klara\")\n",
    "print(klara.ime, klara.stevilka)"
   ]
  },
  {
   "cell_type": "code",
   "execution_count": 40,
   "metadata": {},
   "outputs": [
    {
     "name": "stdout",
     "output_type": "stream",
     "text": [
      "\n",
      " 2 Greta \n",
      " 3 Ema \n",
      " 4 Ana \n",
      " 5 Olga \n",
      " 8 Jana \n",
      " 12 Micka Iva \n",
      " 14 Helga \n",
      " 15 Berta \n",
      " 16 Nina \n",
      " 30 Cilka \n",
      " 32 Klara Dani \n",
      " 40 Liza \n",
      " 44 Fanči "
     ]
    }
   ],
   "source": [
    "t.izpisi()"
   ]
  },
  {
   "cell_type": "markdown",
   "metadata": {},
   "source": [
    "Odlično. Spet smo zmagali."
   ]
  },
  {
   "cell_type": "markdown",
   "metadata": {},
   "source": [
    "## Kje smo s časom?"
   ]
  },
  {
   "cell_type": "markdown",
   "metadata": {},
   "source": [
    "Ali pa tudi ne.\n",
    "\n",
    "Zgoraj smo se hvalili, da je čas iskanja v tejle odlični razpršeni tabeli neodvisen od tega, koliko elementov je shranjenih v njej. Je to še res?\n",
    "\n",
    "Najočitneje ne. Kar se tiče vstavljanja, da, tu smo hitri. Čas vstavljanja je neodvisen od tega, kako polna je tabela - izračunamo mesto in porinemo na začetek seznama.\n",
    "\n",
    "Iskanje pa je druga pesem. Če imamo v tabeli 1000 oseb, bo od vsake od 50 celic visel seznam 20 oseb. Če imamo 2000 oseb, bo od vsake od 50 celic visel seznam 40 oseb ... in tako naprej. Dvakrat več oseb, dvakrat daljši seznami.\n",
    "\n",
    "Tole je lepa vaja za gradnjo intuicije o časovni zahtevnosti. Kar smo naredili, je petdesetkrat hitrejše od seznamov. To pomeni, da je hitrejše od seznamov? Ne. Petdesetkrat hitrejše ... je za nas enako hitro. Zanima nas relativna hitrost. Dvakrat več oseb pomeni dvakrat daljše sezname in dvakrat daljši čas iskanja. Naša razpršena tabela je enako dobra kot neurejeni seznami (ker vedno dodajamo na začetek).\n",
    "\n",
    "Vendar ne vrzimo puške v koruzo. Rešili se bomo z goljufijo.\n",
    "\n",
    "Predpostavimo, da imamo tabelo s 50 prostori in v njej 15 elementov, tako kot zgoraj. Kot kaže izpis, to ni tako slabo: vsaka oseba je na svojem stolu, le dva para si ga delita. Čas iskanja je malenkost več kot 1. Kaj pa, če bi imeli 500 prostorov in 150 oseb. Ista reč. No, seveda imamo v obeh primerih lahko tudi smolo, recimo vseh 15 ali vseh 150 oseb na istem stolu. A slabi razporedi bodo redki in bolj, ko bodo slabi, bolj redki bodo. Pa 5000 prostorov in 1500 oseb?\n",
    "\n",
    "Vidite, kam molim taco? Le dovolj veliko tabelo potrebujemo. Nekoliko razsipni moramo biti in vedno vzeti dovolj preveliko tabelo.\n",
    "\n",
    "Koliko? Kako naj vnaprej vemo, koliko prostora bomo potrebovali, koliko oseb bomo dodali?\n",
    "\n",
    "Na srečo nam tega ni potrebno vedeti. Ko dodajamo osebe, štejemo, koliko jih imamo. Ko je polne, recimo, več kot dve tretjini tabele (ko imamo v tabeli velikost 50 že 34 elementov), povečamo tabelo, recimo za faktor 2. Ob tem moramo na novo razmetati obstoječe elemente."
   ]
  },
  {
   "cell_type": "code",
   "execution_count": 41,
   "metadata": {},
   "outputs": [],
   "source": [
    "class RazprsenaTabela:\n",
    "    def __init__(self):\n",
    "        self.velikost = 10\n",
    "        self.elementov = 0\n",
    "        self.tabela = [None] * self.velikost\n",
    "\n",
    "    def dodaj_t(self, oseba, tabela):\n",
    "        kam = razprsi(oseba.ime) % len(tabela)\n",
    "        oseba.naslednji = tabela[kam]\n",
    "        tabela[kam] = oseba\n",
    "\n",
    "    def dodaj(self, oseba):\n",
    "        self.dodaj_t(oseba, self.tabela)\n",
    "        self.elementov += 1\n",
    "        if self.elementov > 2 / 3 * self.velikost:\n",
    "            self.spremeni_velikost(2 * self.velikost)\n",
    "\n",
    "    def spremeni_velikost(self, velikost):\n",
    "        nova_tabela = [None] * velikost\n",
    "        for oseba in self.tabela:\n",
    "            while oseba:\n",
    "                naslednja = oseba.naslednji\n",
    "                oseba.naslednji = None\n",
    "                self.dodaj_t(oseba, nova_tabela)\n",
    "                oseba = naslednja\n",
    "        self.tabela = nova_tabela\n",
    "        self.velikost = velikost\n",
    "        \n",
    "    def poisci(self, ime):\n",
    "        kje = razprsi(ime)\n",
    "        v = self.tabela[kje % self.velikost]\n",
    "        while v is not None and v.ime != ime:\n",
    "            v = v.naslednji\n",
    "        return v\n",
    "\n",
    "    def izpisi(self):\n",
    "        for i, oseba in enumerate(self.tabela):\n",
    "            if not oseba:\n",
    "                continue\n",
    "            print(\"\\n\", i, end=\" \")\n",
    "            while oseba:\n",
    "                print(oseba.ime, end=\" \")\n",
    "                oseba = oseba.naslednji\n"
   ]
  },
  {
   "cell_type": "markdown",
   "metadata": {},
   "source": [
    "Konstruktor, `__init__`, bo zdaj zapisal tudi število elementov, ki so v tabeli. V začetku ga seveda postavi na 0. Začetna velikost tabele bo borih 10 elementov.\n",
    "\n",
    "Metoda `dodaj_t` je nekakšna pomožna metoda za dodajanje. Podamo ji osebo in tabelo (ki ni nujno `self.tabela`, pa bo dodala osebo na ustrezno mesto v podano tabelo.\n",
    "\n",
    "Prava metoda `dodaj` pokliče `dodaj_t`, s tem da kot tabelo poda `self.tabela` - tako bo `dodaj_t` dodala v \"pravo\" tabelo. Poleg tega poveča števec shranjenih elementov. Če število elementov večje od dveh tretjin velikosti tabele, pokliče `spremeni_velikost`.\n",
    "\n",
    "`spremeni_velikost` kot argument prejme novo želeno velikost. Sestavi nova tabela (kot bi rekel moj ded, ki je bil z Dolenjske) in vanjo zloži vse osebe iz trenutne tabele, tako da za vsako pokliče `dodaj_t`. Ker mora predtem vsaki osebi nastaviti `oseba.naslednja` na `None` (ker smo že delali s seznami, si lahko predstavljate, kaj bi se zgodilo sicer), je potrebno nekaj akrobacij, da pravilno prehodimo seznam, ki ga sproti razdiramo.\n",
    "\n",
    "Ko je premetavanje v novo tabelo opravljeno, zamenjamo \"pravo\" tabelo z novo (`self.tabela = nova_tabela`) in velikost z novo velikostjo (`self.velikost = velikost`).\n",
    "\n",
    "Iskanje in izpis ostaneta takšna kot prej.\n",
    "\n",
    "Kje smo zdaj s časom?\n",
    "\n",
    "Poprečnih časov ne bomo računali. Tega ne znam razložiti tako preprosto, kot pri tabelah. Zadovoljili pa se bomo z intucijo: če imamo $n$ oseb na $k$ stolih, bo poprečno število operacij za iskanje sorazmerno $1 + n / k$. Če je velikost tabele narašča sorazmerno s številom elementov, imamo torej $n = c k$ (z neko \"sorazmernostno\" konstanto $c$, v našem primeru do 2/3) in čas iskanja je sorazmeren $1 + (c k) / k = 1 + c$. Ker je $c$ konstanta, je čas iskanja neodvisen od velikosti tabele."
   ]
  },
  {
   "cell_type": "markdown",
   "metadata": {},
   "source": [
    "## Popolna zmaga"
   ]
  },
  {
   "cell_type": "markdown",
   "metadata": {},
   "source": [
    "Kar smo uspeli narediti, je veliko boljše od dreves. Kot prvo, čas iskanja in vstavljanja je neodvisen od števila oseb. Oh, da, zamolčal sem, da je občasno potrebno premetati celo tabelo. Vendar se to zgodi dovolj redko (velikost tabele vsakič podvojimo, torej bo pogostost premetavanja padala s številom elementov. V poprečju bo vsak element premetan natančno enkrat, torej je čas premetavanja neodvisen od števila elementov), tako da lahko premetavanje zanemarimo.\n",
    "\n",
    "Kot drugo: vse skupaj je bistveno bistveno preprostejše od dreves. Ob drevesih smo preživeli dvoje predavanj, izumili smo dva leva in dva desna obrata (še dunajski valček jih nima toliko), napisali dva zaslona nedelujoče kode za obračanje. Brisanje iz drevesa sem napisal iz gole trme, predaval pa ga nisem iz gole milosti do študentov. (Tole velja za prvo leto izvajanja predmeta. Drugo leto sem brisanje tiščal v podzavest.)\n",
    "\n",
    "Brisanje iz razpršenih tabel? Trivialno. Pogledaš kje je in pobrišeš. Poiskati ga znamo, brisanja iz seznamov pa se tudi ne bojimo.\n",
    "\n",
    "Še nečesa ne prezrimo: v razpršene tabele lahko shranjujemo tudi stvari, ki jih ne moremo urediti po velikosti. Če kdo misli, da bi lahko v drevesa shranjevali kompleksna števila, naj pove, da ga zatožim matematikom.\n",
    "\n",
    "Seveda ni nič zastonj.\n",
    "\n",
    "Urejenosti sicer res ne potrebujemo, kar je koristno. Istočasno pa smo izgubili vrstni red. V tabelah (oziroma seznamih v Pythonovskem pomenu besede) imamo, če uporabljamo le `append`, ohranjen vrstni red dodajanja. Drevesa urejajo po velikosti (ali kakršnikoli že relaciji urejenosti). Razpršene tabele nimajo nobenega reda. Vendar - komu mar!\n",
    "\n",
    "Drugo, kar izgubljamo - in za kar nam je mar - je prostor. Razpršene tabele so potratne. Če hočemo, da se res vedejo, kakor obljubljamo zgoraj, morajo biti za določen faktor večje od števila shranjenih elementov in več ko je shranjenih elementov, več prostora vržemo stran. Stran vrženi prostor je seveda linearno sorazmeren številu shranjenih elementov, tako da to lahko preživimo. Če bi bil večji, ne bi šlo.\n",
    "\n",
    "V resnici so razpršene tabele najboljše, kar imamo. Posebej danes, ko pomnilnik ni več tako dragocena dobrina kot leta sedemdeset."
   ]
  },
  {
   "cell_type": "markdown",
   "metadata": {},
   "source": [
    "### Python"
   ]
  },
  {
   "cell_type": "markdown",
   "metadata": {},
   "source": [
    "Pythonovi slovarji so v resnici razpršene tabele. Razpršitveno funkcijo izračunajo, očitno, iz ključa. V celico shranijo ključ, vrednost, poleg tega pa tudi tisto, kar je vrnila razpršitvena funkcija. Na ta način je ni potrebno vedno znova klicati. Tudi inspiracija za faktor 2/3 prihaja iz Pythona. Določili so ga, tako kot druge podobne parametre, tako da so poskušali, kaj se najboljše vede.\n",
    "\n",
    "Kadar pride do trka, Python ne sestavlja seznamov, temveč shrani element na neko drugo, \"rezervno\" mesto. Če je zasedeno tudi to, uporabi drugo rezervo. Prav tako pri iskanju preišče še rezerve. Reč je podobna seznamom in tudi časovna zahtevnost je (teoretično) enaka. Takšen način uporablja, ker je iz tehničnih razlogov bolj praktičen. Tule pa smo uporabili sezname, ker je lažje in ker so nam bližji.\n",
    "\n",
    "V ozadju slovarjev seveda niso Pythonovi seznami. \"Stoli\" so narejeni bolj \"direktno\": vrednost, ki jo vrne razpršitvena funkcija, se preslika v lokacijo v računalnikovem pomnilniku. A bistvo zdaj razumete.\n",
    "\n",
    "Razpršitveno funkcijo lahko pokličemo tudi sami. Imenuje se `hash`."
   ]
  },
  {
   "cell_type": "code",
   "execution_count": 44,
   "metadata": {},
   "outputs": [
    {
     "data": {
      "text/plain": [
       "2575919564229461234"
      ]
     },
     "execution_count": 44,
     "metadata": {},
     "output_type": "execute_result"
    }
   ],
   "source": [
    "hash(\"Ana\")"
   ]
  },
  {
   "cell_type": "code",
   "execution_count": 45,
   "metadata": {},
   "outputs": [
    {
     "data": {
      "text/plain": [
       "-5694556544823303295"
      ]
     },
     "execution_count": 45,
     "metadata": {},
     "output_type": "execute_result"
    }
   ],
   "source": [
    "hash(\"Cilka\")"
   ]
  },
  {
   "cell_type": "code",
   "execution_count": 46,
   "metadata": {},
   "outputs": [
    {
     "data": {
      "text/plain": [
       "123"
      ]
     },
     "execution_count": 46,
     "metadata": {},
     "output_type": "execute_result"
    }
   ],
   "source": [
    "hash(123)"
   ]
  },
  {
   "cell_type": "code",
   "execution_count": 47,
   "metadata": {},
   "outputs": [
    {
     "data": {
      "text/plain": [
       "12345"
      ]
     },
     "execution_count": 47,
     "metadata": {},
     "output_type": "execute_result"
    }
   ],
   "source": [
    "hash(12345)"
   ]
  },
  {
   "cell_type": "code",
   "execution_count": 48,
   "metadata": {},
   "outputs": [
    {
     "data": {
      "text/plain": [
       "2528494145600664752"
      ]
     },
     "execution_count": 48,
     "metadata": {},
     "output_type": "execute_result"
    }
   ],
   "source": [
    "hash((1, 9, 3))"
   ]
  },
  {
   "cell_type": "code",
   "execution_count": 49,
   "metadata": {},
   "outputs": [
    {
     "ename": "TypeError",
     "evalue": "unhashable type: 'list'",
     "output_type": "error",
     "traceback": [
      "\u001b[0;31m---------------------------------------------------------------------------\u001b[0m",
      "\u001b[0;31mTypeError\u001b[0m                                 Traceback (most recent call last)",
      "\u001b[0;32m<ipython-input-49-0e7c08465b16>\u001b[0m in \u001b[0;36m<module>\u001b[0;34m()\u001b[0m\n\u001b[0;32m----> 1\u001b[0;31m \u001b[0mhash\u001b[0m\u001b[0;34m(\u001b[0m\u001b[0;34m[\u001b[0m\u001b[0;36m1\u001b[0m\u001b[0;34m,\u001b[0m \u001b[0;36m2\u001b[0m\u001b[0;34m]\u001b[0m\u001b[0;34m)\u001b[0m\u001b[0;34m\u001b[0m\u001b[0m\n\u001b[0m",
      "\u001b[0;31mTypeError\u001b[0m: unhashable type: 'list'"
     ]
    }
   ],
   "source": [
    "hash([1, 2])"
   ]
  },
  {
   "cell_type": "markdown",
   "metadata": {},
   "source": [
    "Iz seznama (`list`) je noče izračunati, ker bi se seznam lahko spremenil. Če spremenimo vrednost ključa, pa le-ta ni več na pravem mestu v tabeli in slovar ne bo več pravilno deloval."
   ]
  },
  {
   "cell_type": "markdown",
   "metadata": {},
   "source": [
    "Pred leti sem na lastni koži izkusil, koliko so razpršitvene tabele hitrejše od dreves. Delal sem nek tečaj iz kriptografije. Med drugim smo razbijali neko zaščito, za kar si je bilo potrebno zapomniti precej stvari. Shranjevali smo jih v slovarjih. Nekateri so programirali v C++, drugi v Pythonu. C++ je načelno, uh, stokrat ali stopetdesetkrat hitrejši od Pythona. Vendar smo tisti, ki smo delali v Pythonu, dobili rešitev v nekaj minutah, tisti, ki so delali v C++ pa so čakali ure. Zakaj? Slovarji v C++ so navadno narejeni z drevesi (tam sem jim v resnici ne reče slovar, a to ni pomembno), v Pythonu pa z razpršitvenimi tabelami. Razpršitvene tabele so toliko hitrejše od dreves, da je bil stokrat počasnejši Python zgolj zaradi boljše podatkovne strukture stokrat hitrejši od C++.\n",
    "\n",
    "Python uporablja slovarje povsod. Spremenljivke shranjuje v slovarju, katerega ključi so imena spremenljivk, vrednosti pač vrednosti. Vsebina modula je shranjena v slovarju. Atributi in metode razredov in objektov so shranjene v slovarjih. Skoraj vse v Pythonu je slovar, ta in ona reč je terka. Argumenti funkcije, recimo, so shranjene v terkah in slovarjih.\n",
    "\n",
    "Kako so narejene množice v Pythonu? Kot slovar, ki shranjuje le ključe. Zakaj so tako hitre? Pri Programiranju 1 sem rekel, da Python nekako \"ve\" ali množica vsebuje določen element, ne da bi jo moral vso prebrskati. No, zdaj veste: Python za vsak element izračuna vrednost razpršitvene funkcije in pogleda, ali je tam, kjer razpršitvena funkcija pravi, da bi moral biti."
   ]
  }
 ],
 "metadata": {
  "kernelspec": {
   "display_name": "Python 3 (ipykernel)",
   "language": "python",
   "name": "python3"
  },
  "language_info": {
   "codemirror_mode": {
    "name": "ipython",
    "version": 3
   },
   "file_extension": ".py",
   "mimetype": "text/x-python",
   "name": "python",
   "nbconvert_exporter": "python",
   "pygments_lexer": "ipython3",
   "version": "3.9.7"
  }
 },
 "nbformat": 4,
 "nbformat_minor": 1
}
