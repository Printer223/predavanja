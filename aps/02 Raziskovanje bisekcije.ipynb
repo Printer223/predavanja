{
 "cells": [
  {
   "cell_type": "markdown",
   "id": "1aa591f7",
   "metadata": {},
   "source": [
    "## Raziskovanje bisekcije\n",
    "\n",
    "Na prvih predavanjih smo videli nekaj algoritmov. No, dva spodobna in enega kar tako: linearno iskanje in bisekcijo, za zraven pa še naključno iskanje. Izvedeli smo, o čem bomo govorili, ko bomo govorili o časovni zahtevnosti algoritmov: o tem, kako narašča čas izvajanja (merjen v nekakšnih \"operacijah\", ne sekundah) narašča z velikostjo problema. Videli smo, da lahko narašča, na primer, linearno ali logaritemsko. Ker nas zanimajo le relativni časi, naključno iskanje ni nič slabše od linearnega (čeprav je dvakrat počasnejše), pa tudi najslabši možni primer je pogosto enak poprečnemu (če pri linearnem iskanju naletimo na iskani element na polovici poti ali pa imamo smolo in je iskani element vedno čisto na koncu, je to za nas eno in isto).\n",
    "\n",
    "Tema prvega predavanja so bili torej algoritmi. Tema drugega bodo podatkovne strukture. Razlog, da se ta predmet (običajno, ne tule) imenuje \"algoritmi in podatkovne strukture\" je (ali pa bi lahko bil ;) v tem, da navadno želimo nekaj narediti (za kar potrebujemo algoritem), za to, da algoritem lahko deluje, pa je potrebno spraviti podatke v algoritmu primerno obliko (primerno podatkovno strukturo). Algoritem torej navadno narekuje podatkovno strukturo - in ne obratno.\n",
    "\n",
    "Bežno smo se tega dotaknili na koncu prvih predavanj. Čeprav linearno iskanje in bisekcija na prvi pogled zahtevata enako podatkovno strukturo (seznam), to ni čisto res: linearno iskanje zahteva samo seznam, bisekcija pa hoče urejeni seznam. Urejeni seznami pa niso nujno tako poceni."
   ]
  },
  {
   "cell_type": "markdown",
   "id": "de042a69",
   "metadata": {},
   "source": [
    "## Časovna zahtevnost bisekcije\n",
    "\n",
    "Zanimivo je izračunati, kakšno je poprečno število primerjanj, ki jih zahteva bisekcija - ob predpostavki, da se ustavimo, če je srednji element pravi, sicer pa nadaljujemo iskanje levo ali desno od srednjega elementa, pri čemer srednji element izpustimo. Bisekcija ni vedno sprogramirana tako; če je srednji element vključen v, recimo, desno množico, je izračun nekoliko lažji, a zato manj zanimiv.\n",
    "\n",
    "Stvari postavimo takole. Obstaja natančno en element, za katerega potrebujemo le eno primerjanje. Pač tisti na sredi. Če ta ni pravi, vprašamo po tistem, ki je na sredini desnega ali sredini levega dela. Torej imamo dva elementa, za katera potrebujemo dve primerjavi. Če tudi tadva nista prava, vprašamo po srednjem elementu v enem od štirih možnih intervalov. Torej imamo štiri elemente, za katere potrebujemo po tri primerjave.\n",
    "\n",
    "| št. primerjav | št. elementov |\n",
    "|--------------:|--------------:|\n",
    "| 1             | 1             |\n",
    "| 2             | 2             |\n",
    "| 3             | 4             |\n",
    "| 4             | 8             |\n",
    "| 5             | 16            |\n",
    "| ...           | ...           |\n",
    "| $j$           | $2^{j-1}$     |\n",
    "\n",
    "Vsota desnega stolpca je $1 + 2 + 4 + 8 + 16 + \\ldots + 2^{j - 1} = 2^j - 1$ - če ne poznaš te vsote, jo izračunaj. (Namig: prenesi -1 z desne strani na levo, pa imaš 1 + 1 + 2 + 4 + 8 + 16 = 2 + 2 + 4 + 8 + 16 = 4 + 4 + 8 + 16 in tako naprej.)\n",
    "\n",
    "Recimo, da imamo srečo in da je v seznamu, recimo, $n=31$ ali $n=63$ ali $n=127$ ... elementov. Se pravi toliko, da imamo \"slučajno\" ravno $n = 2^j - 1$. Kakšno je zdaj poprečno število primerjav? V $i$-ti vrstici imamo $i$ primerjav in $2^{i-1}$ elementov. Vseh elementov je $2^j - 1$. Torej je verjetnost, da se bomo znašli v $i$-ti vrstici, enaka $2^{i-1} / (2^j - 1)$. Da bi izračunali poprečno število primerjav, moramo prek vseh vrstic sešteti produkt števil primerjav in verjetnosti, da imamo toliko primerjav.\n",
    "\n",
    "$$\\sum_{i=0}^{j} i\\; \\frac{2^{i - 1}}{2^j - 1} = \\frac{1}{2^j - 1} \\sum_{i=0}^{j} i\\; 2^{i - 1}$$\n",
    "\n",
    "Vrsto seštevamo od 0 namesto od 1. Ker je vseeno ($i\\;2^{i-1} = 0\\;2^{-1} = 0$) in ker se vrste tako navadno lepše seštevajo.\n",
    "\n",
    "Znamo sešteti tole vrsto? To je spet videti kot odvod. Z eno težavico. $i t^{i - 1}$ je res odvod $t^i$ po $t$. Ampak $i\\; 2^{i - 1}$ je pa odvod $2^i$ po $2$?! Saj vendar ne moremo odvajati po konstanti! :) No, pa recimo $t=2$. Preprosto namesto 2 pišimo $t$.\n",
    "\n",
    "$$\\frac{1}{2^j - 1} \\sum_{i=0}^{j} i\\; t^{i - 1}\n",
    "= \\frac{1}{2^j - 1} \\sum_{i=0}^{j} \\frac{\\partial t^i}{\\partial t}\n",
    "= \\frac{1}{2^j - 1} \\frac{\\partial \\sum_{i=0}^{j} t^i}{\\partial t}\n",
    "= \\frac{1}{2^j - 1} \\frac{\\partial \\frac{1 - t^{j+1}}{1 - t}}{\\partial t}\n",
    "= \\frac{1}{2^j - 1} \\left[\\frac{(j + 1)t^j(t - 1) - (t^{j + 1} - 1)}{(t - 1)^2}\\right]\n",
    "$$\n",
    "\n",
    "Zdaj pa se spomnimo, da je $t=2$, vse $t$-je zamenjajmo z 2 in mimogrede pozabimo na vse faktorje $t - 1$. Dobimo\n",
    "\n",
    "$$\\frac{1}{2^j - 1}\\left[(j + 1)2^j - (2^{j + 1} - 1)\\right] = \\frac{(j - 1)2^j - 1}{2^j - 1}$$\n",
    "\n",
    "$-1$ je v primerjavi z $2^j$ ništrc, torej je to toliko kot\n",
    "\n",
    "$$\\frac{(j - 1)2^j}{2 ^ j} = j - 1$$\n",
    "\n",
    "V poprečju bomo torej potrebovali $j - 1$ primerjav. Spomnimo se, da imamo $n=2^j - 1$ elementov; če zanemarimo zanemarljivi $-1$, torej velja $j = \\log_2 n$. Za bisekcijo v poprečju potrebujemo $j - 1 = \\log_2 n - 1$ primerjav.\n",
    "\n",
    "Ta izračun je prav poučen. Zaradi dveh stvari.\n",
    "\n",
    "**Prva**: v poprečju potrebujemo $\\log_2 n - 1$ primerjav v najslabšem primeru pa $\\log_2 n$. Kar je skoraj enako. Če smo prejšnji teden rekli (točneje: če sem prejšnji teden rekel), da navadno računamo časovno zahtevnost v najslabšem primeru zato, ker jo je navadno lažje izračunati in je tako ali tako pogosto enaka poprečni - bi si lahko želeli še lepši primer?\n",
    "\n",
    "**Druga**: Kako je lahko poprečje ravno en korak slabše od najslabšega? Kot vsako leto opazi vsaj en študent, še pogosteje pa študentka :), je večina -- skoraj polovica -- elementov je v zadnji vrstici. Zato tako zelo vplivajo na poprečje."
   ]
  },
  {
   "cell_type": "markdown",
   "id": "24a6e366",
   "metadata": {},
   "source": [
    "## Dodelana bisekcija\n",
    "\n",
    "Preden nadaljujemo, bomo lepo sprogramirali bisekcijo. Pa nerekurzivna bo, tokrat.\n",
    "\n",
    "Namesto, da bi programirali iskanje (tako, da imamo recimo seznam parov imen in telefonskih številk, pa damo bisekciji ime in nam vrne telefonsko številko) ali preverjanje, ali določen element obstaja (imamo abecedno urejen seznam imen in zanima nas, ali vsebuje določeno ime), bomo vračali indeks iskanega elementa."
   ]
  },
  {
   "cell_type": "code",
   "execution_count": 1,
   "id": "181c9b4e",
   "metadata": {},
   "outputs": [],
   "source": [
    "def bisekcija(osebe, ime):\n",
    "    od = 0  # indeks prvega kandidata\n",
    "    do = len(osebe)  # indeks enega čez IN NE indeks zadnjega kandidata\n",
    "    while od < do:\n",
    "        sreda = (od + do) // 2\n",
    "        if osebe[sreda] > ime:\n",
    "            do = sreda\n",
    "        else:\n",
    "            od = sreda + 1\n",
    "    return od"
   ]
  },
  {
   "cell_type": "markdown",
   "id": "48c9eb43",
   "metadata": {},
   "source": [
    "Najprej preskusimo na seznamu imen."
   ]
  },
  {
   "cell_type": "code",
   "execution_count": 2,
   "id": "4e726c01",
   "metadata": {},
   "outputs": [],
   "source": [
    "osebe = [\"Ana\", \"Berta\", \"Cilka\", \"Dani\", \"Ema\", \"Fanči\", \"Greta\", \"Helga\", \n",
    "         \"Iva\", \"Jana\", \"Klara\", \"Liza\", \"Micka\", \"Nina\", \"Olga\"]"
   ]
  },
  {
   "cell_type": "code",
   "execution_count": 3,
   "id": "3e912b87",
   "metadata": {},
   "outputs": [
    {
     "data": {
      "text/plain": [
       "10"
      ]
     },
     "execution_count": 3,
     "metadata": {},
     "output_type": "execute_result"
    }
   ],
   "source": [
    "bisekcija(osebe, \"Jana\")"
   ]
  },
  {
   "cell_type": "markdown",
   "id": "ea72c560",
   "metadata": {},
   "source": [
    "Na hitro preverimo, ali je Jana res na 10. mestu."
   ]
  },
  {
   "cell_type": "code",
   "execution_count": 4,
   "id": "53988d64",
   "metadata": {},
   "outputs": [
    {
     "data": {
      "text/plain": [
       "'Klara'"
      ]
     },
     "execution_count": 4,
     "metadata": {},
     "output_type": "execute_result"
    }
   ],
   "source": [
    "osebe[10]"
   ]
  },
  {
   "cell_type": "markdown",
   "id": "fc0c670d",
   "metadata": {},
   "source": [
    "Ekhm."
   ]
  },
  {
   "cell_type": "code",
   "execution_count": 5,
   "id": "f3002439",
   "metadata": {},
   "outputs": [
    {
     "data": {
      "text/plain": [
       "'Olga'"
      ]
     },
     "execution_count": 5,
     "metadata": {},
     "output_type": "execute_result"
    }
   ],
   "source": [
    "osebe[bisekcija(osebe, \"Nina\")]"
   ]
  },
  {
   "cell_type": "code",
   "execution_count": 6,
   "id": "6231d23c",
   "metadata": {},
   "outputs": [
    {
     "data": {
      "text/plain": [
       "'Berta'"
      ]
     },
     "execution_count": 6,
     "metadata": {},
     "output_type": "execute_result"
    }
   ],
   "source": [
    "osebe[bisekcija(osebe, \"Ana\")]"
   ]
  },
  {
   "cell_type": "markdown",
   "id": "a0b6454c",
   "metadata": {},
   "source": [
    "Naša `bisekcija` ne deluje čisto: za `1` prevelik indeks vrača!\n",
    "\n",
    "Ni bilo ponesreči. Še več, bilo je namerno. Zato: če imena ni, vrne indeks mesta, kjer bi bilo, če bi bilo. Oziroma, kamor ga vstaviti, če ga želimo vstaviti. Poglejte!"
   ]
  },
  {
   "cell_type": "code",
   "execution_count": 7,
   "id": "669dddff",
   "metadata": {},
   "outputs": [
    {
     "data": {
      "text/plain": [
       "1"
      ]
     },
     "execution_count": 7,
     "metadata": {},
     "output_type": "execute_result"
    }
   ],
   "source": [
    "bisekcija(osebe, \"Benjamin\")"
   ]
  },
  {
   "cell_type": "code",
   "execution_count": 8,
   "id": "8f76e81f",
   "metadata": {},
   "outputs": [
    {
     "data": {
      "text/plain": [
       "0"
      ]
     },
     "execution_count": 8,
     "metadata": {},
     "output_type": "execute_result"
    }
   ],
   "source": [
    "bisekcija(osebe, \"Amelija\")"
   ]
  },
  {
   "cell_type": "code",
   "execution_count": 9,
   "id": "315aa390",
   "metadata": {},
   "outputs": [
    {
     "data": {
      "text/plain": [
       "10"
      ]
     },
     "execution_count": 9,
     "metadata": {},
     "output_type": "execute_result"
    }
   ],
   "source": [
    "bisekcija(osebe, \"Katarina\")"
   ]
  },
  {
   "cell_type": "code",
   "execution_count": 10,
   "id": "a1837cbd",
   "metadata": {},
   "outputs": [
    {
     "data": {
      "text/plain": [
       "15"
      ]
     },
     "execution_count": 10,
     "metadata": {},
     "output_type": "execute_result"
    }
   ],
   "source": [
    "bisekcija(osebe, \"Žorža\")"
   ]
  },
  {
   "cell_type": "code",
   "execution_count": 11,
   "id": "44d0f00b",
   "metadata": {},
   "outputs": [
    {
     "data": {
      "text/plain": [
       "15"
      ]
     },
     "execution_count": 11,
     "metadata": {},
     "output_type": "execute_result"
    }
   ],
   "source": [
    "len(osebe)"
   ]
  },
  {
   "cell_type": "markdown",
   "id": "b3a53072",
   "metadata": {},
   "source": [
    "Vse je, kot mora biti. Če bi, recimo, vstavljali Katarino, bi morali napisati `osebe.insert(10, \"Katarina\")`."
   ]
  },
  {
   "cell_type": "markdown",
   "id": "0eaf4538",
   "metadata": {},
   "source": [
    "## Merjenje časovne zahtevnosti\n",
    "\n",
    "Merjenje časovne zahtevnosti bisekcije je nehvaležno delo, ker je tako hitra, da se bolj kot bisekcija sama poznajo drugi učinki - recimo to, kako deluje predpomnilnik procesorja, kaj v ozadju počne Python in podobno.\n",
    "\n",
    "Vseeno poskusimo: sestavili bomo različno dolge sezname -- od sto tisoč do pet milijonov elementov, potem pa iskali tisoč naključno izbranih števil. Tudi seznam števil, ki jih iščemo, bomo pripravili vnaprej, da čas, ki ga Python sestavi za izmišljanje naključnega števila ne bi slučajno prevladal nad časom bisekcije (ali pa imel vse pomemben prispevek k njemu).\n",
    "\n",
    "Za merjenje časa bomo uporabili razred `Stoparica`, ki je v modulu `stoparica` in je videti tako:\n",
    "\n",
    "```python\n",
    "from time import time\n",
    "\n",
    "class Stoparica:\n",
    "    def __init__(self):\n",
    "        self.zacetek = time()\n",
    "\n",
    "    def cas(self):\n",
    "        return time() - self.zacetek\n",
    "```"
   ]
  },
  {
   "cell_type": "code",
   "execution_count": 53,
   "id": "2fa94d40",
   "metadata": {},
   "outputs": [],
   "source": [
    "from random import random\n",
    "from stoparica import Stoparica\n",
    "\n",
    "N = 2 ** 60\n",
    "\n",
    "dolzine = [100_000, 200_000, 500_000, 1_000_000, 2_000_000, 5_000_000]\n",
    "casi = []\n",
    "for n in dolzine:\n",
    "    stevila = sorted(random() for _  in range(n))\n",
    "    iscemo = [random() for _ in range(1000)]\n",
    "    ura = Stoparica()\n",
    "    for s in iscemo:\n",
    "        bisekcija(stevila, s)\n",
    "    casi.append(ura.cas() / 1000)"
   ]
  },
  {
   "cell_type": "markdown",
   "id": "9678c924",
   "metadata": {},
   "source": [
    "Narišimo rezultat - čas v odvisnosti od dolžine seznama."
   ]
  },
  {
   "cell_type": "code",
   "execution_count": 54,
   "id": "16d9f1ff",
   "metadata": {},
   "outputs": [
    {
     "data": {
      "text/plain": [
       "[<matplotlib.lines.Line2D at 0x7fe6b337d250>]"
      ]
     },
     "execution_count": 54,
     "metadata": {},
     "output_type": "execute_result"
    },
    {
     "data": {
      "image/png": "[encoded data removed]",
      "text/plain": [
       "<Figure size 432x288 with 1 Axes>"
      ]
     },
     "metadata": {
      "needs_background": "light"
     },
     "output_type": "display_data"
    }
   ],
   "source": [
    "%matplotlib inline\n",
    "\n",
    "from matplotlib.pyplot import plot\n",
    "\n",
    "plot(dolzine, casi)"
   ]
  },
  {
   "cell_type": "markdown",
   "id": "9b31e5eb",
   "metadata": {},
   "source": [
    "Ta slika je lahko bolj ali manj posrečena, krivulja bolj ali manj monotona. Kakor imamo srečo.\n",
    "\n",
    "Primerjamo jo lahko z logaritmom. Če ne želimo komplicirati, pogledamo kar, kako bi tekla logaritemska krivulja, ki se konča v isti točki kot naša."
   ]
  },
  {
   "cell_type": "code",
   "execution_count": 59,
   "id": "d96cfbc2",
   "metadata": {},
   "outputs": [],
   "source": [
    "from math import log\n",
    "\n",
    "casi_log = [log(x) * casi[-1] / log(dolzine[-1]) for x in dolzine]"
   ]
  },
  {
   "cell_type": "code",
   "execution_count": 60,
   "id": "e33c8bde",
   "metadata": {},
   "outputs": [
    {
     "data": {
      "text/plain": [
       "[<matplotlib.lines.Line2D at 0x7fe6b8ca0370>]"
      ]
     },
     "execution_count": 60,
     "metadata": {},
     "output_type": "execute_result"
    },
    {
     "data": {
      "image/png": "[encoded data removed]",
      "text/plain": [
       "<Figure size 432x288 with 1 Axes>"
      ]
     },
     "metadata": {
      "needs_background": "light"
     },
     "output_type": "display_data"
    }
   ],
   "source": [
    "plot(dolzine, casi)\n",
    "plot(dolzine, casi_log)"
   ]
  },
  {
   "cell_type": "markdown",
   "id": "dcbab0e5",
   "metadata": {},
   "source": [
    "Krivulji sovpadata bolj ali pa manj, odvisno od sreče in kupa drugih dejavnikov. Skoraj gotovo pa se ta, ki kaže čas, najprej vzpenja hitreje, nato vedno počasneje - kot se mora, če naj bo vsaj približno logaritemska.\n",
    "\n",
    "Primerjajmo še bisekcijo in linearno iskanje. Tega moramo najprej še sprogramirati."
   ]
  },
  {
   "cell_type": "code",
   "execution_count": 61,
   "id": "6e1cb377",
   "metadata": {},
   "outputs": [],
   "source": [
    "def linearno(osebe, ime):\n",
    "    for i, x in enumerate(osebe):\n",
    "        if x > ime:\n",
    "            return i\n",
    "    return len(osebe)"
   ]
  },
  {
   "cell_type": "markdown",
   "id": "52af5345",
   "metadata": {},
   "source": [
    "Zdaj pa ju primerjajmo - a z bistveno krajšimi seznami, saj je linearno iskanje počasnejše in bi trajalo predolgo."
   ]
  },
  {
   "cell_type": "code",
   "execution_count": 62,
   "id": "ba7262ac",
   "metadata": {},
   "outputs": [
    {
     "data": {
      "text/plain": [
       "[<matplotlib.lines.Line2D at 0x7fe711ff3a90>]"
      ]
     },
     "execution_count": 62,
     "metadata": {},
     "output_type": "execute_result"
    },
    {
     "data": {
      "image/png": "[encoded data removed]",
      "text/plain": [
       "<Figure size 432x288 with 1 Axes>"
      ]
     },
     "metadata": {
      "needs_background": "light"
     },
     "output_type": "display_data"
    }
   ],
   "source": [
    "N = 2 ** 60\n",
    "\n",
    "dolzine = [10000, 20000, 40000, 100000]\n",
    "casi_bis = []\n",
    "casi_lin = []\n",
    "for n in dolzine:\n",
    "    stevila = sorted(random() for _  in range(n))\n",
    "    iscemo = [random() for _ in range(1000)]\n",
    "    \n",
    "    ura = Stoparica()\n",
    "    for s in iscemo:\n",
    "        bisekcija(stevila, s)\n",
    "    casi_bis.append(ura.cas() / 1000)\n",
    "    \n",
    "    ura = Stoparica()\n",
    "    for s in iscemo:\n",
    "        linearno(stevila, s)\n",
    "    casi_lin.append(ura.cas() / 1000)\n",
    "    \n",
    "plot(dolzine, casi_lin, \"o-\")\n",
    "plot(dolzine, casi_bis, \"o-\")"
   ]
  },
  {
   "cell_type": "markdown",
   "id": "0c2465fb",
   "metadata": {},
   "source": [
    "## Se bisekcija res splača?\n",
    "\n",
    "Ta je pa dobra. Če se splača? Saj smo videli graf: bisekcija ne vzame v primerjavi z linearnim iskanjem nič časa.\n",
    "\n",
    "Če iščem besedo v slovarju (takšnem, iz prejšnjega stoletja, na papirju), bom slovar menda odprl nekje na sredi (ali, če gre za besedo na črko T, pač nekje bližje koncu) in potem bom z razpolavljanjem prišel do prave strani in na njej do prave besede. Nisem še srečal nikogar, ki bi besedo na črko T iskal tako, da bi listal po slovarju od začetka do T-ja. (To še ne pomeni, da takšni ljudje ne obstajajo. Le srečamo jih redko, ker nimajo časa, da bi hodili okrog.)\n",
    "\n",
    "To je res. Vendar razmislimo o malo drugačni zgodbi.\n",
    "\n",
    "Premešajmo in ponovno razdelimo listke z imeni. Vsakič, ko dobi nekdo listek, naj gre pred tablo.\n",
    "\n",
    "Lahko Štefan zdaj išče Jano z bisekcijo? Aha! Ne, ker niso urejene!\n",
    "\n",
    "No, naj se pa uredijo, ne? Saj, to je tisto. Morajo se urediti. Koliko časa nam vzame urejanje? O tem, se bomo še veliko pogovarjali. Izkaže se, da ... več kot linearno. Če podvojimo število elementov, se čas urejanja več kot podvoji. Če torej postavimo na tehtnico linearno iskanje, ki zahteva linearen čas in, na drugo stran, bisekcijo, ki sicer zahteva samo logaritemskega, vendar moramo zanjo seznam predtem urediti, kar zahteva čas, ki je hujši od linearnega ... potem se bisekcija ne splača in konec.\n",
    "\n",
    "Hm, ne tako hitro. Bisekcije se res ne bi splačala, če bi Štefan iskal le Janino številko. Če ga danes zanima Jana, jutri pa Eva, je stvar drugačna. Urejamo enkrat za vselej. Če bomo naredili $m$ iskanj, bo čas pri linearnem iskanju sorazmeren $mn$, pri bisekciji pa $m\\log_2 n + n\\log n$ - $m\\log_2 n$ za $m$ bisekcij, še prej pa $n\\log n$ za urejanje $n$ elementov. (Uh, pravkar sem izdal časovno zahtevnost urejanja, $n\\log n$. Nisem pa še razkril vseh kart v zvezi z njim, brez skrbi!) Če velja $m > \\log n$, se pravi, če bo število iskanj ($m$) večje od logaritma števila elementov ($n$), je tudi $m\\log_2 n + n\\log n < mn$. No, to ni čisto res, a potrpite; o tem, kako se računa te stvari, se bomo še učili. Torej je kombinacija urejanja in bisekcije hitrejša od linearnega iskanja, čim vemo, da bomo potrebovali dovolj iskanj.\n",
    "\n",
    "A to je šele pol problema. Bisekcija se je tule rešila, druga polovica pa bo usodnejša. Kaj se zgodi, če pride nova punca? I, kaj, postaviti se mora na mesto, ki ji pripada. Že, že, a najprej ga mora najti, ne? Prav: gre lepo po vrsti, dokler ne pride do tiste, pred katero bi morala stati in se postavi na to mesto."
   ]
  },
  {
   "cell_type": "code",
   "execution_count": 66,
   "id": "d405230d",
   "metadata": {},
   "outputs": [],
   "source": [
    "def vstavi(s, x):\n",
    "    i = linearno(s, x)\n",
    "    s.insert(i, x)"
   ]
  },
  {
   "cell_type": "markdown",
   "id": "df8f1a2b",
   "metadata": {},
   "source": [
    "Izmerimo, kako hitra je ta zadeva."
   ]
  },
  {
   "cell_type": "code",
   "execution_count": 67,
   "id": "54bdad05",
   "metadata": {},
   "outputs": [
    {
     "data": {
      "text/plain": [
       "[<matplotlib.lines.Line2D at 0x7fe6bf930880>]"
      ]
     },
     "execution_count": 67,
     "metadata": {},
     "output_type": "execute_result"
    },
    {
     "data": {
      "image/png": "[encoded data removed]",
      "text/plain": [
       "<Figure size 432x288 with 1 Axes>"
      ]
     },
     "metadata": {
      "needs_background": "light"
     },
     "output_type": "display_data"
    }
   ],
   "source": [
    "def vstavi_n_elementov(n):\n",
    "    s = []\n",
    "    for i in range(n):\n",
    "        vstavi(s, random())\n",
    "        \n",
    "dolzine = [500, 1000, 5000, 10000, 20000, 30000]\n",
    "casi = []\n",
    "for dolzina in dolzine:\n",
    "    t = Stoparica()\n",
    "    vstavi_n_elementov(dolzina)\n",
    "    casi.append(t.cas())\n",
    "\n",
    "plot(dolzine, casi, \"o-\")"
   ]
  },
  {
   "cell_type": "markdown",
   "id": "ee584a33",
   "metadata": {},
   "source": [
    "Je to ravna črta ali ne? Za to obstaja zelo prepričljiv preskus (vsaj na domačem računalniku je odlično deloval; v predavalnici se te reči tipično sfižijo). Predpostavili bomo, da gre za parabolo, ki ima teme v izhodišču (če vstavimo 0 elementov, to vzame 0 časa) in skozi zadnjo točko na gornji krivulji. Enačba te parabole bi bila $y = a x^2$, se pravi `casi[i] = a ** 2 * dolzine[i]`. Če pogledamo le zadnjo točko, mora (tudi) zanjo veljati `casi[-1] = a ** 2 * dolzine[-1]`. Ker čase in dolžine poznamo, lahko izračunamo `a = casi[-1] // dolzine[-1] ** 2`, potem pa narišemo krivuljo `a ** 2 * dolzine[i]` in pogledamo, kako se ujame s `casi[i]`."
   ]
  },
  {
   "cell_type": "code",
   "execution_count": 68,
   "id": "e8e04431",
   "metadata": {},
   "outputs": [
    {
     "data": {
      "text/plain": [
       "[<matplotlib.lines.Line2D at 0x7fe7300f2f10>]"
      ]
     },
     "execution_count": 68,
     "metadata": {},
     "output_type": "execute_result"
    },
    {
     "data": {
      "image/png": "[encoded data removed]",
      "text/plain": [
       "<Figure size 432x288 with 1 Axes>"
      ]
     },
     "metadata": {
      "needs_background": "light"
     },
     "output_type": "display_data"
    }
   ],
   "source": [
    "a = casi[-1] / dolzine[-1] ** 2\n",
    "plot(dolzine, casi, \"b*-\")\n",
    "plot(dolzine, [a * d ** 2 for d in dolzine], \"g*-\")"
   ]
  },
  {
   "cell_type": "markdown",
   "id": "d8845863",
   "metadata": {},
   "source": [
    "Parabola se popolnoma prilega izmerjenim časom!\n",
    "\n",
    "Sicer pa to ni nič pričakovanega. Koliko časa bo naša funkcija v poprečju potrebovala, da sestavi seznam z $n$ elementi, je čisto lahko izračunati. Prejšnjič smo izračunali, za iskanje elementa v seznamu dolžine $n$ v poprečju potrebujemo $(n + 1) / 2$ operacij. Za iskanje njegovega mesta tudi. Ko vstavljamo $i$-ti element, je seznam dolg $i - 1$, torej bo iskanje vzelo $i / 2$ korakov. Za sestavljanje celotnega seznama z $n$ elementi bomo potrebovali $\\sum_{i = 1}^n i / 2$ operacij, to pa je $n(n + 1)/4 = 1/4 n^2 + 1 / 4 n$. Torej parabola. Enačba ima sicer tudi linearni člen, vendar ta pravzaprav ni vreden omemben: že pri $n = 5000$ znaša kvadratni člen"
   ]
  },
  {
   "cell_type": "code",
   "execution_count": 69,
   "id": "e819d4c4",
   "metadata": {},
   "outputs": [
    {
     "data": {
      "text/plain": [
       "6250000.0"
      ]
     },
     "execution_count": 69,
     "metadata": {},
     "output_type": "execute_result"
    }
   ],
   "source": [
    "1 / 4 * 5000 ** 2"
   ]
  },
  {
   "cell_type": "markdown",
   "id": "05cb1f8f",
   "metadata": {},
   "source": [
    "linearni pa"
   ]
  },
  {
   "cell_type": "code",
   "execution_count": 70,
   "id": "db04922e",
   "metadata": {},
   "outputs": [
    {
     "data": {
      "text/plain": [
       "1250.0"
      ]
     },
     "execution_count": 70,
     "metadata": {},
     "output_type": "execute_result"
    }
   ],
   "source": [
    "1 / 4 * 5000"
   ]
  },
  {
   "cell_type": "markdown",
   "id": "4a9da927",
   "metadata": {},
   "source": [
    "Linearni člen je toliko vreden omembe, kolikor bi se pritoževali, če bi po tem, ko vam nekdo podari 6,25 milijona evrov, država zaračunala 1250 evrov davka. (Tole si zapomnite, ker nam bo prišlo še prav. Ne zaradi evrov, to naj vas ne skrbi, temveč, ker bo tale razlika med kvadratnimi in linearnimi členi nekoč postala pomembna.)"
   ]
  },
  {
   "cell_type": "markdown",
   "id": "f3bfbf97",
   "metadata": {},
   "source": [
    "Znamo vstavljati hitreje? Seveda. Le mesto, kamor je potrebno vstaviti, poiščemo z bisekcijo namesto z linearnim iskanjem. (Mimogrede, da ne boste rekli, da goljufam: vse dolžine sem pomnožil z 10, ker je bisekcija toliko hitrejša, da si to lahko privoščim - in toliko hitrejša, da to pravzaprav moram storiti, da bodo moje meritve natančnejše.)"
   ]
  },
  {
   "cell_type": "code",
   "execution_count": 73,
   "id": "90803f4f",
   "metadata": {},
   "outputs": [
    {
     "data": {
      "text/plain": [
       "[<matplotlib.lines.Line2D at 0x7fe6bbabfdf0>]"
      ]
     },
     "execution_count": 73,
     "metadata": {},
     "output_type": "execute_result"
    },
    {
     "data": {
      "image/png": "[encoded data removed]",
      "text/plain": [
       "<Figure size 432x288 with 1 Axes>"
      ]
     },
     "metadata": {
      "needs_background": "light"
     },
     "output_type": "display_data"
    }
   ],
   "source": [
    "def vstavi(s, x):\n",
    "    i = bisekcija(s, x)\n",
    "    s.insert(i, x)\n",
    "        \n",
    "def vstavi_n_elementov(n):\n",
    "    s = []\n",
    "    for i in range(n):\n",
    "        vstavi(s, random())\n",
    "        \n",
    "dolzine = [5000, 10000, 50000, 100000, 200000, 300000]\n",
    "casi = []\n",
    "for dolzina in dolzine:\n",
    "    t = Stoparica()\n",
    "    vstavi_n_elementov(dolzina)\n",
    "    casi.append(t.cas())\n",
    "\n",
    "%matplotlib inline\n",
    "from pylab import plot\n",
    "\n",
    "plot(dolzine, casi, \"b*-\")"
   ]
  },
  {
   "cell_type": "markdown",
   "id": "3409a8b9",
   "metadata": {},
   "source": [
    "Hm?!?! Je to ravna črta ali parabola?"
   ]
  },
  {
   "cell_type": "code",
   "execution_count": 74,
   "id": "82c6c211",
   "metadata": {},
   "outputs": [
    {
     "data": {
      "text/plain": [
       "[<matplotlib.lines.Line2D at 0x7fe6bba75c40>]"
      ]
     },
     "execution_count": 74,
     "metadata": {},
     "output_type": "execute_result"
    },
    {
     "data": {
      "image/png": "[encoded data removed]",
      "text/plain": [
       "<Figure size 432x288 with 1 Axes>"
      ]
     },
     "metadata": {
      "needs_background": "light"
     },
     "output_type": "display_data"
    }
   ],
   "source": [
    "a = casi[-1] / dolzine[-1] ** 2\n",
    "plot(dolzine, casi, \"b*-\")\n",
    "plot(dolzine, [a * d ** 2 for d in dolzine], \"g*-\")"
   ]
  },
  {
   "cell_type": "markdown",
   "id": "a3e4ba69",
   "metadata": {},
   "source": [
    "Huh?! Parabola?!?! Od bisekcije bi pričakovali kaj boljšega ne? Nima bisekcija logaritemske časovne zahtevnosti? Dvakrat večja tabela - za eno enoto večji čas?\n",
    "\n",
    "Tole je vredno pomembnega novega razdelka."
   ]
  },
  {
   "cell_type": "markdown",
   "id": "a31ce158",
   "metadata": {},
   "source": [
    "## Skriti faktorji"
   ]
  },
  {
   "cell_type": "markdown",
   "id": "89c4f200",
   "metadata": {},
   "source": [
    "Najprej: bisekcija že ima logaritemsko zahtevnost, vendar tule n-krat ponovimo bisekcijo. Če bi $n$-krat ponovili bisekcijo na seznamu dolžine $n$, bi bilo število operacij približno $n \\ln n$.\n",
    "\n",
    "No, v resnici bisekcijo najprej naredimo na seznamu dolžine 0 (ta korak bomo spregledali, saj je $\\ln 0$ zoprna zadeva), nato na seznamu dolžine 1, dolžine 2 in tako naprej. Skupno število korakov bo torej $\\sum_{i=1}^n \\ln i$. Tega ne znam izračunati. Za silo pa znam integrirati in delal se bom, da je $\\sum_{i=1}^n \\ln i \\approx \\int_1^n \\ln i \\:di$.\n",
    "\n",
    "$$\\int_1^n \\ln i\\:di = \\left[i \\ln i - i\\right]_1^n = n\\ln n - n + 1$$\n",
    "\n",
    "Pri oni pesimistični oceni, $n\\ln n$ se torej niti nismo toliko ušteli. Tisti +1 je dokaj nepomemben, torej lahko vse skupaj zapišemo kot $n(\\ln n - 1)$, pa tudi -1 je dokaj nepomemben v primerjavi z $\\ln n$, če je le $n$ kolikor toliko velik. (Računalnikarji sicer pravijo, da za vsak $n$ velja, da je $\\ln n$ manjši od 50.) Brez posebnega pesimizma smemo torej reči, da je časovna zahtevnost vstavljanja z bisekcijo enaka $n\\ln n$.\n",
    "\n",
    "Problem je samo v tem, da ... ni. Kakšno obliko ima funkcija $n\\ln n$?"
   ]
  },
  {
   "cell_type": "code",
   "execution_count": 75,
   "id": "733c65e2",
   "metadata": {},
   "outputs": [
    {
     "data": {
      "text/plain": [
       "[<matplotlib.lines.Line2D at 0x7fe7202c7940>]"
      ]
     },
     "execution_count": 75,
     "metadata": {},
     "output_type": "execute_result"
    },
    {
     "data": {
      "image/png": "[encoded data removed]",
      "text/plain": [
       "<Figure size 432x288 with 1 Axes>"
      ]
     },
     "metadata": {
      "needs_background": "light"
     },
     "output_type": "display_data"
    }
   ],
   "source": [
    "from math import log\n",
    "\n",
    "plot(dolzine, [d * log(d) for d in dolzine], \"g*-\")"
   ]
  },
  {
   "cell_type": "markdown",
   "id": "a932f9d3",
   "metadata": {},
   "source": [
    "Funkcija $n\\ln n$ je skoraj linearna, ker se $\\ln n$ spreminja tako počasi. To, kar smo namerili zgoraj, pa ni linearno.\n",
    "\n",
    "Odkod \"kvadratnost\" namerjene funkcije?\n",
    "\n",
    "Funkcija `vstavi` kliče `bisekcijo` in `insert`. Če ni kriva `bisekcija` ... je kriv `insert`?"
   ]
  },
  {
   "cell_type": "code",
   "execution_count": 76,
   "id": "b7c72ea3",
   "metadata": {},
   "outputs": [
    {
     "data": {
      "text/plain": [
       "[<matplotlib.lines.Line2D at 0x7fe6bc4e2fd0>]"
      ]
     },
     "execution_count": 76,
     "metadata": {},
     "output_type": "execute_result"
    },
    {
     "data": {
      "image/png": "[encoded data removed]",
      "text/plain": [
       "<Figure size 432x288 with 1 Axes>"
      ]
     },
     "metadata": {
      "needs_background": "light"
     },
     "output_type": "display_data"
    }
   ],
   "source": [
    "def vstavi_n_elementov(n):\n",
    "    s = []\n",
    "    for i in range(n):\n",
    "        s.insert(0, 0)\n",
    "        \n",
    "dolzine = [5000, 10000, 50000, 100000, 200000, 300000]\n",
    "casi = []\n",
    "for dolzina in dolzine:\n",
    "    t = Stoparica()\n",
    "    vstavi_n_elementov(dolzina)\n",
    "    casi.append(t.cas())\n",
    "\n",
    "%matplotlib inline\n",
    "from pylab import plot\n",
    "\n",
    "plot(dolzine, casi, \"b*-\")"
   ]
  },
  {
   "cell_type": "markdown",
   "id": "f8052503",
   "metadata": {},
   "source": [
    "Tale program ničesar išče, si ni izmišljuje nobenih naključnih števil, temveč samo $n$-krat vstavi 0 na 0-to mesto seznama. In čas, ki ga potrebuje za vstavljanje, je spet kvadraten. Dobljene meritve se popolnoma prilegajo paraboli!"
   ]
  },
  {
   "cell_type": "code",
   "execution_count": 77,
   "id": "2ce981e3",
   "metadata": {},
   "outputs": [
    {
     "data": {
      "text/plain": [
       "[<matplotlib.lines.Line2D at 0x7fe6bbc57040>]"
      ]
     },
     "execution_count": 77,
     "metadata": {},
     "output_type": "execute_result"
    },
    {
     "data": {
      "image/png": "[encoded data removed]",
      "text/plain": [
       "<Figure size 432x288 with 1 Axes>"
      ]
     },
     "metadata": {
      "needs_background": "light"
     },
     "output_type": "display_data"
    }
   ],
   "source": [
    "a = casi[-1] / dolzine[-1] ** 2\n",
    "plot(dolzine, casi, \"b*-\")\n",
    "plot(dolzine, [a * d ** 2 for d in dolzine], \"g*-\")"
   ]
  },
  {
   "cell_type": "markdown",
   "id": "1d3673d9",
   "metadata": {},
   "source": [
    "Še enkrat, da bomo prepričani, da vsi vemo, o čem govorimo: imamo zanko, ki $n$-krat ponovi insert. In čas, ki ga potrebuje za to, ni sorazmeren $n$-ju, temveč $n^2$. Težava je torej v metodi `insert`! Če bi ta potrebovala enak čas ne glede na dolžino seznama (ali, kot bi, ne preveč presenetljivo, rekli temu \"namesto, da bi `insert` zahtevala *konstanten čas*), zahteva čas, ki je linearno odvisen od dolžine seznama. Le to lahko namreč razloži, zakaj $n$ ponovitev `insert`a zahteva čas sorazmeren $n\\times n$.\n",
    "\n",
    "Tale dokaz je bil nekoliko indirekten. Čas enega insert-a je tako kratek, da ga je težko izmeriti na tako grob način, kot merimo tu. Pač pa lahko naredimo še malo drugačen poskus, ki bo vrgel dodatno luč na to, kar smo pravkar odkrili. Namesto da dodajamo element na prvo mesto v seznamu, ga dodajajmo na konec. Zamenjajmo `s.insert(0, 0)` z `s.append(0)`"
   ]
  },
  {
   "cell_type": "code",
   "execution_count": 78,
   "id": "fb69365b",
   "metadata": {},
   "outputs": [
    {
     "data": {
      "text/plain": [
       "[<matplotlib.lines.Line2D at 0x7fe6bc56a3a0>]"
      ]
     },
     "execution_count": 78,
     "metadata": {},
     "output_type": "execute_result"
    },
    {
     "data": {
      "image/png": "[encoded data removed]",
      "text/plain": [
       "<Figure size 432x288 with 1 Axes>"
      ]
     },
     "metadata": {
      "needs_background": "light"
     },
     "output_type": "display_data"
    }
   ],
   "source": [
    "def vstavi_n_elementov(n):\n",
    "    s = []\n",
    "    for i in range(n):\n",
    "        s.append(0)\n",
    "        \n",
    "dolzine = [100000, 500000, 1000000, 2000000, 3000000]\n",
    "casi = []\n",
    "for dolzina in dolzine:\n",
    "    t = Stoparica()\n",
    "    vstavi_n_elementov(dolzina)\n",
    "    casi.append(t.cas())\n",
    "\n",
    "%matplotlib inline\n",
    "from pylab import plot\n",
    "\n",
    "plot(dolzine, casi, \"b*-\")"
   ]
  },
  {
   "cell_type": "markdown",
   "id": "2801c425",
   "metadata": {},
   "source": [
    "Tule sem podeseteril vse dolžine, pa še vseeno izpustil prvo, saj je `append` tako hiter, da meritve sicer ne bi bile natančne. Tako pa vidimo: $n$ `append`ov zahteva linearen čas, torej je čas, ki ga zahteva `append` konstanten, neodvisen od dolžine seznama. Torej je `insert` iz nekega pač še neznanega razloga počasnejši od `append`a? Uh, niti ne. Vsaj ne nujno. Dodajajmo na konec, vendar z `insert`om."
   ]
  },
  {
   "cell_type": "code",
   "execution_count": 79,
   "id": "e0743277",
   "metadata": {},
   "outputs": [
    {
     "data": {
      "text/plain": [
       "[<matplotlib.lines.Line2D at 0x7fe6bc457700>]"
      ]
     },
     "execution_count": 79,
     "metadata": {},
     "output_type": "execute_result"
    },
    {
     "data": {
      "image/png": "[encoded data removed]",
      "text/plain": [
       "<Figure size 432x288 with 1 Axes>"
      ]
     },
     "metadata": {
      "needs_background": "light"
     },
     "output_type": "display_data"
    }
   ],
   "source": [
    "def vstavi_n_elementov(n):\n",
    "    s = []\n",
    "    for i in range(n):\n",
    "        s.insert(len(s), 0)\n",
    "        \n",
    "dolzine = [100000, 500000, 1000000, 2000000, 3000000]\n",
    "casi = []\n",
    "for dolzina in dolzine:\n",
    "    t = Stoparica()\n",
    "    vstavi_n_elementov(dolzina)\n",
    "    casi.append(t.cas())\n",
    "\n",
    "%matplotlib inline\n",
    "from pylab import plot\n",
    "\n",
    "plot(dolzine, casi, \"b*-\")"
   ]
  },
  {
   "cell_type": "markdown",
   "id": "89b7d1c2",
   "metadata": {},
   "source": [
    "Spet linearno?! Čas, ki ga potrebujemo za `s.insert(0, 0)` je linearno sorazmeren dolžini seznama, čas, ki ga potrebujemo za `s.insert(len(s), 0)` pa je enak ne glede na dolžino seznama.\n",
    "\n",
    "Zdaj lahko najbrž uganemo, za kaj gre: ko vstavljamo v seznam, mora Python, točneje, metoda `insert`, premakniti vse elemente, ki so desno od mesta, na katerega vstavljamo, za en element v desno, da naredi prostor za novega. Če vstavljamo na začetek, mora premakniti vseh `len(s)` elementov. Če vstavljamo na konec, mu ni potrebno premakniti ničesar. V poprečju mora premakniti `len(s) / 2` elementov.\n",
    "\n",
    "Koliko časa torej vzame vstavljanje, pri katerem smo mesto novega elementa določali z bisekcijo?"
   ]
  },
  {
   "cell_type": "code",
   "execution_count": 80,
   "id": "f08407e1",
   "metadata": {},
   "outputs": [],
   "source": [
    "def vstavi(s, x):\n",
    "    i = bisekcija(s, x, f)\n",
    "    s.insert(i, x)"
   ]
  },
  {
   "cell_type": "markdown",
   "id": "5ae3b6de",
   "metadata": {},
   "source": [
    "Funkcija je sestavljena iz dveh korakov. Prvi je bisekcija, katere zahtevnost je sorazmerna $\\ln n$. Drugi je vstavljanje, katerega trajanje je sorazmerno $n$ (točneje, $n/2$, vendar je ta faktor nepomemben - dvakrat daljši seznam v vsakem primeru pomeni dvakrat daljši čas). Ker je $\\ln n$ zanemarljiv proti $n$, bomo rekli, da je čas, ki ga potrebuje funkcija `vstavi` sorazmeren dolžini seznama. Z bisekcijo torej nismo pridobili ničesar: časovna zahtevnost je še vedno enaka, kot je bila, ko smo namesto `bisekcija` poklicali `linearno_iskanje`.\n",
    "\n",
    "Kako je sprogramirana metoda `insert`? Metoda `insert` ni napisana v Pythonu, temveč v C-ju (ker je Python, vsaj različica, ki jo uporabljamo mi, napisana v C-ju). Vem, da ne govorite C-ja, vendar ga najbrž razumete vsej toliko kot Čeh bolgarščino, zato bom pokazal košček, ki je tule relevanten za nas:"
   ]
  },
  {
   "cell_type": "raw",
   "id": "2028b9a7",
   "metadata": {},
   "source": [
    "for (i==n; --i >= where; )\n",
    "    items[+1] = items[i]\n",
    "items[where] = v"
   ]
  },
  {
   "cell_type": "markdown",
   "id": "4f909079",
   "metadata": {},
   "source": [
    "`items` je seznam, v katerega vstavljamo, `v` je element, ki ga želimo vstaviti, `n` je dolžina seznama in `where` je mesto, kamor vstavljamo. Tale koda, prevedena v Python, bi bila takšna:"
   ]
  },
  {
   "cell_type": "code",
   "execution_count": 43,
   "id": "1e8c5c32",
   "metadata": {
    "collapsed": true
   },
   "outputs": [],
   "source": [
    "def insert(items, v, where):\n",
    "    for i in range(n, where, -1):\n",
    "        items[i + 1] = items[i]\n",
    "    items[where] = v"
   ]
  },
  {
   "cell_type": "markdown",
   "id": "e2106e8a",
   "metadata": {},
   "source": [
    "Čas, ki ga potrebuje ta funkcija, je najočitneje sorazmeren razliki `n - where` - tolikokrat se mora namreč obrniti zanka, da prestavi vse elemente, ki jih je potrebno prestaviti. (Funkcija v tej obliki sicer ne deluje, ker nismo podaljšali seznama. Podaljševanje seznama nas tule ne zanima, saj bi zanj morali razumeti veliko več.)"
   ]
  },
  {
   "cell_type": "markdown",
   "id": "ea6a5df0",
   "metadata": {},
   "source": [
    "(((Na tem mestu lahko poskusimo vajo, v kateri skupina sedi (urejeno) na stolih in se hoče nekdo nov usesti vmes. Na konec dodamo nov stol. \"Sedci\" so pasivni in naredijo, kar jim ta, ki vodi vse skupaj (računalnik...) reče.)))"
   ]
  },
  {
   "cell_type": "markdown",
   "id": "7482201f",
   "metadata": {},
   "source": [
    "### Pythonova zahrbtnost"
   ]
  },
  {
   "cell_type": "markdown",
   "id": "fc8b1317",
   "metadata": {},
   "source": [
    "Tule nas malo tepe, da uporabljamo Python. Kako naj vemo, kako je narejen `insert`? Odkod naj vemo, da je njegova zahtevnost linearna, zahtevnost `append`a pa konstantna? S tem bomo pač morali živeti. Občasno bom prepovedal uporabljati kakšno funkcijo; načelno bomo uporabljali le metode, ki imajo v Pythonu konstantno zahtevnost. Pri seznamih so varni le indeksiranje (brez rezin!), funkcija `len` ter metodi `append` in `clear`. Vse ostalo ima (lahko) linearno zahtevnost, `sort` pa še hujšo.\n",
    "\n",
    "Po drugi strani pa se moramo zavedati še nečesa: Python je veliko počasnejši od C-ja. Rekli smo, da je funkcija vstavi sestavljena iz dveh korakov."
   ]
  },
  {
   "cell_type": "code",
   "execution_count": 81,
   "id": "42afa090",
   "metadata": {},
   "outputs": [],
   "source": [
    "def vstavi(s, x):\n",
    "    i = bisekcija(s, x, f)\n",
    "    s.insert(i, x)"
   ]
  },
  {
   "cell_type": "markdown",
   "id": "8bbcbeac",
   "metadata": {},
   "source": [
    "pri čemer je bisekcija takšna:"
   ]
  },
  {
   "cell_type": "code",
   "execution_count": 83,
   "id": "2ddd7c74",
   "metadata": {},
   "outputs": [],
   "source": [
    "def bisekcija(s, x):\n",
    "    od = 0\n",
    "    do = len(s)\n",
    "    while od < do:\n",
    "        sreda = (od + do) // 2\n",
    "        if f(s[sreda], x):\n",
    "            do = sreda\n",
    "        else:\n",
    "            od = sreda + 1\n",
    "    return od"
   ]
  },
  {
   "cell_type": "markdown",
   "id": "da185fd0",
   "metadata": {},
   "source": [
    "in `insert` takšen:"
   ]
  },
  {
   "cell_type": "raw",
   "id": "15cebd33",
   "metadata": {},
   "source": [
    "for (i==n; --i >= where; )\n",
    "    items[+1] = items[i]\n",
    "items[where] = v"
   ]
  },
  {
   "cell_type": "markdown",
   "id": "c2e07a68",
   "metadata": {},
   "source": [
    "Bisekcija ima, smo rekli, čas izvajanja sorazmeren logaritmu $n$, `insert` pa ima čas sorazmeren $n$, torej je, teoretično gledano bistveno počasnejši. Po drugi strani je bisekcija napisana v počasnem Pythonu, insert v hitrem C-ju. Da bi bilo tisto v Cju res počasnejše od Pythona, mora biti $n$ res velik. Kot sem pošteno povedal, sem pri bisekciji podeseteril velikosti seznamov. Drži, da je bilo to zaradi natančnosti merjenja. Po drugi strani pa bi pri manjših n-jih prišla do izraza (počasnost) bisekcije. Konkretno\n",
    "\n",
    "$$t(\\mbox{vstavi}) = t(\\mbox{bisekcija}) + t(\\mbox{insert}) \\approx a \\ln n + b n$$\n",
    "\n",
    "$a$ in $b$ sem dopisal zato, da bom lahko rekel, da je Python, recimo, tisočkrat počasnejši od C-ja, torej imamo\n",
    "\n",
    "$$1000 \\times \\ln n + 1 \\times n$$\n",
    "\n",
    "Če je $n$ dovolj velik, je $1000\\ln n$ zanemarljiv proti $n$ in lahko rečemo $1000\\ln n + n \\approx n$. Če $n$ ni dovolj velik, pa bo prevladal prvi člen $1000\\ln n$ in $1000\\ln n + n \\approx 1000\\ln n$, kar je sorazmerno $\\ln n$."
   ]
  }
 ],
 "metadata": {
  "kernelspec": {
   "display_name": "Python 3 (ipykernel)",
   "language": "python",
   "name": "python3"
  },
  "language_info": {
   "codemirror_mode": {
    "name": "ipython",
    "version": 3
   },
   "file_extension": ".py",
   "mimetype": "text/x-python",
   "name": "python",
   "nbconvert_exporter": "python",
   "pygments_lexer": "ipython3",
   "version": "3.9.7"
  }
 },
 "nbformat": 4,
 "nbformat_minor": 5
}
