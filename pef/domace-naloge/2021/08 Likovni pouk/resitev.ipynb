{
 "cells": [
  {
   "cell_type": "markdown",
   "id": "6bc21404",
   "metadata": {},
   "source": [
    "**Ta naloga se ocenjuje in je ne smete izpustiti.**\n",
    "\n",
    "Za vsako oceno je potrebno narediti tudi vse, kar je zahtevano za nižje ocene.\n",
    "\n",
    "\n",
    "Imamo množico konveksnih večkotnikov. Na primer takšno:\n",
    "\n",
    "<img src=\"data:image/.png;base64,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\"/>\n",
    "\n",
    "Like predstavimo s seznamom seznamov koordinat (terk).\n",
    "\n",
    "```python\n",
    "liki = [\n",
    "    [(1, 2), (3, 2), (2, 5)],\n",
    "    [(1, 7), (2, 9), (3, 13), (2, 14), (1, 13)],\n",
    "    [(1, 16), (1, 17), (3, 19), (3, 17)],\n",
    "    [(4, 5), (4, 7), (5, 9), (9, 7), (8, 5)],\n",
    "    [(4, 10), (5, 10), (4, 11)],\n",
    "    [(6, 14), (6, 11), (8, 13), (8, 15)],\n",
    "    [(9, 17), (9, 16), (8, 16), (8, 17)],\n",
    "    [(5, 19), (4, 17), (5, 16), (6, 16), (7, 17), (8, 19), (7, 20), (6, 20)],\n",
    "    [(12, 6), (12, 4), (14, 4), (14, 6)],\n",
    "    [(11, 9), (12, 7), (14, 8), (13, 10)],\n",
    "    [(14, 13), (13, 15), (11, 12), (13, 12)],\n",
    "    [(15, 14), (16, 14), (16, 15), (15, 15)],\n",
    "    [(13, 17), (13, 16), (16, 16)],\n",
    "    [(13, 18), (16, 18), (15, 19), (14, 19)],\n",
    "    [(18, 2), (20, 5), (17, 6)],\n",
    "    [(17, 8), (19, 11), (18, 12), (17, 11)],\n",
    "    [(17, 15), (18, 15), (19, 16), (20, 18), (19, 19), (18, 19), (17, 18)]\n",
    "]\n",
    "```\n",
    "\n",
    "Koordinate oglišč niso nujno cela števila.\n",
    "\n",
    "Lik začnemo opisovati s poljubnim ogliščem; oglišča naštejemo, kot si sledijo v smeri enaki ali nasprotni smeri urinega kazalca."
   ]
  },
  {
   "cell_type": "markdown",
   "id": "a12f64d3",
   "metadata": {},
   "source": [
    "## Za oceno 6\n",
    "\n",
    "- Napiši funkcijo `najvec(liki)`, ki prejme takšen seznam in vrne najpogostejše število oglišč. Za gornji primer vrne 4, ker je največ štirikotnikov. Če je enako pogostih več, naj vrne manjše število; če bi bilo trikotnikov toliko kot štirikotnikov, bi vrnil 3, ne 4.\n",
    "\n",
    "- Napiši funkcijo `ploscina3(trikotnik)`, ki prejme oglišča trikotnika (na primer `[(1, 2), (3, 2), (2, 5)]`) in vrne njegovo ploščino. ([Pomoč](https://math.stackexchange.com/questions/516219/finding-out-the-area-of-a-triangle-if-the-coordinates-of-the-three-vertices-are).)\n",
    "\n",
    "- Napiši funkcijo `ploscina(lik)`, ki prejme oglišča poljubnega konveksnega večkotnika in vrne njegovo ploščino. Ploščino konveksnega večkotnika lahko izračunamo tako, da si izberemo poljubno točko in seštejemo ploščine vseh trikotnikov, ki vsebujejo to točko in par sosednjih oglišč. Idejo kaže razrezani lik levo zgoraj. (Če koga zanima, si lahko ogleda, [kako gre to v splošnem](https://en.wikipedia.org/wiki/Shoelace_formula)).\n",
    "\n",
    "- Napiši funkcijo `skupna_ploscina(liki)`, ki prejme seznam likov (npr. vseh likov na gornjhi sliki) in vrne njihovo skupno ploščino. Liki se ne prekrivajo (oz. se ti s tem ni potrebno ukvarjati).\n",
    "\n",
    "### Rešitev\n",
    "\n",
    "Prvo funkcijo se lepo počasi napiše tako, da najprej sestavimo slovar, v katerega štejemo, koliko n-kotnikov imamo; ključ je število kotov, pripadajoča vrednost pove, koliko takšnih imamo. Potem pa z novo zanko prehodimo slovar in vrnemo ključ, ki mu je prirejena največja vrednost."
   ]
  },
  {
   "cell_type": "code",
   "execution_count": 1,
   "id": "5358d23d",
   "metadata": {},
   "outputs": [],
   "source": [
    "def najvec(liki):\n",
    "    stevci = defaultdict(int)\n",
    "    for lik in liki:\n",
    "        stevci[len(lik)] += 1\n",
    "\n",
    "    naj = None\n",
    "    for oglisc, stevilo in sorted(stevci.items()):\n",
    "        if stevilo > stevci[naj]:\n",
    "            naj = oglisc\n",
    "    return naj"
   ]
  },
  {
   "cell_type": "markdown",
   "id": "0542407e",
   "metadata": {},
   "source": [
    "Izračunati ploščino trikotnika je trivialno. To funkcijo ste morali v bistvu zapisati zato, da je bil ta del v ločeni - in ločeno testirani funkciji - tako da bi se morebitne napake v formuli pokazale že tu in ne šele v naslednji, bolj zapleteni funkciji.\n",
    "\n",
    "Vseeno je nekoliko poučno, kako tule razpakiramo argument."
   ]
  },
  {
   "cell_type": "code",
   "execution_count": 2,
   "id": "c152d04f",
   "metadata": {},
   "outputs": [],
   "source": [
    "def ploscina3(oglisca):\n",
    "    (x0, y0), (x1, y1), (x2, y2) = oglisca\n",
    "    return abs(((x1 - x0) * (y2 - y0) - (x2 - x0) * (y1 - y0)) / 2)"
   ]
  },
  {
   "cell_type": "markdown",
   "id": "a23d20bc",
   "metadata": {},
   "source": [
    "Ploščino poligona zdaj izračunamo tako, da seštevamo ploščine trikotnikov med prvo točko in pari zaporednih točk."
   ]
  },
  {
   "cell_type": "code",
   "execution_count": 3,
   "id": "a80247ec",
   "metadata": {},
   "outputs": [],
   "source": [
    "def ploscina(lik):\n",
    "    p = 0\n",
    "    for t1, t2 in zip(lik[1:], lik[2:]):\n",
    "        p += ploscina3((lik[0], t1, t2))\n",
    "    return p"
   ]
  },
  {
   "cell_type": "markdown",
   "id": "023ed615",
   "metadata": {},
   "source": [
    "Seveda gre tule tudi v eni vrstici, s `sum`, a zdaj pustimo.\n",
    "\n",
    "Skupna ploščina je pač vsota vseh ploščin."
   ]
  },
  {
   "cell_type": "code",
   "execution_count": 4,
   "id": "21b90de7",
   "metadata": {},
   "outputs": [],
   "source": [
    "def skupna_ploscina(liki):\n",
    "    p = 0\n",
    "    for lik in liki:\n",
    "        p += ploscina(lik)\n",
    "    return p"
   ]
  },
  {
   "cell_type": "markdown",
   "id": "e4984cb6",
   "metadata": {},
   "source": [
    "Vsaj tole pa napišimo še krajše. Kogar zanima, naj pogleda funkcijo `map`, da bo razumel, kako tole deluje."
   ]
  },
  {
   "cell_type": "code",
   "execution_count": 5,
   "id": "10bbd34d",
   "metadata": {},
   "outputs": [],
   "source": [
    "def skupna_ploscina(liki):\n",
    "    return sum(map(ploscina, liki))"
   ]
  },
  {
   "cell_type": "markdown",
   "id": "065d4855",
   "metadata": {},
   "source": [
    "## Za oceno 7\n",
    "\n",
    "- Napiši funkcijo `zapisi(ime_datoteke, liki)`, ki prejme ime datoteke in seznam likov. Funkcija v datoteko `ime_datoteke` zapiše koordinate vseh oglišč likov v enakem vrstnem redu, v katerem so podani v seznamih, s tem da prvo oglišče ponovi, ko se lik konča. Klic\n",
    "\n",
    "    ```python\n",
    "    zapisi(\"foo.txt\",\n",
    "        [[(1, 1), (2, 2), (5, 0)],\n",
    "         [(10, 4), (11, 4), (12, 5), (12, 8), (12, 4)]])\n",
    "    ```\n",
    "\n",
    "    v datoteko z imenom `foo.txt` zapiše\n",
    "\n",
    "    ```\n",
    "    1 1\n",
    "    2 2\n",
    "    5 0\n",
    "    1 1\n",
    "    10 4\n",
    "    11 4\n",
    "    12 5\n",
    "    12 8\n",
    "    12 4\n",
    "    10 4\n",
    "    ```\n",
    "\n",
    "    Da je lika konec torej povemo s ponovljenim ogliščem (v gornjem primeru `1 1` in `10 4`).\n",
    "    Za potrebe te naloge smeš predpostaviti, da so koordinate cela števila.\n",
    "\n",
    "    Pazi na morebitne odvečne presledke. Edini presledek je med koordinatama!\n",
    "\n",
    "- Napiši funkcijo `preberi(ime_datoteke)`, ki prejme ime datoteke z liki, shranjenimi v gornji obliki. Funkcija vrne seznam likov, kot smo ga vajeni iz prejšnjih funkcij.\n",
    "\n",
    "### Rešitev\n",
    "\n",
    "Domačo nalogo ste dobili, preden smo se učili oblikovanja nizov. Funkcijo `zapisi` bi zato napisali tako:"
   ]
  },
  {
   "cell_type": "code",
   "execution_count": 6,
   "id": "830eda1f",
   "metadata": {},
   "outputs": [],
   "source": [
    "def zapisi(ime_datoteke, liki):\n",
    "    dat = open(ime_datoteke, \"w\")\n",
    "    for lik in liki:\n",
    "        for x, y in lik + lik[:1]:\n",
    "            dat.write(str(x) + \" \" + str(y) + \"\\n\")"
   ]
  },
  {
   "cell_type": "markdown",
   "id": "2316866c",
   "metadata": {},
   "source": [
    "`lik` + `lik[:1]`?! Takole: prvo točko moramo ponoviti. Za to bi lahko za zanko dodali še en `dat.write`. Lahko pa jo kar prištejemo k seznamu. Upam, da ste se najprej zmotili in napisali `lik + lik[0]`; to na konec seznama `lik` doda vsebino seznama `lik[0]`. Če je `lik` enak `[(1, 2), (3, 4), (5, 6)]` je `lik + [lik[0]]` enak `[(1, 2), (3, 4), (5, 6), 1, 2]`. Pravilno je `lik + [lik[0]]` - na konec seznama `lik` moramo pripeti seznam, ki vsebuje prvi element `lik`. Ali pa tako kot piše zgoraj: `lik + lik[:1]`, se je tudi `lik[:1]` ravno seznam s prvo točko `lik`.\n",
    "\n",
    "Če funkcijo pisali po predavanjih, na katerih smo spoznali oblikovanje nizov, ste zadnjo vrstico, upam, zapisali krajše."
   ]
  },
  {
   "cell_type": "code",
   "execution_count": 7,
   "id": "5c1132b1",
   "metadata": {},
   "outputs": [],
   "source": [
    "def zapisi(ime_datoteke, liki):\n",
    "    dat = open(ime_datoteke, \"w\")\n",
    "    for lik in liki:\n",
    "        for x, y in lik + lik[:1]:\n",
    "            dat.write(f\"{x} {y}\\n\")"
   ]
  },
  {
   "cell_type": "markdown",
   "id": "5b512d7b",
   "metadata": {},
   "source": [
    "Branje je mogoče sprogramirati na kup načinov. Ena izmed študentk je naredila nekaj v tem slogu."
   ]
  },
  {
   "cell_type": "code",
   "execution_count": 8,
   "id": "fab369a2",
   "metadata": {},
   "outputs": [],
   "source": [
    "def preberi(ime_datoteke):\n",
    "    tocke = []\n",
    "    for vrstica in open(ime_datoteke):\n",
    "        x, y = vrstica.split()\n",
    "        tocke.append((int(x), int(y)))\n",
    "\n",
    "    liki = []\n",
    "    while tocke:\n",
    "        for i in range(1, len(tocke)):\n",
    "            if tocke[i] == tocke[0]:\n",
    "                break\n",
    "        liki.append(tocke[:i])\n",
    "        del tocke[:i + 1]\n",
    "    return liki"
   ]
  },
  {
   "cell_type": "markdown",
   "id": "8a2b8b9c",
   "metadata": {},
   "source": [
    "V prvem delu preberemo koordinate vseh točk. Tu ni posebne znanosti, le na oklepaje v klicu `append` bodite pozorni. Imamo oklepaje za klic funkcije, sledi pa še en par oklepajev, ker dodajamo terko.\n",
    "\n",
    "Bolj zabaven je drugi del. Najprej poglejmo notranjo zanko, `for`. Ta poišče točko, ki je enaka prvi. (To bi lahko naredili še na kup drugih načinov; lahko bi uporabili zanko `while`, ali, z nekaj previdnosti, celo `tocke.index`.) Najdevši jo, doda v `liki` seznam vseh točk do ponovljene, `i`-te in iz `tocke` pobriše vse točke do, vključno, `i`-te. To ponavlja, dokler ne zmanjka točk.\n",
    "\n",
    "V tretjem letniku boste izvedeli, da je ta funkcija počasna (seveda se ta počasnost začne poznati šele, ko je točk res veliko) zaradi brisanja. Boljše je sprogramirati tako, da si zapomnimo, do kje smo že prišli. Takole:"
   ]
  },
  {
   "cell_type": "code",
   "execution_count": 9,
   "id": "0014ff24",
   "metadata": {},
   "outputs": [],
   "source": [
    "def preberi(ime_datoteke):\n",
    "    tocke = []\n",
    "    for vrstica in open(ime_datoteke):\n",
    "        x, y = vrstica.split()\n",
    "        tocke.append((int(x), int(y)))\n",
    "\n",
    "    liki = []\n",
    "    zacetek = 0\n",
    "    while zacetek != len(tocke):\n",
    "        for konec in range(zacetek + 1, len(tocke)):\n",
    "            if tocke[konec] == tocke[zacetek]:\n",
    "                break\n",
    "        liki.append(tocke[zacetek:konec])\n",
    "        zacetek = konec + 1\n",
    "    return liki"
   ]
  },
  {
   "cell_type": "markdown",
   "id": "a9d27976",
   "metadata": {},
   "source": [
    "Rešitev je torej podobna kot prej, le da imamo namesto `0` zacetek. Pa brisanja, seveda ni več.\n",
    "\n",
    "Namesto \n",
    "\n",
    "```python\n",
    "        x, y = vrstica.split()\n",
    "        tocke.append((int(x), int(y)))\n",
    "```\n",
    "\n",
    "lahko pišemo tudi\n",
    "\n",
    "```python\n",
    "        tocke.append(tuple(int(x) for x in vrstica.split())\n",
    "```\n",
    "\n",
    "To deluje za poljubnodimenzionalne točke, pa še ... kaj pa vem, niti ni krajše, samo \"resni\" programerji morda raje delamo tako.\n",
    "\n",
    "Zdaj pa še rešitev v slogu tega, kar bomo počeli v nalogi za oceno 8: namesto da bi najprej prebrali vse točke, jih kar sproti zlagamo v lik."
   ]
  },
  {
   "cell_type": "code",
   "execution_count": 10,
   "id": "be7d666f",
   "metadata": {},
   "outputs": [],
   "source": [
    "def preberi(ime_datoteke):\n",
    "    liki = []\n",
    "    prva = None\n",
    "    for vrstica in open(ime_datoteke):\n",
    "        tocka = tuple(float(x) for x in vrstica.split())\n",
    "        if prva == None:\n",
    "            prva = tocka\n",
    "            liki.append([tocka])\n",
    "        elif tocka == prva:\n",
    "            prva = None\n",
    "        else:\n",
    "            liki[-1].append(tocka)\n",
    "    return liki"
   ]
  },
  {
   "cell_type": "markdown",
   "id": "758584e6",
   "metadata": {},
   "source": [
    "Tu spremenljivka `prva` hrani prvo točko.\n",
    "\n",
    "- Če je enaka `None`, začenjamo novi lik; zapomnimo si prvo točko, na katero naletimo in v `liki` dodamo nov seznam, ki vsebuje tole točko.\n",
    "- Če je trenutna točka enaka prvi, je lik zaključen; v `liki` ne dodajamo ničesar, samo `prva` postavimo na `None`, da se ve, da bomo v naslednji vrstici datoteke začeli nov lik.\n",
    "- Sicer pa je trenutna točka pač nova točka v liku. Dodamo jo v lik, ki ga trenutno sestavaljamo, torej zadnji lik (`lik[-1]`), se pravi `lik[-1].append(tocka)`."
   ]
  },
  {
   "cell_type": "markdown",
   "id": "a8d41a64",
   "metadata": {},
   "source": [
    "## Za oceno 8\n",
    "\n",
    "- Napiši funkcijo `ploscina_dat(ime_datoteke)`, ki prejme datoteko z opisi likov in vrne seznam, ki vsebuje njihovo skupno ploščino.\n",
    "\n",
    "    To bi bilo očitno trivialno:\n",
    "\n",
    "    ```python\n",
    "    def ploscina_dat(ime_datoteke):\n",
    "        return skupna_ploscina(preberi(ime_datoteke))\n",
    "    ```\n",
    "\n",
    "    Zato se mora funkcija držati omejitve: funkcija ne sme sestaviti nobenega seznama -- niti posredno, tako da kliče `preberi`, ki sestavi takšen seznam. Z drugimi besedami, funkcija mora lepo brati vozlišča in jih premetavati po spremenljivkah ter seštevati ploščine trikotnikov. (Če želiš, smeš sestaviti seznam, ki je dolg največ tri elemente.)\n",
    "\n",
    "    Upoštevaj, da imajo večkotniki lahko poljubno število vozlišč - lahko naletite tudi na stokotnik.\n",
    "\n",
    "    **Pazi:** testi te omejitve ne preverjajo. Sam(a) skrbi zanjo.\n",
    "    \n",
    "### Rešitev\n",
    "\n",
    "Imeli bomo spremenljivke `prva`, `druga` in `tretja`, ki bodo predstavljale tri točke.\n",
    "\n",
    "Funkcija teče podobno kot zadnja funkcija za branje datoteke.\n",
    "- Če je trenutna točka enaka prvi, je lik končan; `prva`, `druga` in `tretja` postavimo na `None`.\n",
    "- Če je trenutna točka enaka `None`, začenjamo nov `lik`: točko si zapomnimo kot prvo.\n",
    "- Če trenutna točka ni `None`, druga pa je `None`, si trenutno točko zapomnimo kot drugo.\n",
    "- Sicer pa:\n",
    "\n",
    "    - Če je tretja točka `None`, je trenutna točka tretja.\n",
    "    - Sicer pa smo prej že imeli tri točke in smo zdaj naleteli na četrto (ali peto ali šesto ...). Tisto, kar je bila prej `tretja` točka je zdaj druga, trenutno pa si zapomnimo kot tretjo.\n",
    "    \n",
    "    Nato pa, v vsakem primeru, povečamo ploščino."
   ]
  },
  {
   "cell_type": "code",
   "execution_count": 11,
   "id": "bac10e4a",
   "metadata": {},
   "outputs": [],
   "source": [
    "def ploscina_dat(ime_datoteke):\n",
    "    prva = druga = tretja = None\n",
    "    ploscina = 0\n",
    "    for vrstica in open(ime_datoteke):\n",
    "        tocka = [float(x) for x in vrstica.split()]\n",
    "        if prva == tocka:\n",
    "            prva = druga = tretja = None\n",
    "        elif prva == None:\n",
    "            prva = tocka\n",
    "        elif druga == None:\n",
    "            druga = tocka\n",
    "        else:\n",
    "            if tretja == None:\n",
    "                tretja = tocka\n",
    "            else:\n",
    "                druga, tretja = tretja, tocka\n",
    "            ploscina += ploscina3((prva, druga, tretja))\n",
    "    return ploscina"
   ]
  },
  {
   "cell_type": "markdown",
   "id": "6f1a6c33",
   "metadata": {},
   "source": [
    "Funkcija je malenkost krajša, če imamo namesto spremenljivk `prva`, `druga` in `tretja` kar seznam. Nove točke dodajamo tako, da vzamemo prvo točko (če obstaja), zadnjo (če obstaja) in novo."
   ]
  },
  {
   "cell_type": "code",
   "execution_count": 12,
   "id": "b48e759d",
   "metadata": {},
   "outputs": [],
   "source": [
    "def ploscina_dat(ime_datoteke):\n",
    "    trikotnik = []\n",
    "    ploscina = 0\n",
    "    for vrstica in open(ime_datoteke):\n",
    "        tocka = [float(x) for x in vrstica.split()]\n",
    "        if trikotnik and trikotnik[0] == tocka:\n",
    "            trikotnik = []\n",
    "        else:\n",
    "            trikotnik = trikotnik[:1] + trikotnik[-1:] + [tocka]\n",
    "            if len(trikotnik) == 3:\n",
    "                ploscina += ploscina3(trikotnik)\n",
    "    return ploscina"
   ]
  },
  {
   "cell_type": "markdown",
   "id": "4d393465",
   "metadata": {},
   "source": [
    "Kdor bo pozorno prebral, bo opazil, da sta `trikotnik[:1]` in `trikotnik[-1:]` lahko ena in ista točka. Ta funkcija upošteva tudi trikotnik, ki dvakrat vsebuje prvo točko lika in nato drugo. S tem ne bo sitnosti, saj je njegova ploščina tako ali tako 0."
   ]
  },
  {
   "cell_type": "markdown",
   "id": "2957bc6f",
   "metadata": {},
   "source": [
    "## Za oceno 9\n",
    "\n",
    "Oceno 9 bo dobil, kdor bo lepo sprogramiral vse do ocene 8.\n",
    "\n",
    "## Za oceno 10\n",
    "\n",
    "Med sestavljanjem domače naloge dežuje. Če bi sijalo sonce in bi bila ura točno poldan in bi stali točno na ekvatorju, pa bi liki metali sence. Narisane so na dnu slike.\n",
    "\n",
    "- Napiši funkcijo `dolzina_senc(liki)`, ki vrne skupno dolžino senc.\n",
    "\n",
    "Funkcija ni zelo težka, če se je pametno lotite. Vzemite jo kot uganko. Če se zatakne, napišite mail. Meni, ne svojemu prijatelju, ki študira na FRI ali FMF. :)\n",
    "\n",
    "\n",
    "### Rešitev\n",
    "\n",
    "Najprej gremo čez like in poberemo le koordinate `x`. Nato sestavimo seznam, ki vsebuje le najmanjši in največji `x` za vsak lik ter ga uredimo. Tako dobimo seznam intervalov, ki predstavljajo začetek in konec sence vsakega lika.\n",
    "\n",
    "Sledi združevanje senc. Gremo čez sence in za vsako pogledamo, ali se začne še preden se je končala senca. Če je tako, zamenjamo to senco z novo senco. Začetek nove sence je tam kot prej, konec pa je tam, kjer je bolj desni konec od teh dve senc. Lahko se namreč zgodi, da se druga senca nadaljuje čez prejšnjo ali pa se konča že pred njo - torej tako, da je druga popolnoma vsebovana v prvi.\n",
    "\n",
    "Ko so sence združene, če seštejemo njihove dolžine."
   ]
  },
  {
   "cell_type": "code",
   "execution_count": 13,
   "id": "f6d5d980",
   "metadata": {},
   "outputs": [],
   "source": [
    "def dolzina_senc(liki):\n",
    "    xs = [[x for x, _ in lik] for lik in liki]\n",
    "    sence = sorted([min(x), max(x)] for x in xs)\n",
    "\n",
    "    i = 1\n",
    "    while i < len(sence):\n",
    "        if sence[i][0] < sence[i - 1][1]:\n",
    "            sence[i - 1][1] = max(sence[i][1], sence[i - 1][1])\n",
    "            del sence[i]\n",
    "        else:\n",
    "            i += 1\n",
    "    \n",
    "    return sum(y - x for x, y in sence)"
   ]
  }
 ],
 "metadata": {
  "kernelspec": {
   "display_name": "Python 3.9.7 ('prog')",
   "language": "python",
   "name": "python397jvsc74a57bd0efdfebb62dde8af20ba97e4212844c44d9aae6d04f5e7088771ade454bd9bfd1"
  },
  "language_info": {
   "codemirror_mode": {
    "name": "ipython",
    "version": 3
   },
   "file_extension": ".py",
   "mimetype": "text/x-python",
   "name": "python",
   "nbconvert_exporter": "python",
   "pygments_lexer": "ipython3",
   "version": "3.9.7"
  }
 },
 "nbformat": 4,
 "nbformat_minor": 5
}
