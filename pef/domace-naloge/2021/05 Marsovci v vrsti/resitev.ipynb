{
 "cells": [
  {
   "cell_type": "markdown",
   "id": "e9242f35",
   "metadata": {},
   "source": [
    "# Iskanje Marsovcev\n",
    "\n",
    "Naloga se navezuje na [iskanje Marsovcev](https://github.com/janezd/predavanja/blob/master/pef/domace-naloge/2021/02%20NLP/resitev.ipynb) izpred treh tednov. Nekatere naloge so enake, druge drugačne, bistvo pa je, da vse funkcije delujejo tako, da naloge rešimo z uporabo izpeljanih seznamov, množic, generatorjev... Vse funkcije smejo torej vsebovati le `return` z ustreznim izrazom. Ničesar pred tem. V dodatnem delu pa lahko funkcijo začnete s klicem funkcije `vsebovanost`. Glej vzorec v testih."
   ]
  },
  {
   "cell_type": "markdown",
   "id": "67c82ced",
   "metadata": {},
   "source": [
    "<img src=\"data:image/.png;base64,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\"/>"
   ]
  },
  {
   "cell_type": "code",
   "execution_count": 1,
   "id": "bba22e31",
   "metadata": {},
   "outputs": [],
   "source": [
    "def vsebovanost(krogi):\n",
    "    vsebuje = defaultdict(list)\n",
    "    vsebovan_v = defaultdict(list)\n",
    "    for krog0 in krogi:\n",
    "        for krog1 in krogi:\n",
    "            x0, y0, r0 = krog0\n",
    "            x1, y1, r1 = krog1\n",
    "            if r0 > r1 and (x1 - x0) ** 2 + (y1 - y0) ** 2 < r0 ** 2:\n",
    "                vsebuje[krog0].append(krog1)\n",
    "                vsebovan_v[krog1].append(krog0)\n",
    "    return vsebuje, vsebovan_v"
   ]
  },
  {
   "cell_type": "markdown",
   "id": "0395dd3f",
   "metadata": {},
   "source": [
    "## Obvezni del\n",
    "\n",
    "- `povrsina(krogi)` vrne skupno površino (= vsoto površin) vseh krogov.\n",
    "- `vecjih_od(krogi, n)` vrne število krogov, katerih polmer je večji ali enak `n`.\n",
    "- `sredisca_med(krogi, x0, y0, x1, y1)` vrne množico trojk (x, y, r), ki predstavljajo kroge, kateri središča ležijo znotraj pravokotnika, katerega levo gornje in desno spodnje oglišče sta (x0, y0) in (x1, y1). (Predpostaviti smeš x0 < y0 in x1 < y1).\n",
    "- `naj_polmer(krogi)` vrne največji polmer kroga v seznamu `krogi`.\n",
    "\n",
    "### Rešitev\n",
    "\n",
    "#### `povrsina`\n",
    "\n",
    "Površina je vsota `pi * r ** 2` za vsak `r` iz seznama krogov."
   ]
  },
  {
   "cell_type": "code",
   "execution_count": 2,
   "id": "7cead97c",
   "metadata": {},
   "outputs": [],
   "source": [
    "from math import pi\n",
    "\n",
    "def povrsina(krogi):\n",
    "    return sum(pi * r ** 2 for x, y, r in krogi)"
   ]
  },
  {
   "cell_type": "markdown",
   "id": "6f1adf5e",
   "metadata": {},
   "source": [
    "Ne prezrite, da nismo pisali oglatih oklepajev. Funkciji `sum` lahko podamo tudi generator, zatorej ni potrebno sestavljati seznama.\n",
    "\n",
    "Matematično nadarjeni opazijo še, da se da `pi` izpostaviti."
   ]
  },
  {
   "cell_type": "code",
   "execution_count": 3,
   "id": "7efe5a78",
   "metadata": {},
   "outputs": [],
   "source": [
    "def povrsina(krogi):\n",
    "    return pi * sum(r ** 2 for x, y, r in krogi)"
   ]
  },
  {
   "cell_type": "markdown",
   "id": "4ff9574a",
   "metadata": {},
   "source": [
    "#### `vecjih_od`\n",
    "\n",
    "Sestavimo seznam polmerov, večjih od `n` in vrnemo število njegovih elementov."
   ]
  },
  {
   "cell_type": "code",
   "execution_count": 4,
   "id": "87452f6e",
   "metadata": {},
   "outputs": [],
   "source": [
    "def vecjih_od(krogi, n):\n",
    "    return len([r for x, y, r in krogi if r >= n])"
   ]
  },
  {
   "cell_type": "markdown",
   "id": "1f5ed120",
   "metadata": {},
   "source": [
    "Namesto seznama polmerov bi lahko sestavili tudi seznam česarkoli drugega, recimo, seznam števil 42."
   ]
  },
  {
   "cell_type": "code",
   "execution_count": 5,
   "id": "09692e74",
   "metadata": {},
   "outputs": [],
   "source": [
    "def vecjih_od(krogi, n):\n",
    "    return len([42 for x, y, r in krogi if r >= n])"
   ]
  },
  {
   "cell_type": "markdown",
   "id": "a37eae0f",
   "metadata": {},
   "source": [
    "Bolj inspirirana je tale rešitev."
   ]
  },
  {
   "cell_type": "code",
   "execution_count": 6,
   "id": "3155429d",
   "metadata": {},
   "outputs": [],
   "source": [
    "def vecjih_od(krogi, n):\n",
    "    return sum(r >= n for x, y, r in krogi)"
   ]
  },
  {
   "cell_type": "markdown",
   "id": "606546f0",
   "metadata": {},
   "source": [
    "Sestavimo generator, ki vrača `True` za vsak polmer večji ali enak `n` in `False` za manjše. To seštejemo. Ker je `True` isto kot `1` in `False` isto kot `0`, bo `sum` vrnil število `True`-jev.\n",
    "\n",
    "#### sredisca_med\n",
    "\n",
    "Tole je podobno kot prej, le da naj bi vračali množico."
   ]
  },
  {
   "cell_type": "code",
   "execution_count": 7,
   "id": "5a222433",
   "metadata": {},
   "outputs": [],
   "source": [
    "def sredisca_med(krogi, x0, y0, x1, y1):\n",
    "    return {(x, y, r) for x, y, r in krogi if x0 <= x <= x1 and y0 <= y <= y1}"
   ]
  },
  {
   "cell_type": "markdown",
   "id": "62fc372e",
   "metadata": {},
   "source": [
    "Poglejte pogoje: `x0 <= x <= x1`. V Pythonu lahko nizamo operatorje in ni potrebno pisati `x >= x0 and `x <= x1`."
   ]
  },
  {
   "cell_type": "markdown",
   "id": "6696bb63",
   "metadata": {},
   "source": [
    "#### naj_polmer\n",
    "\n",
    "Zakaj sem dal najlažjo nalogo na konec?"
   ]
  },
  {
   "cell_type": "code",
   "execution_count": 8,
   "id": "57afd2c1",
   "metadata": {},
   "outputs": [],
   "source": [
    "def naj_polmer(krogi):\n",
    "    return max(r for x, y, r in krogi)"
   ]
  },
  {
   "cell_type": "markdown",
   "id": "479c5cbd",
   "metadata": {},
   "source": [
    "## Dodatni del\n",
    "\n",
    "- Pravilo je enako kot pred tremi tedni\n",
    "\n",
    "    - Krog, ki vsebuje dva kroga, tadva pa ne vsebujeta drugih krogov, je ptič.\n",
    "    - Krog, ki vsebuje več kot dva kroga, ki ne vsebujejo drugih krogov, je letalo.\n",
    "    - Vsi ostali krogi so marsovci.\n",
    "\n",
    "    Ta pravila se seveda nanašajo na zunanje kroge, torej kroge, ki niso vsebovani v nobenem drugem krogu.\n",
    "\n",
    "    Napiši funkcije `ptici(krogi)`, `letala(krogi)` in `marsovci(krogi)`, ki vrnejo sezname koordinate središč vseh ptičev, letal in marsovskih ladij.\n",
    " \n",
    "    Na začetku funkcije smeš poklicati `vsebovanost`, kot je že nakazano v datoteki s testi.\n",
    "\n",
    "    Pred tremi tedni so testi sestavili velike sisteme krogov. Tokrat jih ne, torej ne bo prehudo, če bodo nekatere funkcije malo počasnejše.\n",
    "    \n",
    "### Rešitev\n",
    "\n",
    "Krog je ptič, če \n",
    "\n",
    "- je zunanji (ne nastopa v `vsebovan_v`),\n",
    "- vsebuje dva kroga (`krog in vsebuje and len(vsebuje[krog]) == 2`)\n",
    "- in tadva, vsebovana kroga ne vsebujeta drugih krogov (ne nastopata v `vsebuje`)."
   ]
  },
  {
   "cell_type": "code",
   "execution_count": 9,
   "id": "4959c0ce",
   "metadata": {},
   "outputs": [],
   "source": [
    "def ptici(krogi):\n",
    "    vsebuje, vsebovan_v = vsebovanost(krogi)\n",
    "    return {krog[:2] for krog in krogi\n",
    "            if krog not in vsebovan_v\n",
    "            and krog in vsebuje and len(vsebuje[krog]) == 2\n",
    "            and vsebuje[krog][0] not in vsebuje and vsebuje[krog][1] not in vsebuje}"
   ]
  },
  {
   "cell_type": "markdown",
   "id": "5c3ed7e3",
   "metadata": {},
   "source": [
    "Krog je letalo, če\n",
    "\n",
    "- je zunanji (ne nastopa v vsebovan_v),\n",
    "- vsebuje kaj krogov, vendar ne točno dveh (`krog in vsebuje and len(vsebuje[krog]) != 2`)\n",
    "- za vse te, vsebovane kroga velja, da ne vsebujejo drugih krogov."
   ]
  },
  {
   "cell_type": "code",
   "execution_count": 10,
   "id": "c9615474",
   "metadata": {},
   "outputs": [],
   "source": [
    "def letala(krogi):\n",
    "    vsebuje, vsebovan_v = vsebovanost(krogi)\n",
    "    return {krog[:2] for krog in krogi\n",
    "            if krog not in vsebovan_v\n",
    "            and krog in vsebuje and len(vsebuje[krog]) != 2\n",
    "            and all(vkrog not in vsebuje for vkrog in vsebuje[krog])}"
   ]
  },
  {
   "cell_type": "markdown",
   "id": "d92300d7",
   "metadata": {},
   "source": [
    "Krog je marsovec, če\n",
    "\n",
    "- je zunanji\n",
    "- ne vsebuje drugih krogv ali pa kateri od vsebovanih krogov vsebuje druge kroge."
   ]
  },
  {
   "cell_type": "code",
   "execution_count": 11,
   "id": "0a930a07",
   "metadata": {},
   "outputs": [],
   "source": [
    "def marsovci(krogi):\n",
    "    vsebuje, vsebovani = vsebovanost(krogi)\n",
    "    return {krog[:2] for krog in krogi\n",
    "            if krog not in vsebovani and\n",
    "            (krog not in vsebuje\n",
    "             or any(vkrog in vsebuje for vkrog in vsebuje[krog]))}"
   ]
  },
  {
   "cell_type": "markdown",
   "id": "448e6add",
   "metadata": {},
   "source": [
    "## Še bolj dodatni del\n",
    "\n",
    "Tole ni težko, morda je celo lažje od dodatnega dela.\n",
    "\n",
    "Napiši funkciji\n",
    "\n",
    "    - `notranji(krogi, krog)`, ki vrne množico krogov, ki se nahaja znotraj podanega.\n",
    "    - `je_zunanji(krogi, krogi)`, ki pove (`True` ali `False`) ali je podani krog zunanji ali ne.\n",
    "\n",
    "Za tidve funkciji ni testov. Pač pa se lahko, ko ju napišeš, znebiš funkcije `vsebovani` in iz funkcij `ptici`, `letala` in `krogi` kličeš tidve funkciji.\n",
    "\n",
    "### Rešitev"
   ]
  },
  {
   "cell_type": "code",
   "execution_count": 12,
   "id": "65cefe9c",
   "metadata": {},
   "outputs": [],
   "source": [
    "def znotraj(krogi, krog):\n",
    "    return {(x, y, r) for x, y, r in krogi\n",
    "            if krog[2] > r and (x - krog[0]) ** 2 + (y - krog[1]) ** 2 < krog[2] ** 2}\n",
    "\n",
    "def je_zunanji(krogi, krog):\n",
    "    return not any(krog[2] < r and (x - krog[0]) ** 2 + (y - krog[1]) ** 2 < r ** 2 for x, y, r in krogi)\n"
   ]
  }
 ],
 "metadata": {
  "kernelspec": {
   "display_name": "Python 3 (ipykernel)",
   "language": "python",
   "name": "python3"
  },
  "language_info": {
   "codemirror_mode": {
    "name": "ipython",
    "version": 3
   },
   "file_extension": ".py",
   "mimetype": "text/x-python",
   "name": "python",
   "nbconvert_exporter": "python",
   "pygments_lexer": "ipython3",
   "version": "3.9.7"
  }
 },
 "nbformat": 4,
 "nbformat_minor": 5
}
