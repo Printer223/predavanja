{
 "cells": [
  {
   "cell_type": "markdown",
   "id": "8537e28b",
   "metadata": {},
   "source": [
    "Imamo seznam tež nekih paketov, ki jih je potrebno odnesti, recimo `[5, 3, 8, 1, 2, 3, 5, 4, 2, 4]`. Vsi nosači so enako močni; znano je, koliko si more vsak naložiti. Recimo `9`.\n",
    "\n",
    "Prišel bo prvi nosač; vzel bo paketa s težo 5 in 3, preskočil paket s težo 8 (5 + 3 + 8 bi bilo preveč), vzel paket s težo 1 in potem preskočil vse ostale, saj že nosi 9.\n",
    "\n",
    "Drugi nosač vzame paket s težo 8 ... in potem nobenega več, ker bi vsak dodatni paket presegel dovoljeno težo 9.\n",
    "\n",
    "Tretji nosač pobere pakete s težami 2, 3 in 4; 5, ki je bil vmes, preskoči.\n",
    "\n",
    "Četrti nosač vzame paketa 5 in 2.\n",
    "\n",
    "Peti nosač vzame paket s težo 4.\n",
    "\n",
    "Za drug primer vzemimo pakete `[5, 3, 4, 6]`, nosilnost nosačev je spet 9. Čeprav je skupna teža vseh paketov 18, potrebujemo tri nosače - ker smo nerodni pri obremenjevanju. Prvi pobere paketa 5 in 3, zato ne more pobrati nobenega več. Drugi pobere 4. Tretji pobere 6. Če bi bili pametnejši, bi prvi resda lahko pobral 5 in 4, drugi pa 3 in 6, vendar pač ne delimo po takšnem postopku.\n",
    "\n",
    "### Obvezna naloga\n",
    "\n",
    "Napiši funkcijo `nosaci(paketi, nosilnost)`, ki prejme seznam tež paketov in največjo možno obremenitev nosača. Funkcija vrne potrebno število nosačev - za gornja primera je to 5 oziroma 3.\n",
    "\n",
    "### Dodatna naloga\n",
    "\n",
    "Napiši funkcijo `razporedi(paketi, nosilnost)`, ki vrne seznam seznamov paketov, ki jih nosijo nosači. Za prvi primer vrne `[[5, 3, 1], [8], [2, 3, 4], [5, 2], [4]]`, za drugega pa `[[5, 3], [4], [6]]`.\n",
    "\n",
    "### Nasvet\n",
    "\n",
    "Eden od načinov reševanja naloge je, da si predstavljaš, da vsak nosač bodisi vzame paket, bodisi ga da v nek drug seznam, recimo mu `kup`. Ko konča izbiranje, rečemo, da so `paketi` tisto, kar je ostalo na kupu.\n",
    "\n",
    "Drug način, ki bo za vas morda težji, je, da iz seznama izbrišete (recimo z `del`) paket, ki ga nosač vzame. Če se naloge lotite na ta način in ne bo delalo, priporočam, da stalno izpisujete teže paketov, za katere se nosač odloča, ali bi ga vzel ali ne. Na ta način vam bo jasno, zakaj funkcija ne deluje, kot bi morala, in jo boste morda znali popraviti.\n",
    "\n",
    "## Rešitev\n",
    "\n",
    "Nalogo bomo rešili na oba načina, ki ju nasvetuje nasvet. Najprej naredimo z ločenim kupom."
   ]
  },
  {
   "cell_type": "code",
   "execution_count": 6,
   "id": "1d7f0a68",
   "metadata": {},
   "outputs": [],
   "source": [
    "def nosaci(paketi, nosilnost):\n",
    "    nosacev = 0\n",
    "    while paketi:\n",
    "        nosacev += 1\n",
    "        zavrnjeni = []\n",
    "        nosi = 0\n",
    "        for paket in paketi:\n",
    "            if nosi + paket <= nosilnost:\n",
    "                nosi += paket\n",
    "            else:\n",
    "                zavrnjeni.append(paket)\n",
    "        paketi = zavrnjeni\n",
    "    return nosacev"
   ]
  },
  {
   "cell_type": "markdown",
   "id": "7cd09a6e",
   "metadata": {},
   "source": [
    "Šteli bomo nosače (`nosacev = 0`). Vsak krog zanke `while` bo ustrezal nalaganju enega nosača, torej povečamo število nosačev. Pripravimo kup, na katerega bomo nalagali pakete, ki jih bo nosač zavrnil (`zavrnjeni = []`) in spremenljivko, v kateri bo pisalo, koliko bremena že nosi (`nosi = 0`).\n",
    "\n",
    "Potem gremo z zanko `for` čez pakete. Za vsakega preverimo, ali mu ga smemo dodati (`nosi + paket <= nosilnost`) in ga, če je tako, dodamo (`nosi += paket`). Sicer ga prestavimo na kup zavrnjeni.\n",
    "\n",
    "Končavši zanko `for`, razglasimo zavrnjene za nove pakete, ki jih bo pregledoval naslednji nosač (`paketi = zavrnjeni`).\n",
    "\n",
    "Deluje? Mora."
   ]
  },
  {
   "cell_type": "code",
   "execution_count": 7,
   "id": "d9e031bc",
   "metadata": {},
   "outputs": [
    {
     "data": {
      "text/plain": [
       "5"
      ]
     },
     "execution_count": 7,
     "metadata": {},
     "output_type": "execute_result"
    }
   ],
   "source": [
    "nosaci([5, 3, 8, 1, 2, 3, 5, 4, 2, 4], 9)"
   ]
  },
  {
   "cell_type": "code",
   "execution_count": 8,
   "id": "86431609",
   "metadata": {},
   "outputs": [
    {
     "data": {
      "text/plain": [
       "3"
      ]
     },
     "execution_count": 8,
     "metadata": {},
     "output_type": "execute_result"
    }
   ],
   "source": [
    "nosaci([5, 3, 4, 6], 9)"
   ]
  },
  {
   "cell_type": "markdown",
   "id": "a6892198",
   "metadata": {},
   "source": [
    "Drugi način je z brisanjem iz seznama."
   ]
  },
  {
   "cell_type": "code",
   "execution_count": 15,
   "id": "8bcd8567",
   "metadata": {},
   "outputs": [],
   "source": [
    "def nosaci(paketi, nosilnost):\n",
    "    nosacev = 0\n",
    "    paketi = paketi.copy()\n",
    "    while paketi:\n",
    "        nosacev += 1\n",
    "        nosi = 0\n",
    "        i = 0\n",
    "        while i < len(paketi):\n",
    "            if nosi + paketi[i] <= nosilnost:\n",
    "                nosi += paketi.pop(i)\n",
    "            else:\n",
    "                i += 1\n",
    "    return nosacev"
   ]
  },
  {
   "cell_type": "markdown",
   "id": "2e53ee9c",
   "metadata": {},
   "source": [
    "Seznam paketov na začetku skopiramo, saj bomo iz njega brisali in spreminjanje seznama, ki smo ga dobili kot argument, je (običajno) prepovedano.\n",
    "\n",
    "Notranjo zanko nadomestimo z `while`. Spremenljivka `i` bo indeks, ki bo šel čez pakete. Če paket vzamemo, v `nosi` prištejemo njegovo težo in ga pobrišemo. Tu pride prav metoda `pop(i)`, ki istočasno vrne vrednost `i`-tega elementa in ga odstrani. V tem primeru `i`-ja ne povečamo, saj bo na `i`-to mesto prišel drug paket. Če nosač paketa ne vzame, pa povečamo `i`."
   ]
  },
  {
   "cell_type": "code",
   "execution_count": 16,
   "id": "d9e0eedf",
   "metadata": {},
   "outputs": [
    {
     "data": {
      "text/plain": [
       "5"
      ]
     },
     "execution_count": 16,
     "metadata": {},
     "output_type": "execute_result"
    }
   ],
   "source": [
    "nosaci([5, 3, 8, 1, 2, 3, 5, 4, 2, 4], 9)"
   ]
  },
  {
   "cell_type": "code",
   "execution_count": 17,
   "id": "56e81998",
   "metadata": {},
   "outputs": [
    {
     "data": {
      "text/plain": [
       "3"
      ]
     },
     "execution_count": 17,
     "metadata": {},
     "output_type": "execute_result"
    }
   ],
   "source": [
    "nosaci([5, 3, 4, 6], 9)"
   ]
  },
  {
   "cell_type": "markdown",
   "id": "373e2937",
   "metadata": {},
   "source": [
    "Nekaterim je bilo bolj všeč, da so namesto teže, ki jo trenutno nosi nosač, beležili težo, ki si jo še sme naložiti. (Tehnično gledano je to celo hitrejše, v praksi bo prihranek minimalen.) V tem primeru namesto `nosi = 0` pišemo `zmore = nosilnost`, namesto `nosi + paketi[i] <= nosilnost` imamo `paketi[i] <= zmore` in namesto `nosti += paketi.pop(i)` imamo `zmore -= paketi.pop(i)`. Prihranili smo eno seštevanje. Prav. V bistvu lepo."
   ]
  },
  {
   "cell_type": "markdown",
   "id": "8149286a",
   "metadata": {},
   "source": [
    "Druga izboljšava je bila najprej rešiti dodatno nalogo in potem preprosto vrniti število podseznamov seznama, ki ga vrne ta, dodatna funkcija."
   ]
  },
  {
   "cell_type": "markdown",
   "id": "b98089ae",
   "metadata": {},
   "source": [
    "### Rešitev dodatne naloge"
   ]
  },
  {
   "cell_type": "markdown",
   "id": "5ff3fe92",
   "metadata": {},
   "source": [
    "Dodatna naloga ni bila bistveno težja od obvezne. Mogoče jo je bilo celo lažje reševati, saj je rezultat zgovornejši in boljše vidimo, kaj se dogaja.\n",
    "\n",
    "Rešujemo jo lahko na oba gornja načina. Če je bila rešitev obvezne naloge takšna:\n",
    "\n",
    "```python\n",
    "def nosaci(paketi, nosilnost):\n",
    "    nosacev = 0\n",
    "    while paketi:\n",
    "        nosacev += 1\n",
    "        zavrnjeni = []\n",
    "        nosi = 0\n",
    "        for paket in paketi:\n",
    "            if nosi + paket <= nosilnost:\n",
    "                nosi += paket\n",
    "            else:\n",
    "                zavrnjeni.append(paket)\n",
    "        paketi = zavrnjeni\n",
    "    return nosacev\n",
    "```\n",
    "\n",
    "je rešitev dodatne le malenkost drugačna."
   ]
  },
  {
   "cell_type": "code",
   "execution_count": 21,
   "id": "854d116c",
   "metadata": {},
   "outputs": [],
   "source": [
    "def razporedi(paketi, nosilnost):\n",
    "    razpored = []\n",
    "    while paketi:\n",
    "        zavrnjeni = []\n",
    "        nosi = []\n",
    "        for paket in paketi:\n",
    "            if sum(nosi) + paket <= nosilnost:\n",
    "                nosi.append(paket)\n",
    "            else:\n",
    "                zavrnjeni.append(paket)\n",
    "        paketi = zavrnjeni\n",
    "        razpored.append(nosi)\n",
    "    return razpored"
   ]
  },
  {
   "cell_type": "markdown",
   "id": "92b149b3",
   "metadata": {},
   "source": [
    "Namesto da bi šteli nosače in torej začeli z `nosacev = 0`, imamo `razpored = []`. Spremenljivka `nosi` ni več skupna teža paketov temveč seznam njih. V pogoju imamo zato `sum(nosi)` in ko paket naložimo, ne prištejemo teže, temveč z `append` dodamo paket. In po zanki `for` v seznam `razpored` dodamo (pod)seznam s paketi tega nosača."
   ]
  },
  {
   "cell_type": "code",
   "execution_count": 22,
   "id": "a1220706",
   "metadata": {},
   "outputs": [
    {
     "data": {
      "text/plain": [
       "[[5, 3, 1], [8], [2, 3, 4], [5, 2], [4]]"
      ]
     },
     "execution_count": 22,
     "metadata": {},
     "output_type": "execute_result"
    }
   ],
   "source": [
    "razporedi([5, 3, 8, 1, 2, 3, 5, 4, 2, 4], 9)"
   ]
  },
  {
   "cell_type": "code",
   "execution_count": 23,
   "id": "86af2c62",
   "metadata": {},
   "outputs": [
    {
     "data": {
      "text/plain": [
       "[[5, 3], [4], [6]]"
      ]
     },
     "execution_count": 23,
     "metadata": {},
     "output_type": "execute_result"
    }
   ],
   "source": [
    "razporedi([5, 3, 4, 6], 9)"
   ]
  },
  {
   "cell_type": "markdown",
   "id": "77ff324c",
   "metadata": {},
   "source": [
    "Če gremo po drugi poti, z brisanjem, so spremembe podobne."
   ]
  }
 ],
 "metadata": {
  "kernelspec": {
   "display_name": "Python 3 (ipykernel)",
   "language": "python",
   "name": "python3"
  },
  "language_info": {
   "codemirror_mode": {
    "name": "ipython",
    "version": 3
   },
   "file_extension": ".py",
   "mimetype": "text/x-python",
   "name": "python",
   "nbconvert_exporter": "python",
   "pygments_lexer": "ipython3",
   "version": "3.9.7"
  }
 },
 "nbformat": 4,
 "nbformat_minor": 5
}
