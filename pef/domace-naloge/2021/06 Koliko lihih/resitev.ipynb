{
 "cells": [
  {
   "cell_type": "markdown",
   "id": "1d7ded14",
   "metadata": {},
   "source": [
    "## Obvezna\n",
    "\n",
    "Napiši rekurzivno funkcijo `lihih(s)`, ki prejme seznam in vrne število lihih števil v njem.\n",
    "\n",
    "### Rešitev\n",
    "\n",
    "Najprej dolgočasno korektna rešitev.\n",
    "\n",
    "- Če je seznam prazen, je število lihih elementov `0`.\n",
    "- Če je prvi element lih, je lihih toliko, kot jih je v ostanku in še ta zraven.\n",
    "- Sicer je lihih toliko, kolikor jih je v ostanku."
   ]
  },
  {
   "cell_type": "code",
   "execution_count": 1,
   "id": "920a2d74",
   "metadata": {},
   "outputs": [],
   "source": [
    "def lihih(s):\n",
    "    if s == []:\n",
    "        return 0\n",
    "    if s[0] % 2 == 1:\n",
    "        return lihih(s[1:]) + 1\n",
    "    else:\n",
    "        return lihih(s[1:])"
   ]
  },
  {
   "cell_type": "code",
   "execution_count": 2,
   "id": "60fd0e07",
   "metadata": {},
   "outputs": [
    {
     "data": {
      "text/plain": [
       "4"
      ]
     },
     "execution_count": 2,
     "metadata": {},
     "output_type": "execute_result"
    }
   ],
   "source": [
    "lihih([5, 7, 4, 2, 5, 1, 0])"
   ]
  },
  {
   "cell_type": "markdown",
   "id": "3e8ff7d2",
   "metadata": {},
   "source": [
    "Zdaj pa nekaj bolj inspiriranega. Namesto `s == []` lahko pišemo `not s`. To je resnično (`True`), če je `s` prazen. Vse prazne stvari so namreč neresnične (`False`), neprazne pa resnične (`True`). Kaj pa vrne `bool(s)`? Pretvori seznam v `bool`, tako da rne `True`, če je seznam \"resničen\" (neprazen) in  `False` sicer."
   ]
  },
  {
   "cell_type": "code",
   "execution_count": 3,
   "id": "86e52d58",
   "metadata": {},
   "outputs": [
    {
     "data": {
      "text/plain": [
       "True"
      ]
     },
     "execution_count": 3,
     "metadata": {},
     "output_type": "execute_result"
    }
   ],
   "source": [
    "bool([2, 45, 6])"
   ]
  },
  {
   "cell_type": "code",
   "execution_count": 4,
   "id": "cb85f522",
   "metadata": {},
   "outputs": [
    {
     "data": {
      "text/plain": [
       "False"
      ]
     },
     "execution_count": 4,
     "metadata": {},
     "output_type": "execute_result"
    }
   ],
   "source": [
    "bool([])"
   ]
  },
  {
   "cell_type": "code",
   "execution_count": 5,
   "id": "75d5f58a",
   "metadata": {},
   "outputs": [
    {
     "data": {
      "text/plain": [
       "True"
      ]
     },
     "execution_count": 5,
     "metadata": {},
     "output_type": "execute_result"
    }
   ],
   "source": [
    "bool([False])"
   ]
  },
  {
   "cell_type": "markdown",
   "id": "f6b4932a",
   "metadata": {},
   "source": [
    "Zadnji primer služi temu, da nas pouči, da rezultat ni povezan z vsebino seznama, pomembno je le, ali je ta prazen ali ne.\n",
    "\n",
    "Naprej. Tole je nepotrebno zapletanje:\n",
    "\n",
    "```python\n",
    "    if s[0] % 2 == 1:\n",
    "        return lihih(s[1:]) + 1\n",
    "    else:\n",
    "        return lihih(s[1:])\n",
    "```\n",
    "\n",
    "Napišemo lahko preprosto \n",
    "\n",
    "```python\n",
    "    return lihih(s[1:]) + s[0] % 2\n",
    "```\n",
    "\n",
    "Zloživši to skupaj, dobimo krajšo rešitev."
   ]
  },
  {
   "cell_type": "code",
   "execution_count": 6,
   "id": "1ee79dd7",
   "metadata": {},
   "outputs": [],
   "source": [
    "def lihih(s):\n",
    "    return bool(s) and (s[0] % 2 + lihih(s[1:]))"
   ]
  },
  {
   "cell_type": "markdown",
   "id": "89f470ed",
   "metadata": {},
   "source": [
    "## Dodatna\n",
    "\n",
    "Napiši rekurzivno funkcijo `vsaj_n_lihih(s, n)`, ki vrne `True`, če seznam `s` vsebuje vsaj `n` lihih števil.\n",
    "\n",
    "Funkcija naj seveda ne kliče funkcije `lihih`.\n",
    "\n",
    "Namig: da boš lepo sprogramirala (ali sprogramiral), razmisli, koliko lihih elementov mora vsebovati ostanek seznama (to je, `s[1:]`).\n",
    "\n",
    "### Rešitev\n",
    "\n",
    "Če je `n` enak `0`, je elementov dovolj. Sicer pa mora biti seznam neprazen in ostanek mora vsebovati toliko lihih elementov, kolikor je `n` minus `1`, če je prvi lih."
   ]
  },
  {
   "cell_type": "code",
   "execution_count": 7,
   "id": "8dbd7f73",
   "metadata": {},
   "outputs": [],
   "source": [
    "def vsaj_n_lihih(s, n):\n",
    "    if not n:\n",
    "        return True\n",
    "    if not s:\n",
    "        return False\n",
    "    return vsaj_n_lihih(s[1:], n - s[0] % 2)"
   ]
  },
  {
   "cell_type": "markdown",
   "id": "ce46dd52",
   "metadata": {},
   "source": [
    "Zdaj pa samo še skrajšajmo:"
   ]
  },
  {
   "cell_type": "code",
   "execution_count": 8,
   "id": "e42d9ecb",
   "metadata": {},
   "outputs": [],
   "source": [
    "def vsaj_n_lihih(s, n):\n",
    "    return not n or s and vsaj_n_lihih(s[1:], n - s[0] % 2)"
   ]
  }
 ],
 "metadata": {
  "kernelspec": {
   "display_name": "Python 3 (ipykernel)",
   "language": "python",
   "name": "python3"
  },
  "language_info": {
   "codemirror_mode": {
    "name": "ipython",
    "version": 3
   },
   "file_extension": ".py",
   "mimetype": "text/x-python",
   "name": "python",
   "nbconvert_exporter": "python",
   "pygments_lexer": "ipython3",
   "version": "3.9.7"
  }
 },
 "nbformat": 4,
 "nbformat_minor": 5
}
