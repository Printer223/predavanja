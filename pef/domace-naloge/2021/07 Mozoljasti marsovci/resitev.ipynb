{
 "cells": [
  {
   "cell_type": "markdown",
   "id": "8eb40fe2",
   "metadata": {},
   "source": [
    "Marsovske ladje, vemo, izgledajo kot krogi, ki vsebujejo kroge, ki vsebujejo kroge... V tej domači nalogi boste dobili podatke o ladjah v obliki slovarja. Ključi slovarja so krogi, ki vsebujejo vsaj en notranji krog, pripadajoče vrednosti pa so seznami neposredno vsebovanih notranjih krogov (ne pa tudi krogov znotraj teh krogov). Če krog ne vsebuje nobenega kroga, ne nastopa kot ključ v slovarju.\n",
    "\n",
    "Vsi krogi so predstavljeni s trojkami `(x, y, r)`.\n",
    "\n",
    "## Obvezna naloga\n",
    "\n",
    "Kroge, ki ne vsebujejo nobenih drugih krogov, so naši protimarsovski obveščevalci poimenovali \"mozolji\". Napiši funkcijo `stevilo_mozoljev(krog, hierarhija)`, ki prejme nek krog in hierarhijo krogov. Vrniti mora število mozoljev znotraj tega kroga.\n",
    "\n",
    "Če krog ne vsebuje nobenega kroga, potem je cel krog v bistvu en sam mozolj. V tem primeru mora funkcija zato vrniti `1`.\n",
    "\n",
    "Poleg tega napiši funkcijo `povrsina_mozoljev(krogi, hierarhija)`, ki vrne skupno površino \"mozoljev\" znotraj podanega kroga. Če krog ne vsebuje nobenega kroga, funkcija vrne površino tega kroga.\n",
    "\n",
    "### Rešitev\n",
    "\n",
    "Če kroga ni v hierarhiji, vrnemo 1, ker gre za mozolj. Sicer vse \"otroke\" vprašamo, koliko mozoljev imajo in to seštejemo."
   ]
  },
  {
   "cell_type": "code",
   "execution_count": 1,
   "id": "5afc91a2",
   "metadata": {},
   "outputs": [],
   "source": [
    "def stevilo_mozoljev(krog, hierarhija):\n",
    "    if krog not in hierarhija:\n",
    "        return 1\n",
    "    stevilo = 0\n",
    "    for podkrog in hierarhija[krog]:\n",
    "        stevilo += stevilo_mozoljev(podkrog, hierarhija)\n",
    "    return stevilo"
   ]
  },
  {
   "cell_type": "markdown",
   "id": "50b90b0e",
   "metadata": {},
   "source": [
    "Ali, krajše:"
   ]
  },
  {
   "cell_type": "code",
   "execution_count": 2,
   "id": "8fc35a59",
   "metadata": {},
   "outputs": [],
   "source": [
    "def stevilo_mozoljev(krog, hierarhija):\n",
    "    if krog not in hierarhija:\n",
    "        return 1\n",
    "    return sum(stevilo_mozoljev(podkrog, hierarhija) for podkrog in hierarhija[krog])"
   ]
  },
  {
   "cell_type": "markdown",
   "id": "2258e67c",
   "metadata": {},
   "source": [
    "Druga funkcija je na las podobna, le namesto enic seštevamo površine."
   ]
  },
  {
   "cell_type": "code",
   "execution_count": 3,
   "id": "633bb0db",
   "metadata": {},
   "outputs": [],
   "source": [
    "def povrsina_mozoljev(krog, hierarhija):\n",
    "    if krog not in hierarhija:\n",
    "        x, y, r = krog\n",
    "        return math.pi * (r ** 2)\n",
    "\n",
    "    vsota = 0\n",
    "    for i in hierarhija[krog]:\n",
    "        vsota = vsota + povrsina_mozoljev(i, hierarhija)\n",
    "    return vsota"
   ]
  },
  {
   "cell_type": "markdown",
   "id": "ed7bc669",
   "metadata": {},
   "source": [
    "Oziroma:"
   ]
  },
  {
   "cell_type": "code",
   "execution_count": 4,
   "id": "2a7c7218",
   "metadata": {},
   "outputs": [],
   "source": [
    "def povrsina_mozoljev(krog, hierarhija):\n",
    "    if krog not in hierarhija:\n",
    "        return pi * krog[2] ** 2\n",
    "    return sum(povrsina_mozoljev(podkrog, hierarhija) for podkrog in hierarhija[krog])"
   ]
  },
  {
   "cell_type": "markdown",
   "id": "0670192e",
   "metadata": {},
   "source": [
    "Pri funkcijah teh tipov so študenti pogosto preveč previdni in naredijo tole:"
   ]
  },
  {
   "cell_type": "code",
   "execution_count": 5,
   "id": "38efbb24",
   "metadata": {},
   "outputs": [],
   "source": [
    "def povrsina_mozoljev(krog, hierarhija):\n",
    "    if krog not in hierarhija:\n",
    "        x, y, r = krog\n",
    "        return math.pi * (r ** 2)\n",
    "\n",
    "    vsota = 0\n",
    "    for i in hierarhija[krog]:\n",
    "        if i not in hierarhija:\n",
    "            x, y, r = i\n",
    "            vsota += math.pi * (r ** 2)\n",
    "        else:\n",
    "            vsota = vsota + povrsina_mozoljev(i, hierarhija)\n",
    "    return vsota"
   ]
  },
  {
   "cell_type": "markdown",
   "id": "1506ea88",
   "metadata": {},
   "source": [
    "`if` znotraj zanke - in vse, kar je v njem - je nepotrebno. Tudi če kroga ni v hierarhiji, lahko zanj funkcija pokliče samo sebe in za krog bo poskrbel (natančno takšen) `if` na začetku funkcije.\n",
    "\n",
    "Takšno programiranje ni napačno, le to kaže, da študent ni pomislil za en korak rekurzije naprej."
   ]
  },
  {
   "cell_type": "markdown",
   "id": "ec05358c",
   "metadata": {},
   "source": [
    "## Dodatna naloga\n",
    "\n",
    "Napiši funkcijo `stevilo_edincev(krog, hierarhija)`, ki za podani krog vrne število vseh krogov znotraj njega, ki (neposredno) vsebujejo natančno en krog. (Ta krog lahko potem sicer sam vsebuje nove kroge, morda celo več njih).\n",
    "\n",
    "Naloga je ekvivalentna tej, da bi v neki rodbini raziskovali, koliko članov rodbine ima enega samega otroka (ta pa jih ima potem lahko spet več).\n",
    "\n",
    "### Rešitev\n",
    "\n",
    "Takole."
   ]
  },
  {
   "cell_type": "code",
   "execution_count": 7,
   "id": "49a5b51d",
   "metadata": {},
   "outputs": [],
   "source": [
    "def stevilo_edincev(krog, hierarhija):\n",
    "    if krog not in hierarhija:\n",
    "        return 0\n",
    "    if len(hierarhija[krog]) == 1:\n",
    "        stevilo = 1\n",
    "    else:\n",
    "        stevilo = 0\n",
    "    return stevilo + sum(stevilo_edincev(podkrog, hierarhija)\n",
    "                         for podkrog in hierarhija[krog])"
   ]
  },
  {
   "cell_type": "markdown",
   "id": "40507d85",
   "metadata": {},
   "source": [
    "Ali pa, z malo več trikov, takole:"
   ]
  },
  {
   "cell_type": "code",
   "execution_count": 8,
   "id": "37d4672f",
   "metadata": {},
   "outputs": [],
   "source": [
    "def stevilo_edincev(krog, hierarhija):\n",
    "    notranji = hierarhija.get(krog, [])\n",
    "    return (len(notranji) == 1) + sum(stevilo_edincev(krog, hierarhija) for krog in notranji)"
   ]
  }
 ],
 "metadata": {
  "kernelspec": {
   "display_name": "Python 3 (ipykernel)",
   "language": "python",
   "name": "python3"
  },
  "language_info": {
   "codemirror_mode": {
    "name": "ipython",
    "version": 3
   },
   "file_extension": ".py",
   "mimetype": "text/x-python",
   "name": "python",
   "nbconvert_exporter": "python",
   "pygments_lexer": "ipython3",
   "version": "3.9.7"
  }
 },
 "nbformat": 4,
 "nbformat_minor": 5
}
