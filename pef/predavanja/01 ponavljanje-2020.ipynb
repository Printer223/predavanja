{
 "cells": [
  {
   "attachments": {},
   "cell_type": "markdown",
   "metadata": {},
   "source": [
    "## Ponavljanje: Naloge s prvega izpita (januar 2021)\n",
    "\n",
    "### 5. naloga: Papajščina\n",
    "\n",
    "\n",
    "*Študent Brane si je za skrivno komuniciranje s kolegi izmislil način, s katerim kodira svoja sporočila. Vsako besedo v stavku je spremenil tako, da je za vsakim samoglasnikom dodal `p` in ponovil tisti samoglasnik. Tako je npr. svoje ime `'brane'` preoblikoval v `'brapanepe'`.*\n",
    "\n",
    "*Napišite funkcijo `razkrij(stavek)`, ki za podani zakodiran stavek (besede ločene s presledkom) vrne originalno sporočilo.*\n",
    "\n",
    "```\n",
    ">>> razkrij('upuvopod v propograpamipirapanjepe')\n",
    "uvod v programiranje\n",
    ">>> razkrij('kdapaj bopo koponepec vapaj')\n",
    "kdaj bo konec vaj\n",
    "```\n",
    "\n",
    "#### Rešitev\n",
    "\n",
    "Niz bo potrebno prepisati v nov niz in preskakovati, kar je odveč.\n",
    "\n",
    "Beremo torej podani stavek in počnemo tole:\n",
    "- ko vidimo soglasnik, ga le prepišemo\n",
    "- ko vidimo samoglasnik, ga prepišemo in preskočimo naslednji dve črki."
   ]
  },
  {
   "cell_type": "code",
   "execution_count": 7,
   "metadata": {},
   "outputs": [],
   "source": [
    "def razkrij(stavek):\n",
    "    novi_stavek = \"\"\n",
    "    i = 0\n",
    "    while i < len(stavek):\n",
    "        if stavek[i] not in \"aeiou\":\n",
    "            novi_stavek += stavek[i]\n",
    "        else:\n",
    "            novi_stavek += stavek[i]\n",
    "            i += 2\n",
    "        i += 1\n",
    "    return novi_stavek"
   ]
  },
  {
   "cell_type": "markdown",
   "metadata": {},
   "source": [
    "Deluje?"
   ]
  },
  {
   "cell_type": "code",
   "execution_count": 12,
   "metadata": {},
   "outputs": [
    {
     "data": {
      "text/plain": [
       "'uvod v programiranje'"
      ]
     },
     "execution_count": 12,
     "metadata": {},
     "output_type": "execute_result"
    }
   ],
   "source": [
    "razkrij('upuvopod v propograpamipirapanjepe')"
   ]
  },
  {
   "cell_type": "code",
   "execution_count": 9,
   "metadata": {},
   "outputs": [
    {
     "data": {
      "text/plain": [
       "'kdaj bo konec vaj'"
      ]
     },
     "execution_count": 9,
     "metadata": {},
     "output_type": "execute_result"
    }
   ],
   "source": [
    "razkrij('kdapaj bopo koponepec vapaj')"
   ]
  },
  {
   "cell_type": "markdown",
   "metadata": {},
   "source": [
    "Uporabili smo zanko `while`. Ko gremo prek nizov, seznamov in podobnih reči bomo, če se le da, uporabili `for`. Tu pa rešitev s `for` ni prav preprosta (a jo bomo vseeno poskusili, malo kasneje!), zato torej `while`. V osnovi imamo torej\n",
    "\n",
    "```\n",
    "i = 0\n",
    "while i < len(stavek):\n",
    "    ... naredi, kar moraš\n",
    "    i += 1\n",
    "```\n",
    "\n",
    "Kako preverimo, ali je črka `stavek[i]` samoglasnik? Očitno bi lahko napisali\n",
    "\n",
    "```python\n",
    "if stavek[i] == \"a\" or stavek[i] == \"e\" or stavek[i] == \"i\" or stavek[i] == \"o\" or stavek[i] == \"u\":\n",
    "```\n",
    "\n",
    "O tem dobi človek kar malo musklfibra. Če že morate, potem pišite:\n",
    "\n",
    "```python\n",
    "crka = stavek[i]\n",
    "if crka == \"a\" or crka == \"e\" or crka == \"i\" or crka \"o\" or crka \"u\":\n",
    "```\n",
    "\n",
    "Zgoraj, v funkciji, pa smo uporabili drug trik. Sestavili smo niz samoglasnikov, `aeiou` in se vprašali, ali črko `stavek[i]` najdemo v tem nizu. Če je ne (`not in`), je soglasnik (ali presledek ali kako ločilo).\n",
    "\n",
    "Opazimo, da sta prvi vrstici znotraj `if` in `else` enaki. Ponavljanje vrstic ni preveč elegantno, sploh pa, če se je ponavljanja tako preprosto znebiti. Izvira iz tega, da smo že po slovensko nerodno povedali, kaj pravzaprav počnemo. Boljše bi bilo:\n",
    "\n",
    "Beremo torej podani stavek in počnemo tole:\n",
    "- znak prepišemo v novi niz in nato\n",
    "    - če je bil to soglasnik, nadaljujemo z naslednjim znakom\n",
    "    - če je bil samoglasnik, pa preskočimo naslednja dva (torej gremo naprej za tri namesto za enega)\n",
    "\n",
    "Tako dobimo, recimo, tole:"
   ]
  },
  {
   "cell_type": "code",
   "execution_count": 15,
   "metadata": {},
   "outputs": [],
   "source": [
    "def razkrij(stavek):\n",
    "    novi_stavek = \"\"\n",
    "    i = 0\n",
    "    while i < len(stavek):\n",
    "        novi_stavek += stavek[i]\n",
    "        if stavek[i] not in \"aeiou\":\n",
    "            i += 1\n",
    "        else:\n",
    "            i += 3\n",
    "    return novi_stavek"
   ]
  },
  {
   "cell_type": "markdown",
   "metadata": {},
   "source": [
    "Še vedno deluje?"
   ]
  },
  {
   "cell_type": "code",
   "execution_count": 16,
   "metadata": {},
   "outputs": [
    {
     "data": {
      "text/plain": [
       "'uvod v programiranje'"
      ]
     },
     "execution_count": 16,
     "metadata": {},
     "output_type": "execute_result"
    }
   ],
   "source": [
    "razkrij('upuvopod v propograpamipirapanjepe')"
   ]
  },
  {
   "cell_type": "code",
   "execution_count": 13,
   "metadata": {},
   "outputs": [
    {
     "data": {
      "text/plain": [
       "'kdaj bo konec vaj'"
      ]
     },
     "execution_count": 13,
     "metadata": {},
     "output_type": "execute_result"
    }
   ],
   "source": [
    "razkrij('kdapaj bopo koponepec vapaj')"
   ]
  },
  {
   "cell_type": "markdown",
   "metadata": {},
   "source": [
    "Še vedno deluje."
   ]
  },
  {
   "cell_type": "markdown",
   "metadata": {},
   "source": [
    "Malo krajše bi bilo tako:"
   ]
  },
  {
   "cell_type": "code",
   "execution_count": 14,
   "metadata": {},
   "outputs": [],
   "source": [
    "def razkrij(stavek):\n",
    "    novi_stavek = \"\"\n",
    "    i = 0\n",
    "    while i < len(stavek):\n",
    "        novi_stavek += stavek[i]\n",
    "        if stavek[i] in \"aeiou\":\n",
    "            i += 2\n",
    "        i += 1\n",
    "    return novi_stavek"
   ]
  },
  {
   "cell_type": "markdown",
   "metadata": {},
   "source": [
    "Pri samoglasniku gremo naprej za dva znaka, v vsakem primeru pa še za enega.\n",
    "\n",
    "Zdaj pa poskusimo z zanko `for`. Tako, za vajo.\n",
    "\n",
    "```python\n",
    "def razkrij(stavek):\n",
    "    novi_stavek = \"\"\n",
    "    for crka in stavek:\n",
    "        novi_stavek += crka\n",
    "        if crka in \"aeiou\":\n",
    "            ... kaj pa zdaj?!\n",
    "```\n",
    "\n",
    "Problem pri zanki `for` in takšnih nalogah je, da je zanka `for` trmasta. Šla bo prek vseh elementov. Enega za drugim. Ne moremo je prepričati ne, naj katerega preskoči, ne, naj se vrne nazaj, kjer je že bila. (Razloge za to bomo morda spoznali čez mesec ali dva.)\n",
    "\n",
    "Tule se lahko rešimo le tako, da si zapomnimo, da je potrebno toliko in toliko znakov preskočiti. (Vsaj jaz se ne domislim druge rešitve.)"
   ]
  },
  {
   "cell_type": "code",
   "execution_count": 18,
   "metadata": {},
   "outputs": [],
   "source": [
    "def razkrij(stavek):\n",
    "    novi_stavek = \"\"\n",
    "    preskoci = 0\n",
    "    for crka in stavek:\n",
    "        if preskoci > 0:\n",
    "            preskoci -= 1\n",
    "        else:\n",
    "            novi_stavek += crka\n",
    "            if crka in \"aeiou\":\n",
    "                preskoci = 2\n",
    "    return novi_stavek"
   ]
  },
  {
   "cell_type": "markdown",
   "metadata": {},
   "source": [
    "Najprej preverimo, da tole res deluje."
   ]
  },
  {
   "cell_type": "code",
   "execution_count": 19,
   "metadata": {},
   "outputs": [
    {
     "data": {
      "text/plain": [
       "'uvod v programiranje'"
      ]
     },
     "execution_count": 19,
     "metadata": {},
     "output_type": "execute_result"
    }
   ],
   "source": [
    "razkrij('upuvopod v propograpamipirapanjepe')"
   ]
  },
  {
   "cell_type": "code",
   "execution_count": 20,
   "metadata": {},
   "outputs": [
    {
     "data": {
      "text/plain": [
       "'kdaj bo konec vaj'"
      ]
     },
     "execution_count": 20,
     "metadata": {},
     "output_type": "execute_result"
    }
   ],
   "source": [
    "razkrij('kdapaj bopo koponepec vapaj')"
   ]
  },
  {
   "cell_type": "markdown",
   "metadata": {},
   "source": [
    "Kako deluje? Spremenljivka `preskoci` beleži, koliko naslednjih znakov je potrebno preskočiti.\n",
    "\n",
    "Najprej poglejmo drugi `if`. Ta pravi: ko naletiš na samoglasnik (ki si ga prepisal v novi niz), si zapomni, da je potrebno naslednja dva znaka preskočiti, `preskoci = 2`.\n",
    "\n",
    "Zdaj pa prvi `if`. Ta pravi: če je število znakov, ki jih je potrebno preskočiti, večje od 0, bomo tale znak preskočili - torej le zmanjšamo `preskoci` za `1`. Sicer pa prepišemo znak in preverimo, da ne gre morda za samoglasnik.\n",
    "\n",
    "### 4. naloga: Karte\n",
    "\n",
    "*Karte lahko v programski kodi predstavimo tako, da jih zapišemo z dvema znakoma. Prvi označuje vrsto karte in je lahko katerikoli znak iz niza `'A23456789TJQK'`, drugi pa njeno barvo `'HDCS'`, pri čemer uporabljamo prve črke angleških poimenovanj.*\n",
    " \n",
    "*Napišite `preveri(karte)`, ki za podan niz kart preveri, če so glede na prej opisano pravilo ustrezno zapisane. Če so vse pravilno zapisane vrne `True`, če pa je med njimi vsaj ena takšna, ki ni, pa `False`.*\n",
    "\n",
    "```\n",
    ">>> preveri('AC AD AH AS KD')\n",
    "True\n",
    ">>> preveri('2C 4D D3 4H 2D 2H')\n",
    "False\n",
    ">>> preveri('1M AH 2H 3H H5')\n",
    "False\n",
    "```\n",
    "\n",
    "#### Rešitev\n",
    "\n",
    "Najprej napišimo funkcijo, ki za podano karto preveri, ali je pravilna, se pravi, ali gre za niz z dvema črkama, pri čemer je prva črka ena izmed `'A23456789TJQK'`, drugi pa njeno barvo `'HDCS'`."
   ]
  },
  {
   "cell_type": "code",
   "execution_count": 21,
   "metadata": {},
   "outputs": [],
   "source": [
    "def je_karta(karta):\n",
    "    return len(karta) == 2 and karta[0] in 'A23456789TJQK' and karta[1] in 'HDCS'"
   ]
  },
  {
   "cell_type": "markdown",
   "metadata": {},
   "source": [
    "Preverimo."
   ]
  },
  {
   "cell_type": "code",
   "execution_count": 22,
   "metadata": {},
   "outputs": [
    {
     "data": {
      "text/plain": [
       "True"
      ]
     },
     "execution_count": 22,
     "metadata": {},
     "output_type": "execute_result"
    }
   ],
   "source": [
    "je_karta(\"4S\")"
   ]
  },
  {
   "cell_type": "code",
   "execution_count": 23,
   "metadata": {},
   "outputs": [
    {
     "data": {
      "text/plain": [
       "False"
      ]
     },
     "execution_count": 23,
     "metadata": {},
     "output_type": "execute_result"
    }
   ],
   "source": [
    "je_karta(\"4T\")"
   ]
  },
  {
   "cell_type": "code",
   "execution_count": 24,
   "metadata": {},
   "outputs": [
    {
     "data": {
      "text/plain": [
       "False"
      ]
     },
     "execution_count": 24,
     "metadata": {},
     "output_type": "execute_result"
    }
   ],
   "source": [
    "je_karta(\"Benjamin\")"
   ]
  },
  {
   "cell_type": "markdown",
   "metadata": {},
   "source": [
    "Preden gremo naprej, še enkrat poglejmo funkcijo. Vzemimo neko karto, npr"
   ]
  },
  {
   "cell_type": "code",
   "execution_count": 25,
   "metadata": {},
   "outputs": [],
   "source": [
    "karta = \"4S\""
   ]
  },
  {
   "cell_type": "markdown",
   "metadata": {},
   "source": [
    "Kaj je rezultat izraza `len(karta) == 2`? Operator `==` primerja to, kar je na levi (`len(karta)`) in na desni (`2`). Če sta stvari enaki, vrne `True`, sicer `False`."
   ]
  },
  {
   "cell_type": "code",
   "execution_count": 26,
   "metadata": {},
   "outputs": [
    {
     "data": {
      "text/plain": [
       "True"
      ]
     },
     "execution_count": 26,
     "metadata": {},
     "output_type": "execute_result"
    }
   ],
   "source": [
    "len(karta) == 2"
   ]
  },
  {
   "cell_type": "markdown",
   "metadata": {},
   "source": [
    "Podobno operator `in` pogleda, ali se levi operand nahaja znotraj desnega, se pravi, ali je `karta[0]` znotraj niza `'A23456789TJQK'` in `karta[1]` znotraj niza `HDCS`."
   ]
  },
  {
   "cell_type": "code",
   "execution_count": 27,
   "metadata": {},
   "outputs": [
    {
     "data": {
      "text/plain": [
       "True"
      ]
     },
     "execution_count": 27,
     "metadata": {},
     "output_type": "execute_result"
    }
   ],
   "source": [
    "karta[0] in 'A23456789TJQK'"
   ]
  },
  {
   "cell_type": "code",
   "execution_count": 28,
   "metadata": {},
   "outputs": [
    {
     "data": {
      "text/plain": [
       "True"
      ]
     },
     "execution_count": 28,
     "metadata": {},
     "output_type": "execute_result"
    }
   ],
   "source": [
    "karta[1] in 'HDCS'"
   ]
  },
  {
   "cell_type": "markdown",
   "metadata": {},
   "source": [
    "Vsi trije deli izraza torej vrnejo `True`. V gornjem `return`-u so združeni z `and`-i, torej imamo `True and True and True`, kar je seveda `True`."
   ]
  },
  {
   "cell_type": "code",
   "execution_count": 31,
   "metadata": {},
   "outputs": [
    {
     "data": {
      "text/plain": [
       "True"
      ]
     },
     "execution_count": 31,
     "metadata": {},
     "output_type": "execute_result"
    }
   ],
   "source": [
    "True and True and True"
   ]
  },
  {
   "cell_type": "markdown",
   "metadata": {},
   "source": [
    "Funkcija mora torej vrniti vrednost tega izraza.\n",
    "\n",
    "Če se strinjamo z vsem, kar smo pravkar namodrovali - zakaj bi potem večina študentov sprogramirala tole?"
   ]
  },
  {
   "cell_type": "code",
   "execution_count": 33,
   "metadata": {},
   "outputs": [],
   "source": [
    "def je_karta(karta):\n",
    "    if len(karta) == 2 and karta[0] in 'A23456789TJQK' and karta[1] in 'HDCS':\n",
    "        return True\n",
    "    else:\n",
    "        return False"
   ]
  },
  {
   "cell_type": "markdown",
   "metadata": {},
   "source": [
    "Ta izraz, `len(karta) == 2 and karta[0] in 'A23456789TJQK' and karta[1] in 'HDCS'` že ima natančno tisto vrednost, ki jo želimo vrniti, namreč `True` ali `False`, zato gornje nima smisla. Zadošča"
   ]
  },
  {
   "cell_type": "code",
   "execution_count": 34,
   "metadata": {},
   "outputs": [],
   "source": [
    "def je_karta(karta):\n",
    "    return len(karta) == 2 and karta[0] in 'A23456789TJQK' and karta[1] in 'HDCS'"
   ]
  },
  {
   "cell_type": "markdown",
   "metadata": {},
   "source": [
    "Zdaj, ko je to napisano in tudi na široko razloženo, pa končno napišimo še funkcijo, ki jo zahteva naloga. Podani niz razbijmo na karte in jih, eno za drugo, preverjajmo. Če naletimo na napačno, spričajmo, da je napačna. Sicer veselo nadaljujmo do konca in šele, ko smo preverili vse, vrnimo `True`."
   ]
  },
  {
   "cell_type": "code",
   "execution_count": 35,
   "metadata": {},
   "outputs": [],
   "source": [
    "def preveri(karte):\n",
    "    for karta in karte.split():\n",
    "        if not je_karta(karta):\n",
    "            return False\n",
    "    return True"
   ]
  },
  {
   "cell_type": "code",
   "execution_count": 36,
   "metadata": {},
   "outputs": [
    {
     "data": {
      "text/plain": [
       "True"
      ]
     },
     "execution_count": 36,
     "metadata": {},
     "output_type": "execute_result"
    }
   ],
   "source": [
    "preveri('AC AD AH AS KD')"
   ]
  },
  {
   "cell_type": "code",
   "execution_count": 37,
   "metadata": {},
   "outputs": [
    {
     "data": {
      "text/plain": [
       "False"
      ]
     },
     "execution_count": 37,
     "metadata": {},
     "output_type": "execute_result"
    }
   ],
   "source": [
    "preveri('2C 4D D3 4H 2D 2H')"
   ]
  },
  {
   "cell_type": "code",
   "execution_count": 38,
   "metadata": {},
   "outputs": [
    {
     "data": {
      "text/plain": [
       "False"
      ]
     },
     "execution_count": 38,
     "metadata": {},
     "output_type": "execute_result"
    }
   ],
   "source": [
    "preveri('1M AH 2H 3H H5')"
   ]
  },
  {
   "cell_type": "markdown",
   "metadata": {},
   "source": [
    "Tipična napaka študentov začetnikov je"
   ]
  },
  {
   "cell_type": "code",
   "execution_count": 39,
   "metadata": {},
   "outputs": [],
   "source": [
    "def preveri(karte):\n",
    "    for karta in karte.split():\n",
    "        if not je_karta(karta):\n",
    "            return False\n",
    "        else:\n",
    "            return True"
   ]
  },
  {
   "cell_type": "markdown",
   "metadata": {},
   "source": [
    "To preveri le prvo karto. Za spodnji niz vrne `True`, dasiravno je tretja karta napačna."
   ]
  },
  {
   "cell_type": "code",
   "execution_count": 41,
   "metadata": {},
   "outputs": [
    {
     "data": {
      "text/plain": [
       "True"
      ]
     },
     "execution_count": 41,
     "metadata": {},
     "output_type": "execute_result"
    }
   ],
   "source": [
    "preveri('2C 4D D3 4H 2D 2H')"
   ]
  },
  {
   "cell_type": "markdown",
   "metadata": {},
   "source": [
    "O dogajanju se hitro prepričamo z dodatnim izpisom."
   ]
  },
  {
   "cell_type": "code",
   "execution_count": 42,
   "metadata": {},
   "outputs": [],
   "source": [
    "def preveri(karte):\n",
    "    for karta in karte.split():\n",
    "        print(\"Preverjam:\", karta)\n",
    "        if not je_karta(karta):\n",
    "            return False\n",
    "        else:\n",
    "            return True"
   ]
  },
  {
   "cell_type": "code",
   "execution_count": 43,
   "metadata": {},
   "outputs": [
    {
     "name": "stdout",
     "output_type": "stream",
     "text": [
      "Preverjam: 2C\n"
     ]
    },
    {
     "data": {
      "text/plain": [
       "True"
      ]
     },
     "execution_count": 43,
     "metadata": {},
     "output_type": "execute_result"
    }
   ],
   "source": [
    "preveri('2C 4D D3 4H 2D 2H')"
   ]
  },
  {
   "cell_type": "markdown",
   "metadata": {},
   "source": [
    "Očitno je preveril le `\"2C\"` in takoj, preveč navdušeno nad tem, da je pravilna, vrnil `True`.\n",
    "\n",
    "Čez mesec ali dva, nekako takrat, ko bomo morda izvedeli, kako deluje zanka `for`, se bomo to naučili sprogramirati tudi hitreje:"
   ]
  },
  {
   "cell_type": "code",
   "execution_count": 48,
   "metadata": {},
   "outputs": [],
   "source": [
    "def preveri(karte):\n",
    "    return all(je_karta(karta) for karta in karte.split())"
   ]
  },
  {
   "cell_type": "code",
   "execution_count": 49,
   "metadata": {},
   "outputs": [
    {
     "data": {
      "text/plain": [
       "True"
      ]
     },
     "execution_count": 49,
     "metadata": {},
     "output_type": "execute_result"
    }
   ],
   "source": [
    "preveri('AC AD AH AS KD')"
   ]
  },
  {
   "cell_type": "code",
   "execution_count": 50,
   "metadata": {},
   "outputs": [
    {
     "data": {
      "text/plain": [
       "False"
      ]
     },
     "execution_count": 50,
     "metadata": {},
     "output_type": "execute_result"
    }
   ],
   "source": [
    "preveri('2C 4D D3 4H 2D 2H')"
   ]
  },
  {
   "cell_type": "code",
   "execution_count": 51,
   "metadata": {},
   "outputs": [
    {
     "data": {
      "text/plain": [
       "False"
      ]
     },
     "execution_count": 51,
     "metadata": {},
     "output_type": "execute_result"
    }
   ],
   "source": [
    "preveri('1M AH 2H 3H H5')"
   ]
  },
  {
   "attachments": {},
   "cell_type": "markdown",
   "metadata": {},
   "source": [
    "### 3. Naloga: Strava\n",
    "\n",
    "*Študent Mirko se je odločil, da se bo športno aktiviral in bo začel teči. V seznamu si posamezne treninge beleži s terko, v kateri prva vrednost predstavlja število kilometrov, druga pa čas v minutah. Če nek dan ni šel teč to označi s terko `(0,0)`.*\n",
    "\n",
    "*Napišite funkcijo `statistika(s)`, ki za tak podani seznam vrne terko s tremi vrednostmi: število dni, ko je pretekel več ali enako 5 km; najdaljše zaporedje dni, ko ni tekel; seznam dni, ko je tekel enako ali hitreje od 6 min na kilometer (prva vrednost v seznamu se nanaša na dan s številko 1).*\n",
    "\n",
    "```\n",
    ">>> statistika([(3,20), (4,25), (0,0), (5,30)])\n",
    "1, 1, [4]\n",
    ">>>  statistika([(3,15), (5,25), (0,0), (0,0), (0,0), (8, 40), (0, 0)])\n",
    "2, 3, [1, 2, 6]\n",
    ">>>  statistika([(10,55), (9,40), (12,60), (4,35), (5,40)])\n",
    "4, 0, [1, 2, 3]\n",
    "```\n",
    "\n",
    "#### Rešitev\n",
    "\n",
    "Tu gre pravzaprav za tri naloge in nihče nam ne prepoveduje sprogramirati treh funkcij - in četrte, ki vrne rezultate vseh treh.\n",
    "\n",
    "Najprej napišimo funkcijo, ki prešteje \"dolge\" teke."
   ]
  },
  {
   "cell_type": "code",
   "execution_count": 52,
   "metadata": {},
   "outputs": [],
   "source": [
    "def dolgi(teki):\n",
    "    dolgih = 0\n",
    "    for dolzina, cas in teki:\n",
    "        if dolzina >= 5:\n",
    "            dolgih += 1\n",
    "    return dolgih"
   ]
  },
  {
   "cell_type": "code",
   "execution_count": 53,
   "metadata": {},
   "outputs": [
    {
     "data": {
      "text/plain": [
       "2"
      ]
     },
     "execution_count": 53,
     "metadata": {},
     "output_type": "execute_result"
    }
   ],
   "source": [
    "dolgi([(3,15), (5,25), (0,0), (0,0), (0,0), (8, 40)])"
   ]
  },
  {
   "cell_type": "markdown",
   "metadata": {},
   "source": [
    "Ta naloga je bila preprosta, pogledati pa se splača predvsem, kako smo napisali zanko `for`: ker so `teki` seznam parov `(dolzina, cas)`, smo pisali `for dolzina, cas in teki`.\n",
    "\n",
    "Naprej je preprosto: če je dolžina večja ali enaka 5, povečamo števec `dolgih` tekov za 1.\n",
    "\n",
    "Zdaj pa \"hitri\" teki. Tu bomo potrebovali dolžino in čas, poleg tega pa še indeks.\n",
    "\n",
    "Spomnimo se, da `enumerate` \"spremeni\" seznam v seznam parov indeks, element. Če imamo nek seznam `s`, bi z `for x in s` dobili vse elemente, s `for i, x in enumerate(s)` pa pare indeksov in elementov. Tu pa je naš seznam že seznam parov, torej ga `enumerate` spremeni v seznam indeksov in parov. Če imamo brez `enumerate` zanko `for dolzina, cas in teki`, imamo z `enumerate` zanko `for i, (dolzina, cas) in enumerate(teki)`. Ne spreglejte oklepajev.\n",
    "\n",
    "Ker želimo šteti od `1` in ne od `0`, dodamo funkciji `enumerate` še argument `start=1`."
   ]
  },
  {
   "cell_type": "code",
   "execution_count": 84,
   "metadata": {},
   "outputs": [],
   "source": [
    "def hitri(teki):\n",
    "    indeksi = []\n",
    "    for i, (dolzina, cas) in enumerate(teki, start=1):\n",
    "        if cas / dolzina >= 6:\n",
    "            indeksi.append(i)\n",
    "    return indeksi"
   ]
  },
  {
   "cell_type": "markdown",
   "metadata": {},
   "source": [
    "Tole ne deluje.\n",
    "\n",
    "Prva past, v katero smo se zataknili, je matematična."
   ]
  },
  {
   "cell_type": "code",
   "execution_count": 85,
   "metadata": {},
   "outputs": [
    {
     "ename": "ZeroDivisionError",
     "evalue": "division by zero",
     "output_type": "error",
     "traceback": [
      "\u001b[0;31m---------------------------------------------------------------------------\u001b[0m",
      "\u001b[0;31mZeroDivisionError\u001b[0m                         Traceback (most recent call last)",
      "\u001b[0;32m<ipython-input-85-58155ee12e2f>\u001b[0m in \u001b[0;36m<module>\u001b[0;34m\u001b[0m\n\u001b[0;32m----> 1\u001b[0;31m \u001b[0mhitri\u001b[0m\u001b[0;34m(\u001b[0m\u001b[0;34m[\u001b[0m\u001b[0;34m(\u001b[0m\u001b[0;36m3\u001b[0m\u001b[0;34m,\u001b[0m\u001b[0;36m15\u001b[0m\u001b[0;34m)\u001b[0m\u001b[0;34m,\u001b[0m \u001b[0;34m(\u001b[0m\u001b[0;36m5\u001b[0m\u001b[0;34m,\u001b[0m\u001b[0;36m25\u001b[0m\u001b[0;34m)\u001b[0m\u001b[0;34m,\u001b[0m \u001b[0;34m(\u001b[0m\u001b[0;36m0\u001b[0m\u001b[0;34m,\u001b[0m\u001b[0;36m0\u001b[0m\u001b[0;34m)\u001b[0m\u001b[0;34m,\u001b[0m \u001b[0;34m(\u001b[0m\u001b[0;36m0\u001b[0m\u001b[0;34m,\u001b[0m\u001b[0;36m0\u001b[0m\u001b[0;34m)\u001b[0m\u001b[0;34m,\u001b[0m \u001b[0;34m(\u001b[0m\u001b[0;36m0\u001b[0m\u001b[0;34m,\u001b[0m\u001b[0;36m0\u001b[0m\u001b[0;34m)\u001b[0m\u001b[0;34m,\u001b[0m \u001b[0;34m(\u001b[0m\u001b[0;36m8\u001b[0m\u001b[0;34m,\u001b[0m \u001b[0;36m40\u001b[0m\u001b[0;34m)\u001b[0m\u001b[0;34m]\u001b[0m\u001b[0;34m)\u001b[0m\u001b[0;34m\u001b[0m\u001b[0;34m\u001b[0m\u001b[0m\n\u001b[0m",
      "\u001b[0;32m<ipython-input-84-f8162784a4cd>\u001b[0m in \u001b[0;36mhitri\u001b[0;34m(teki)\u001b[0m\n\u001b[1;32m      2\u001b[0m     \u001b[0mindeksi\u001b[0m \u001b[0;34m=\u001b[0m \u001b[0;34m[\u001b[0m\u001b[0;34m]\u001b[0m\u001b[0;34m\u001b[0m\u001b[0;34m\u001b[0m\u001b[0m\n\u001b[1;32m      3\u001b[0m     \u001b[0;32mfor\u001b[0m \u001b[0mi\u001b[0m\u001b[0;34m,\u001b[0m \u001b[0;34m(\u001b[0m\u001b[0mdolzina\u001b[0m\u001b[0;34m,\u001b[0m \u001b[0mcas\u001b[0m\u001b[0;34m)\u001b[0m \u001b[0;32min\u001b[0m \u001b[0menumerate\u001b[0m\u001b[0;34m(\u001b[0m\u001b[0mteki\u001b[0m\u001b[0;34m,\u001b[0m \u001b[0mstart\u001b[0m\u001b[0;34m=\u001b[0m\u001b[0;36m1\u001b[0m\u001b[0;34m)\u001b[0m\u001b[0;34m:\u001b[0m\u001b[0;34m\u001b[0m\u001b[0;34m\u001b[0m\u001b[0m\n\u001b[0;32m----> 4\u001b[0;31m         \u001b[0;32mif\u001b[0m \u001b[0mcas\u001b[0m \u001b[0;34m/\u001b[0m \u001b[0mdolzina\u001b[0m \u001b[0;34m>=\u001b[0m \u001b[0;36m6\u001b[0m\u001b[0;34m:\u001b[0m\u001b[0;34m\u001b[0m\u001b[0;34m\u001b[0m\u001b[0m\n\u001b[0m\u001b[1;32m      5\u001b[0m             \u001b[0mindeksi\u001b[0m\u001b[0;34m.\u001b[0m\u001b[0mappend\u001b[0m\u001b[0;34m(\u001b[0m\u001b[0mi\u001b[0m\u001b[0;34m)\u001b[0m\u001b[0;34m\u001b[0m\u001b[0;34m\u001b[0m\u001b[0m\n\u001b[1;32m      6\u001b[0m     \u001b[0;32mreturn\u001b[0m \u001b[0mindeksi\u001b[0m\u001b[0;34m\u001b[0m\u001b[0;34m\u001b[0m\u001b[0m\n",
      "\u001b[0;31mZeroDivisionError\u001b[0m: division by zero"
     ]
    }
   ],
   "source": [
    "hitri([(3,15), (5,25), (0,0), (0,0), (0,0), (8, 40)])"
   ]
  },
  {
   "cell_type": "markdown",
   "metadata": {},
   "source": [
    "Ker si nesrečnik zabeleži dneve, ko ni tekel, z `(0, 0)`, dobimo tu deljenje z 0. Takšne je potrebno preskočiti."
   ]
  },
  {
   "cell_type": "code",
   "execution_count": 86,
   "metadata": {},
   "outputs": [],
   "source": [
    "def hitri(teki):\n",
    "    indeksi = []\n",
    "    for i, (dolzina, cas) in enumerate(teki, start=1):\n",
    "        if dolzina > 0 and cas / dolzina >= 6:\n",
    "            indeksi.append(i)\n",
    "    return indeksi"
   ]
  },
  {
   "cell_type": "markdown",
   "metadata": {},
   "source": [
    "Oba pogoja damo v isti `if`. Ne pišite\n",
    "\n",
    "```python\n",
    "if dolzina > 0:\n",
    "    if cas / dolzina >= 6:\n",
    "        ...\n",
    "```\n",
    "\n",
    "Namesto dveh gnezdenih `if` lahko zelo pogosto (nikakor pa ne vedno) uporabimo `and`.\n",
    "\n",
    "Druga past je fizikalna. Ali tekaška. Pri teku navadno ne merimo hitrosti, temveč tempo. Ne zanima nas, koliko kilometrov naredimo v uri, temveč, koliko minut potrebujemo za kilometer. Tekač nikoli ne teče z 10 kilometri na uro, temveč s šestimi minutami na kilometer. Čeprav je to eno in isto. Posledično je tekač hiter, ko so številke majhne, ne visoke. Hiter je bil recimo, norec, ki je pretekel maraton s hitrostjo manj kot treh minut na kilometer (se pravi, dve uri), ne nekdo, ki ga je odšepal s šestimi minutami na kilometer.\n",
    "\n",
    "Pogoj v gornji funkciji je torej potrebno obrniti: ne `>= 6`, temveč `<= 6`."
   ]
  },
  {
   "cell_type": "code",
   "execution_count": 87,
   "metadata": {},
   "outputs": [],
   "source": [
    "def hitri(teki):\n",
    "    indeksi = []\n",
    "    for i, (dolzina, cas) in enumerate(teki, start=1):\n",
    "        if dolzina > 0 and cas / dolzina <= 6:\n",
    "            indeksi.append(i)\n",
    "    return indeksi"
   ]
  },
  {
   "cell_type": "markdown",
   "metadata": {},
   "source": [
    "Zadnja funkcija je število zaporednih dni abstinence. Ta je nekoliko težja."
   ]
  },
  {
   "cell_type": "code",
   "execution_count": 88,
   "metadata": {},
   "outputs": [],
   "source": [
    "def zaporedje(teki):\n",
    "    naj_dolzina = 0\n",
    "    dolzina = 0\n",
    "    for razdalja, _ in teki:\n",
    "        if razdalja == 0:\n",
    "            dolzina += 1\n",
    "            if dolzina > naj_dolzina:\n",
    "                naj_dolzina = dolzina\n",
    "        else:\n",
    "            dolzina = 0\n",
    "    return naj_dolzina"
   ]
  },
  {
   "cell_type": "markdown",
   "metadata": {},
   "source": [
    "Zapomniti si je potrebno najdaljši čas abstinence (`naj_dolzina`) in dolžino trenutne abstinence (`dolzina`). V zanki se dogaja tole: če je razdalja `0`, se pravi, če ni tekel, povečamo trenutno dolžino abstinence za 1 in preverimo ali je to več kot največ, kar smo videli doslej. Če je tekel, pa je dolžina abstinence (spet) `0`.\n",
    "\n",
    "Poglejte zanko `for`. Spet bi pisali `for razdalja, cas in teki`. Vendar spremenljivke `cas` v resnici ne potrebujemo. No, `for razdalja in teki` ne bi delovalo (vsaj ne tako, kot bi hoteli), saj bi bila `razdalja` v tem primeru cela terka. V zanki moramo torej našteti dve spremenljivke. Ker druge ne potrebujemo, pa ji damo ime `_`. To ime je uveljavljeno, običajno ime za spremenljivko, katere vrednost nas v resnici ne zanima, vendar jo moramo napisati, da se v njej \"izgubi\" neka nepotrebna vrednost.\n",
    "\n",
    "Končno napišimo še funkcijo, ki jo hoče naloga: `statistika` bo poklicala vse tri funkcije in vrnila njihove rezultate."
   ]
  },
  {
   "cell_type": "code",
   "execution_count": 89,
   "metadata": {},
   "outputs": [],
   "source": [
    "def statistika(teki):\n",
    "    return dolgi(teki), zaporedje(teki), hitri(teki)"
   ]
  },
  {
   "cell_type": "code",
   "execution_count": 90,
   "metadata": {},
   "outputs": [
    {
     "data": {
      "text/plain": [
       "(1, 1, [4])"
      ]
     },
     "execution_count": 90,
     "metadata": {},
     "output_type": "execute_result"
    }
   ],
   "source": [
    "statistika([(3,20), (4,25), (0,0), (5,30)])"
   ]
  },
  {
   "cell_type": "code",
   "execution_count": 91,
   "metadata": {},
   "outputs": [
    {
     "data": {
      "text/plain": [
       "(2, 3, [1, 2, 6])"
      ]
     },
     "execution_count": 91,
     "metadata": {},
     "output_type": "execute_result"
    }
   ],
   "source": [
    "statistika([(3,15), (5,25), (0,0), (0,0), (0,0), (8, 40)])"
   ]
  },
  {
   "cell_type": "code",
   "execution_count": 92,
   "metadata": {},
   "outputs": [
    {
     "data": {
      "text/plain": [
       "(4, 0, [1, 2, 3])"
      ]
     },
     "execution_count": 92,
     "metadata": {},
     "output_type": "execute_result"
    }
   ],
   "source": [
    "statistika([(10,55), (9,40), (12,60), (4,35), (5,40)])"
   ]
  },
  {
   "attachments": {},
   "cell_type": "markdown",
   "metadata": {},
   "source": [
    "### Naloga 2: Simon\n",
    "\n",
    "*Igra »Simon reče« gre tako, da karkoli reče tisti, ki je Simon, ostali naredijo. Npr. Simon reče: »Simon reče zaploskajte«, nato pa vsi zaploskajo. Če Simon na začetku ne reče »Simon reče«, pa tega ne smejo narediti.*\n",
    "\n",
    "*Napišite funkcijo `simon(niz)`, ki za podani niz preveri ali je ustrezen, se pravi, ali se začne s »Simon reče« ali ne. V primeru, da je, naj vrne del niza z navodilom, drugače pa `False`.*\n",
    "\n",
    "```\n",
    ">>> simon('Simon reče zaploskajte')\n",
    "zaploskajte\n",
    ">>> simon('Simon reče primite se za nos')\n",
    "primite se za nos\n",
    ">>> simon('Dvignite levo roko')\n",
    "False\n",
    "```\n",
    "\n",
    "#### Rešitev\n",
    "\n",
    "Če se spomnimo, da imajo nizi funkcijo `startswith`, se s to nalogo ne bomo veliko zamudili."
   ]
  },
  {
   "cell_type": "code",
   "execution_count": 103,
   "metadata": {},
   "outputs": [],
   "source": [
    "def simon(navodilo):\n",
    "    zacetek = \"Simon reče \"\n",
    "    if navodilo.startswith(zacetek):\n",
    "        return navodilo[len(zacetek):]\n",
    "    return False"
   ]
  },
  {
   "cell_type": "code",
   "execution_count": 104,
   "metadata": {},
   "outputs": [
    {
     "data": {
      "text/plain": [
       "'zaploskajte'"
      ]
     },
     "execution_count": 104,
     "metadata": {},
     "output_type": "execute_result"
    }
   ],
   "source": [
    "simon('Simon reče zaploskajte')"
   ]
  },
  {
   "cell_type": "code",
   "execution_count": 105,
   "metadata": {},
   "outputs": [
    {
     "data": {
      "text/plain": [
       "'primite se za nos'"
      ]
     },
     "execution_count": 105,
     "metadata": {},
     "output_type": "execute_result"
    }
   ],
   "source": [
    "simon('Simon reče primite se za nos')"
   ]
  },
  {
   "cell_type": "code",
   "execution_count": 106,
   "metadata": {},
   "outputs": [
    {
     "data": {
      "text/plain": [
       "False"
      ]
     },
     "execution_count": 106,
     "metadata": {},
     "output_type": "execute_result"
    }
   ],
   "source": [
    "simon('Dvignite levo roko')"
   ]
  },
  {
   "cell_type": "markdown",
   "metadata": {},
   "source": [
    "Iz nekega zanimivega razloga deluje celo:"
   ]
  },
  {
   "cell_type": "code",
   "execution_count": 107,
   "metadata": {},
   "outputs": [],
   "source": [
    "def simon(navodilo):\n",
    "    zacetek = \"Simon reče \"\n",
    "    return navodilo.startswith(zacetek) and navodilo[len(zacetek):]"
   ]
  },
  {
   "cell_type": "code",
   "execution_count": 108,
   "metadata": {},
   "outputs": [
    {
     "data": {
      "text/plain": [
       "'zaploskajte'"
      ]
     },
     "execution_count": 108,
     "metadata": {},
     "output_type": "execute_result"
    }
   ],
   "source": [
    "simon('Simon reče zaploskajte')"
   ]
  },
  {
   "cell_type": "code",
   "execution_count": 109,
   "metadata": {},
   "outputs": [
    {
     "data": {
      "text/plain": [
       "'primite se za nos'"
      ]
     },
     "execution_count": 109,
     "metadata": {},
     "output_type": "execute_result"
    }
   ],
   "source": [
    "simon('Simon reče primite se za nos')"
   ]
  },
  {
   "cell_type": "code",
   "execution_count": 110,
   "metadata": {},
   "outputs": [
    {
     "data": {
      "text/plain": [
       "False"
      ]
     },
     "execution_count": 110,
     "metadata": {},
     "output_type": "execute_result"
    }
   ],
   "source": [
    "simon('Dvignite levo roko')"
   ]
  },
  {
   "attachments": {},
   "cell_type": "markdown",
   "metadata": {},
   "source": [
    "### Naloga 1: Dvojiški zapis\n",
    "\n",
    "*Napišite funkcijo binarno(stevilo), ki za podano celo število vrne niz z binarno vrednostjo tega števila.*\n",
    "\n",
    "*Spomnimo: binarno vrednost desetiškega števila dobimo tako, da ponavljamo postopek deljenja s številom dva dokler količnik ni enak 0. Ostanke preberemo v obratnem vrstnem redu.*\n",
    "\n",
    "*Primer za število 25:*\n",
    "\n",
    "- *25 deljeno z 2 = 12, ostanek: 1*\n",
    "- *12 deljeno z 2 = 6, ostanek: 0*\n",
    "- *6 deljeno z 2 = 3, ostanek: 0*\n",
    "- *3 deljeno z 2 = 1, ostanek: 1*\n",
    "- *1 deljeno z 2 = 0, ostanek: 1*\n",
    "\n",
    "*Količnik je 0, zato končamo. Rezultat so ostanki, ki jih preberemo v obratnem vrstnem redu: 11001.*\n",
    "\n",
    "```\n",
    ">>> binarno(10)\n",
    "1010\n",
    ">>> binarno(19)\n",
    "10011\n",
    ">>> binarno(42)\n",
    "101010\n",
    "```\n",
    "\n",
    "#### Rešitev\n",
    "\n",
    "Le sledimo receptu: pripravimo niz, v katerega bomo zlagali ostanke. Dokler število ni enako 0, v niz z ostanki dodamo ostanek po deljenju z 2, število pa celoštevilsko (`//`, ne `/`) delimo z 2. Na koncu vrnemo niz z ostanki, obrnjen naokrog.\n",
    "\n",
    "Če je začetno število enako 0, pa vrnemo \"0\". Z negativnimi pa se ne bomo ukvarjali."
   ]
  },
  {
   "cell_type": "code",
   "execution_count": 115,
   "metadata": {},
   "outputs": [],
   "source": [
    "def binarno(i):\n",
    "    if i == 0:\n",
    "        return \"0\"\n",
    "    \n",
    "    s = \"\"\n",
    "    while i > 0:\n",
    "        s += str(i % 2)\n",
    "        i //= 2\n",
    "    return s[::-1] or \"0\""
   ]
  },
  {
   "cell_type": "code",
   "execution_count": 116,
   "metadata": {},
   "outputs": [
    {
     "data": {
      "text/plain": [
       "'1010'"
      ]
     },
     "execution_count": 116,
     "metadata": {},
     "output_type": "execute_result"
    }
   ],
   "source": [
    "binarno(10)"
   ]
  },
  {
   "cell_type": "code",
   "execution_count": 117,
   "metadata": {},
   "outputs": [
    {
     "data": {
      "text/plain": [
       "'10011'"
      ]
     },
     "execution_count": 117,
     "metadata": {},
     "output_type": "execute_result"
    }
   ],
   "source": [
    "binarno(19)"
   ]
  },
  {
   "cell_type": "code",
   "execution_count": 118,
   "metadata": {},
   "outputs": [
    {
     "data": {
      "text/plain": [
       "'101010'"
      ]
     },
     "execution_count": 118,
     "metadata": {},
     "output_type": "execute_result"
    }
   ],
   "source": [
    "binarno(42)"
   ]
  }
 ],
 "metadata": {
  "kernelspec": {
   "display_name": "Python 3",
   "language": "python",
   "name": "python3"
  },
  "language_info": {
   "codemirror_mode": {
    "name": "ipython",
    "version": 3
   },
   "file_extension": ".py",
   "mimetype": "text/x-python",
   "name": "python",
   "nbconvert_exporter": "python",
   "pygments_lexer": "ipython3",
   "version": "3.7.4"
  }
 },
 "nbformat": 4,
 "nbformat_minor": 4
}
