{
 "cells": [
  {
   "cell_type": "markdown",
   "metadata": {},
   "source": [
    "Na prvih predavanjih navadno rešimo nekaj nalog z izpita iz Uvoda v programiranje. Malo za ponavljanje, malo za spoznavanje novega predavatelja. Pa še dober vtis, kako lepo skrbimo za povezanost predmetov, pustimo. :)"
   ]
  },
  {
   "attachments": {},
   "cell_type": "markdown",
   "metadata": {},
   "source": [
    "## 1. Pretvarjanje iz šestnajstiškega zapisa\n",
    "\n",
    "Napišite funkcijo za pretvarjanje šestnajstiškega števila v desetiško. Funkcija `pretvori(sestnajstisko)`, dobi kot vhodni podatek šestnajstiško število v obliki niza in vrne celo število, ki predstavlja njegovo desetiško vrednost. \n",
    "Za šestnajstiško število $s_{n-1}\\ldots s_3s_2s_1s_0$, izračunamo njeno desetiško vrednost: $s_{n-1} \\times 16^{n-1} + \\ldots + s_3 \\times 16^3 + s_2 \\times 16^2 + s_1 \\times 16^1 + s_0 \\times 16^0$. Spomnimo, da pri šestnajstiških številih za zapis vrednosti poleg desetiških števk 0-9 uporabimo še črke ('A' – 10, 'B' – 11, 'C' – 12, 'D' – 13, 'E' – 14, 'F' - 15).\n",
    "\n",
    "Za število '1B83' mora funkcija tako vrniti: $1 \\times 16^3 + 11 \\times 16^2 + 8 \\times 16^1 + 3 \\times 16^0 = 7043$.\n",
    "\n",
    "```python\n",
    ">>> pretvori('12C')\n",
    "300\n",
    ">>> pretvori('ABCDEF')\n",
    "11259375\n",
    "```\n",
    "\n",
    "### Rešitev po navodilih\n",
    "\n",
    "Najprej se lotimo striktno po formuli. Šteli bomo od `n - 1` do `0`, kjer bo `n` seveda dolžina niza. Za začetek ne bomo uporabili niti zanke `for`, kar z `while` se bomo lotili. In za začetek bomo le izpisali indekse."
   ]
  },
  {
   "cell_type": "code",
   "execution_count": 1,
   "metadata": {},
   "outputs": [],
   "source": [
    "def pretvori(sestnajstisko):\n",
    "    i = len(sestnajstisko) - 1\n",
    "    while i >= 0:\n",
    "        print(i)\n",
    "        i = i - 1"
   ]
  },
  {
   "cell_type": "code",
   "execution_count": 2,
   "metadata": {},
   "outputs": [
    {
     "name": "stdout",
     "output_type": "stream",
     "text": [
      "2\n",
      "1\n",
      "0\n"
     ]
    }
   ],
   "source": [
    "pretvori(\"12C\")"
   ]
  },
  {
   "cell_type": "markdown",
   "metadata": {},
   "source": [
    "Zdaj pa poleg indeksa izpišimo pripadajočo šestnajstiško števko in potenco 16."
   ]
  },
  {
   "cell_type": "code",
   "execution_count": 3,
   "metadata": {},
   "outputs": [],
   "source": [
    "def pretvori(sestnajstisko):\n",
    "    n = len(sestnajstisko)\n",
    "    i = n - 1\n",
    "    while i >= 0:\n",
    "        print(i, sestnajstisko[i], 16 ** i)\n",
    "        i = i - 1"
   ]
  },
  {
   "cell_type": "code",
   "execution_count": 4,
   "metadata": {},
   "outputs": [
    {
     "name": "stdout",
     "output_type": "stream",
     "text": [
      "2 C 256\n",
      "1 2 16\n",
      "0 1 1\n"
     ]
    }
   ],
   "source": [
    "pretvori(\"12C\")"
   ]
  },
  {
   "cell_type": "markdown",
   "metadata": {},
   "source": [
    "Tole očitno ne bo OK: indeksi v nizih tečejo z leve proti desni, števke v $s_{n-1}\\ldots s_3s_2s_1s_0$ pa so označene z desne proti levi. Potrebno jih bo, uh, obrniti. Odšteli jih bomo od `n - 1`. Da bo reč preglednejša - sploh pa, ker nam bo to prišlo prav kasneje - bomo števko shranili v spremenljivko."
   ]
  },
  {
   "cell_type": "code",
   "execution_count": 5,
   "metadata": {},
   "outputs": [],
   "source": [
    "def pretvori(sestnajstisko):\n",
    "    n = len(sestnajstisko)\n",
    "    i = n - 1\n",
    "    while i >= 0:\n",
    "        stevka = sestnajstisko[n - 1 - i]\n",
    "        print(i, stevka, 16 ** i)\n",
    "        i = i - 1"
   ]
  },
  {
   "cell_type": "code",
   "execution_count": 6,
   "metadata": {},
   "outputs": [
    {
     "name": "stdout",
     "output_type": "stream",
     "text": [
      "2 1 256\n",
      "1 2 16\n",
      "0 C 1\n"
     ]
    }
   ],
   "source": [
    "pretvori(\"12C\")"
   ]
  },
  {
   "cell_type": "markdown",
   "metadata": {},
   "source": [
    "Zdaj pa poiščimo način, da pretvorimo črke A, B, C, D, E, F v števila od 10 do 15. Najpreprostejši je, da uporabimo ASCII kodiranje. Kot ste se že ali pa se še niste učili pri kakem drugem predmetu, v skrajnem primeru pri tem, je vsakemu znaku prirejena neka koda, številka, s katero je shranjen v pomnilniku (to dandanes ni več čisto povsem res, a v okviru te naloge je dovolj blizu resnice. Črki A je prirejena koda 65, črki B 66, C je 67 in tako naprej. Kodo, ki je prirejena posameznemu znaku, pove funkcija `ord`."
   ]
  },
  {
   "cell_type": "code",
   "execution_count": 7,
   "metadata": {},
   "outputs": [
    {
     "data": {
      "text/plain": [
       "65"
      ]
     },
     "execution_count": 7,
     "metadata": {},
     "output_type": "execute_result"
    }
   ],
   "source": [
    "ord(\"A\")"
   ]
  },
  {
   "cell_type": "code",
   "execution_count": 8,
   "metadata": {},
   "outputs": [
    {
     "data": {
      "text/plain": [
       "66"
      ]
     },
     "execution_count": 8,
     "metadata": {},
     "output_type": "execute_result"
    }
   ],
   "source": [
    "ord(\"B\")"
   ]
  },
  {
   "cell_type": "code",
   "execution_count": 9,
   "metadata": {},
   "outputs": [
    {
     "data": {
      "text/plain": [
       "70"
      ]
     },
     "execution_count": 9,
     "metadata": {},
     "output_type": "execute_result"
    }
   ],
   "source": [
    "ord(\"F\")"
   ]
  },
  {
   "cell_type": "markdown",
   "metadata": {},
   "source": [
    "Od znaka do številske vrednosti v šestnajstiškem zapisu bomo prišli tako, da bomo od kode znaka odšteli 55."
   ]
  },
  {
   "cell_type": "code",
   "execution_count": 10,
   "metadata": {},
   "outputs": [
    {
     "data": {
      "text/plain": [
       "10"
      ]
     },
     "execution_count": 10,
     "metadata": {},
     "output_type": "execute_result"
    }
   ],
   "source": [
    "ord(\"A\") - 55"
   ]
  },
  {
   "cell_type": "code",
   "execution_count": 11,
   "metadata": {},
   "outputs": [
    {
     "data": {
      "text/plain": [
       "15"
      ]
     },
     "execution_count": 11,
     "metadata": {},
     "output_type": "execute_result"
    }
   ],
   "source": [
    "ord(\"F\") - 55"
   ]
  },
  {
   "cell_type": "markdown",
   "metadata": {},
   "source": [
    "Odlično, zdaj namesto števk izpisujmo njihove številske vrednosti."
   ]
  },
  {
   "cell_type": "code",
   "execution_count": 12,
   "metadata": {},
   "outputs": [],
   "source": [
    "def pretvori(sestnajstisko):\n",
    "    n = len(sestnajstisko)\n",
    "    i = n - 1\n",
    "    while i >= 0:\n",
    "        stevka = sestnajstisko[n - 1 - i]\n",
    "        if '0' <= stevka <= '9':\n",
    "            stevka = int(stevka)\n",
    "        else:\n",
    "            stevka = ord(stevka) - 55\n",
    "        print(i, stevka, 16 ** i)\n",
    "        i = i - 1"
   ]
  },
  {
   "cell_type": "code",
   "execution_count": 13,
   "metadata": {},
   "outputs": [
    {
     "name": "stdout",
     "output_type": "stream",
     "text": [
      "2 1 256\n",
      "1 2 16\n",
      "0 12 1\n"
     ]
    }
   ],
   "source": [
    "pretvori(\"12C\")"
   ]
  },
  {
   "cell_type": "markdown",
   "metadata": {},
   "source": [
    "Kar smo naredili zgoraj, zasluži nekaj pozitivnih in negativnih komentarjev.\n",
    "\n",
    "- Nize lahko primerjamo z operatorji, kot so `>` in `<=`. Primerjava teče načelno po abecedi, tako da je `\"benjamin\" < \"cilka\"`. Vendar: vse velike črke so po abecedi pred malimi, števka so pred črkami, klicaj je pred narekovajem - to \"primerjanje po abecedi\" v resnici primerja kode znakov. Poleg tega ne deluje s šumniki; Python nima pojma (razen, če mu to povemo, vendar tega nikoli nisem počel in ne znam, samo vem, kam bi šel gledat, če bi moral), da uporabljamo slovensko abecedo, kjer je \"č\" med \"c\" in \"d\"; v kaki drugi abecedi, ki morda ima \"č\", bi to lahko bilo tudi drugače.\n",
    "\n",
    "- Operatorje lahko nizamo. Če se boste kdaj zatekali h kakemu \"resnemu programerju\", ki v resnici ne bo imel pojma o Pythonu, vam bo napisal `if stevka >= '0' and stevka <= '9':`, ker je v drugih jezikih pač treba delati tako. Python je tu prijaznejši.\n",
    "\n",
    "- Če imamo števko med 0 in 9, bi jo lahko pretvorili z `stevka = ord(stevka) - ord('0')`. Ampak ne bomo; tu lahko uporabimo `int`, saj lahko vsebino niza razumemo kot desetiško število. Pri pretvarjanju števk med A in F pa smo uporabili gornje odkritje.\n",
    "\n",
    "- Funkcija \"reciklira\" ime `stevka`: najprej se nanaša na znak iz niza, nato na njegovo številsko vrednost. Prej omenjenemu \"resnemu programerju\", ki v resnici nima pojma o Pythonu, bi šli lasje pokonci in bi začel govoriti neumnosti o tem, da \"Python nima tipov\" ali kaj podobnega. Python ima tipe; in to najbrž bolj zares kot njegov najljubši jezik. Po drugi strani pa to, kar smo naredili res ni lepo; da neko ime (`stevka`) sredi funkcije spremeni pomen, res ni najbolj zgledno. Zakaj sem to potem storil? Ker je funkcija kratka, tako da zmeda ne bo prehuda. Pa še boljšega imena se nisem mogel domisliti. Lepo pa to vseeno ni.\n",
    "\n",
    "Končajmo zdaj to delo: izračunajmo produkte in jih seštejmo."
   ]
  },
  {
   "cell_type": "code",
   "execution_count": 14,
   "metadata": {},
   "outputs": [],
   "source": [
    "def pretvori(sestnajstisko):\n",
    "    n = len(sestnajstisko)\n",
    "    i = n - 1\n",
    "    desetisko = 0\n",
    "    while i >= 0:\n",
    "        stevka = sestnajstisko[n - 1 - i]\n",
    "        if '0' <= stevka <= '9':\n",
    "            stevka = int(stevka)\n",
    "        else:\n",
    "            stevka = ord(stevka) - 55\n",
    "        desetisko += stevka * 16 ** i\n",
    "        i = i - 1\n",
    "    return desetisko"
   ]
  },
  {
   "cell_type": "code",
   "execution_count": 15,
   "metadata": {},
   "outputs": [
    {
     "data": {
      "text/plain": [
       "300"
      ]
     },
     "execution_count": 15,
     "metadata": {},
     "output_type": "execute_result"
    }
   ],
   "source": [
    "pretvori(\"12C\")"
   ]
  },
  {
   "cell_type": "code",
   "execution_count": 16,
   "metadata": {},
   "outputs": [
    {
     "data": {
      "text/plain": [
       "11259375"
      ]
     },
     "execution_count": 16,
     "metadata": {},
     "output_type": "execute_result"
    }
   ],
   "source": [
    "pretvori(\"ABCDEF\")"
   ]
  },
  {
   "cell_type": "markdown",
   "metadata": {},
   "source": [
    "Zdaj pa to reč naredimo malenkost spodobneje: za začetek zamenjajmo zanko `while` s `for`."
   ]
  },
  {
   "cell_type": "code",
   "execution_count": 17,
   "metadata": {},
   "outputs": [],
   "source": [
    "def pretvori(sestnajstisko):\n",
    "    n = len(sestnajstisko)\n",
    "    desetisko = 0\n",
    "    for i in range(n - 1, -1, -1):\n",
    "        stevka = sestnajstisko[n - 1 - i]\n",
    "        if '0' <= stevka <= '9':\n",
    "            stevka = int(stevka)\n",
    "        else:\n",
    "            stevka = ord(stevka) - 55\n",
    "        desetisko += stevka * 16 ** i\n",
    "    return desetisko"
   ]
  },
  {
   "cell_type": "code",
   "execution_count": 18,
   "metadata": {},
   "outputs": [
    {
     "data": {
      "text/plain": [
       "300"
      ]
     },
     "execution_count": 18,
     "metadata": {},
     "output_type": "execute_result"
    }
   ],
   "source": [
    "pretvori(\"12C\")"
   ]
  },
  {
   "cell_type": "markdown",
   "metadata": {},
   "source": [
    "Zanka je zoprna: teče od `n - 1` in ker hočemo, da gre do 0, moramo reči, naj gre do `-1`. Na koncu pa še korak, `-1`.\n",
    "\n",
    "V resnici bi to raje preobrnil, zamenjal indeksiranje. Število bi označil kot $s_0s_1_s_2\\ldots s_{n-1}$, potem pa `s_i` množil z `16^{n - 1 -i}` - kar razmislite, da je to isto."
   ]
  },
  {
   "cell_type": "code",
   "execution_count": 19,
   "metadata": {},
   "outputs": [],
   "source": [
    "def pretvori(sestnajstisko):\n",
    "    n = len(sestnajstisko)\n",
    "    desetisko = 0\n",
    "    for i in range(n):\n",
    "        stevka = sestnajstisko[i]\n",
    "        if '0' <= stevka <= '9':\n",
    "            stevka = int(stevka)\n",
    "        else:\n",
    "            stevka = ord(stevka) - 55\n",
    "        desetisko += stevka * 16 ** (n - i - 1)\n",
    "    return desetisko"
   ]
  },
  {
   "cell_type": "markdown",
   "metadata": {},
   "source": [
    "Že kar lažje diham.\n",
    "\n",
    "Zdaj poenostavimo pretvarjanje števk. Uporabimo drugačen trik. Se spominjamo metode `index`? Imajo jo tako seznami in terke kot tudi nizi: če je `s` nek seznam ali terka (ali niz), nam `s.index(o)` pove, kjer v njem se nahaja element (ali znak) `o`. Pred metodo `index` študente navadno svarim: pogosto jo uporabljajo, ko je ne potrebujejo, ko je počasna ali ko celo ne dela tako, kot so si zamislili, da bo. Tule pa je prikladna."
   ]
  },
  {
   "cell_type": "code",
   "execution_count": 20,
   "metadata": {},
   "outputs": [
    {
     "data": {
      "text/plain": [
       "5"
      ]
     },
     "execution_count": 20,
     "metadata": {},
     "output_type": "execute_result"
    }
   ],
   "source": [
    "\"0123456789ABCDEF\".index(\"5\")"
   ]
  },
  {
   "cell_type": "code",
   "execution_count": 21,
   "metadata": {},
   "outputs": [
    {
     "data": {
      "text/plain": [
       "10"
      ]
     },
     "execution_count": 21,
     "metadata": {},
     "output_type": "execute_result"
    }
   ],
   "source": [
    "\"0123456789ABCDEF\".index(\"A\")"
   ]
  },
  {
   "cell_type": "code",
   "execution_count": 22,
   "metadata": {},
   "outputs": [
    {
     "data": {
      "text/plain": [
       "15"
      ]
     },
     "execution_count": 22,
     "metadata": {},
     "output_type": "execute_result"
    }
   ],
   "source": [
    "\"0123456789ABCDEF\".index(\"F\")"
   ]
  },
  {
   "cell_type": "markdown",
   "metadata": {},
   "source": [
    "Vsak znak smo postavili na mesto, ki ustreza njegovi številski vrednosti.\n",
    "\n",
    "Pa imamo:"
   ]
  },
  {
   "cell_type": "code",
   "execution_count": 23,
   "metadata": {},
   "outputs": [],
   "source": [
    "def pretvori(sestnajstisko):\n",
    "    n = len(sestnajstisko)\n",
    "    desetisko = 0\n",
    "    for i in range(n):\n",
    "        stevka = \"0123456789ABCDEF\".index(sestnajstisko[i])\n",
    "        desetisko += stevka * 16 ** (n - i - 1)\n",
    "    return desetisko"
   ]
  },
  {
   "cell_type": "code",
   "execution_count": 24,
   "metadata": {},
   "outputs": [
    {
     "data": {
      "text/plain": [
       "300"
      ]
     },
     "execution_count": 24,
     "metadata": {},
     "output_type": "execute_result"
    }
   ],
   "source": [
    "pretvori(\"12C\")"
   ]
  },
  {
   "cell_type": "markdown",
   "metadata": {},
   "source": [
    "Zdaj, ko smo poenostavili notranjost zanke, razmislimo še malo o zanki sami. Zanka gre prek v bistvu prek vseh znakov niza `sestnajstisko`, potrebujemo pa tako znak kot njegovo mesto, indeks.\n",
    "\n",
    "Rotim vas - in vas še bom, ves semester - ko gre zanka prek neke reči, najsibo seznam, niz ali kaj, česar sploh še ne poznamo, naredite zanko prek te reči, ne prek indeksov. Torej, v bistvu `for stevka in sestnajstisko`. Zakaj? Tako bodo programi tipično krajši, predvsem pa se bo jasneje videlo, kaj se dogaja v njih.\n",
    "\n",
    "Kadar poleg elementov niza ali česarkoli že potrebujemo tudi indekse, uporabimo `enumerate`, torej `for i, stevka in enumerate(sestnajstisko)`."
   ]
  },
  {
   "cell_type": "code",
   "execution_count": 25,
   "metadata": {},
   "outputs": [],
   "source": [
    "def pretvori(sestnajstisko):\n",
    "    n = len(sestnajstisko)\n",
    "    desetisko = 0\n",
    "    for i, stevka in enumerate(sestnajstisko):\n",
    "        stevka = \"0123456789ABCDEF\".index(stevka)\n",
    "        desetisko += stevka * 16 ** (n - i - 1)\n",
    "    return desetisko"
   ]
  },
  {
   "cell_type": "code",
   "execution_count": 26,
   "metadata": {},
   "outputs": [
    {
     "data": {
      "text/plain": [
       "300"
      ]
     },
     "execution_count": 26,
     "metadata": {},
     "output_type": "execute_result"
    }
   ],
   "source": [
    "pretvori(\"12C\")"
   ]
  },
  {
   "cell_type": "markdown",
   "metadata": {},
   "source": [
    "Nekega lepega dne - o, kako lep dan bo to! - pa se bomo učili, da se da taisto idejo sprogramirati še veliko krajše."
   ]
  },
  {
   "cell_type": "code",
   "execution_count": 27,
   "metadata": {},
   "outputs": [],
   "source": [
    "def pretvori(sestnajstisko):\n",
    "    return sum(\"0123456789ABCDEF\".index(stevka) * 16 ** (len(sestnajstisko) - i - 1) for i, stevka in enumerate(sestnajstisko))\n"
   ]
  },
  {
   "cell_type": "code",
   "execution_count": 28,
   "metadata": {},
   "outputs": [
    {
     "data": {
      "text/plain": [
       "300"
      ]
     },
     "execution_count": 28,
     "metadata": {},
     "output_type": "execute_result"
    }
   ],
   "source": [
    "pretvori(\"12C\")"
   ]
  },
  {
   "cell_type": "markdown",
   "metadata": {},
   "source": [
    "### Rešitev po Rogatcu\n",
    "\n",
    "Po [Viljemu Juriju Rogatcu](https://en.wikipedia.org/wiki/William_George_Horner) se imenuje [metoda za izračun polinomov](https://en.wikipedia.org/wiki/Horner%27s_method), ki so jo stoletja pred njim odkrili Kitajci in Perzijci. Pravi tako: če hočeš izračunati $a_{n-1} \\times x^{n-1} + a_{n-2}x^{n-2} + a_{n-3}x{n-3} \\ldots + a_1 x^1 + a_0 x^0$, vendar danes ravno nisi pri volji za potenciranje, potem računaj kar $(\\ldots(((a_{n-1}) x + a_{n-2})x + a)x \\ldots + a_1) x + a_0$, češ da je to tako ali tako isto. Koeficient $a_{n-1}$ bo na koncu koncev točno $n-1$-krat pomnožen z $x$, kar je isto, kot če bi bil pomnožen z $x^{n-1}$. In podobo za ostale.\n",
    "\n",
    "Pri nas nimamo $a$ temveč $s$ in naš $x$ je preprosto $16$."
   ]
  },
  {
   "cell_type": "code",
   "execution_count": 29,
   "metadata": {},
   "outputs": [],
   "source": [
    "def pretvori(sestnajstisko):\n",
    "    desetisko = 0\n",
    "    for stevka in sestnajstisko:\n",
    "        desetisko = desetisko * 16 + \"0123456789ABCDEF\".index(stevka)\n",
    "    return desetisko"
   ]
  },
  {
   "cell_type": "code",
   "execution_count": 30,
   "metadata": {},
   "outputs": [
    {
     "data": {
      "text/plain": [
       "300"
      ]
     },
     "execution_count": 30,
     "metadata": {},
     "output_type": "execute_result"
    }
   ],
   "source": [
    "pretvori(\"12C\")"
   ]
  },
  {
   "cell_type": "markdown",
   "metadata": {},
   "source": [
    "Ne bo ga, tistega lepega dne, vsaj ne v prvem letniku, ko bi se učili, da se to krajše napiše tako:"
   ]
  },
  {
   "cell_type": "code",
   "execution_count": 31,
   "metadata": {},
   "outputs": [],
   "source": [
    "from functools import reduce\n",
    "\n",
    "def pretvori(sestnajstisko):\n",
    "    return reduce(lambda acc, stevka: 16 * acc + \"0123456789ABCDEF\".index(stevka), sestnajstisko, 0)"
   ]
  },
  {
   "cell_type": "code",
   "execution_count": 32,
   "metadata": {},
   "outputs": [
    {
     "data": {
      "text/plain": [
       "300"
      ]
     },
     "execution_count": 32,
     "metadata": {},
     "output_type": "execute_result"
    }
   ],
   "source": [
    "pretvori(\"12C\")"
   ]
  },
  {
   "cell_type": "markdown",
   "metadata": {},
   "source": [
    "Pravzaprav niti ni toliko krajše, samo bolj zanimivo.\n",
    "\n",
    "Ah, saj vem, tega sploh ne znate ceniti. Ampak mi verjemite na besedo, da je zanimivo. :)"
   ]
  },
  {
   "cell_type": "markdown",
   "metadata": {},
   "source": [
    "### Rešitev po dokumentaciji\n",
    "\n",
    "Pythonova funkcija `int` je od vraga. (Rogatca.) Če ste mislili, da ji lahko podate niz in vrne število, ste seveda mislili prav. Morda pa niste vedeli, da lahko poleg niza podate tudi številsko osnovo - Pythonu lahko poveste, da niz predstavlja šestnajstiško število."
   ]
  },
  {
   "cell_type": "code",
   "execution_count": 33,
   "metadata": {},
   "outputs": [],
   "source": [
    "def pretvori(sestnajstisko):\n",
    "    return int(sestnajstisko, 16)"
   ]
  },
  {
   "cell_type": "code",
   "execution_count": 34,
   "metadata": {},
   "outputs": [
    {
     "data": {
      "text/plain": [
       "300"
      ]
     },
     "execution_count": 34,
     "metadata": {},
     "output_type": "execute_result"
    }
   ],
   "source": [
    "pretvori(\"12C\")"
   ]
  },
  {
   "cell_type": "markdown",
   "metadata": {},
   "source": [
    "*C'est tout.*"
   ]
  },
  {
   "cell_type": "markdown",
   "metadata": {},
   "source": [
    "## 2. Mačja hrana\n",
    "\n",
    "Upravnica mačjega zavetišča si je olajšala delo pri razvrščanju hrane. Posodice je oštevilčila in uredila tako, da mora v vse, ki so deljive z 2 nasuti suhe hrane, v tiste deljive s 3 da mokro hrano, v tiste, ki so deljive z obema pa suho in mokro. V preostale da vodo. \n",
    "\n",
    "Napišite funkcijo `hrana(posodice)`, ki kot vhodni podatek dobi število posodic v obliki celega števila in vrne seznam, v katerem je element niz, ki predstavlja hrano/vodo v posodici. Prva posodica je v seznamu na 0 – tem mestu. \n",
    "\n",
    "```python\n",
    ">>> hrana(6)\n",
    "['voda', 'suha', 'mokra', 'suha', 'voda', 'mokra in suha']\n",
    ">>> hrana(15)\n",
    "['voda', 'suha', 'mokra', 'suha', 'voda', 'mokra in suha', 'voda', 'suha', 'mokra', 'suha', 'voda', 'mokra in suha', 'voda', 'suha', 'mokra']\n",
    "```"
   ]
  },
  {
   "cell_type": "markdown",
   "metadata": {},
   "source": [
    "### Rešitev z dodajanjem\n",
    "\n",
    "Nalogo najpreprosteje rešimo tako, da štejemo od 1 do n, kar se v Pythonu reče `range(1, n + 1)`, preverimo, kako je z deljivostjo in napolnimo posodo, kot je treba.\n",
    "\n",
    "Pri tem pametno nanizamo pogoje: znotraj pogoja, ki preverja, ali je številka dneva deljiva z 2, preverimo, ali je deljiva tudi s 3. Pa `elif` uporabimo, da se rešimo enega nivoja zamikanja."
   ]
  },
  {
   "cell_type": "code",
   "execution_count": 35,
   "metadata": {},
   "outputs": [],
   "source": [
    "def hrana(n):\n",
    "    posodice = []\n",
    "    for i in range(1, n + 1):\n",
    "        if i % 2 == 0:\n",
    "            if i % 3 == 0:\n",
    "                posodice.append(\"mokra in suha\")\n",
    "            else:\n",
    "                posodice.append(\"suha\")\n",
    "        elif i % 3 == 0:\n",
    "            posodice.append(\"mokra\")\n",
    "        else:\n",
    "            posodice.append(\"voda\")\n",
    "    return posodice"
   ]
  },
  {
   "cell_type": "markdown",
   "metadata": {},
   "source": [
    "Če je komu lažje razmišljati tako, pa tudi prav:"
   ]
  },
  {
   "cell_type": "code",
   "execution_count": 36,
   "metadata": {},
   "outputs": [],
   "source": [
    "def hrana(n):\n",
    "    posodice = []\n",
    "    for i in range(1, n + 1):\n",
    "        if i % 2 == 0 and i % 3 == 0:\n",
    "            posodice.append(\"mokra in suha\")\n",
    "        elif i % 2 == 0:\n",
    "            posodice.append(\"suha\")\n",
    "        elif i % 3 == 0:\n",
    "            posodice.append(\"mokra\")\n",
    "        else:\n",
    "            posodice.append(\"voda\")\n",
    "    return posodice"
   ]
  },
  {
   "cell_type": "code",
   "execution_count": 37,
   "metadata": {},
   "outputs": [
    {
     "data": {
      "text/plain": [
       "['voda',\n",
       " 'suha',\n",
       " 'mokra',\n",
       " 'suha',\n",
       " 'voda',\n",
       " 'mokra in suha',\n",
       " 'voda',\n",
       " 'suha',\n",
       " 'mokra',\n",
       " 'suha',\n",
       " 'voda',\n",
       " 'mokra in suha',\n",
       " 'voda',\n",
       " 'suha',\n",
       " 'mokra']"
      ]
     },
     "execution_count": 37,
     "metadata": {},
     "output_type": "execute_result"
    }
   ],
   "source": [
    "hrana(15)"
   ]
  },
  {
   "cell_type": "markdown",
   "metadata": {},
   "source": [
    "### Rešitev s popravljanjem\n",
    "\n",
    "Najprej natočimo vodo. Potem vsebino vseh sodih posodic zamenjamo s suho hrano. Potem vsebino vseh lihih zamenjamo z mokro. Potem vsebino vseh, deljivih s 6, zamenjamo s kombinacijo.\n",
    "\n",
    "Kako dobimo, recimo, vse posodice, ki ustrezajo dnevom, kateri številke so deljive s 6? To so dnevi na indeksih 5, 11, 17 in tako naprej do `n`. Torej `range(5, n, 6)`."
   ]
  },
  {
   "cell_type": "code",
   "execution_count": 38,
   "metadata": {},
   "outputs": [],
   "source": [
    "def hrana(n):\n",
    "    posodice = [\"voda\"] * n\n",
    "    for i in range(1, n, 2):\n",
    "        posodice[i] = \"suha\"\n",
    "    for i in range(2, n, 3):\n",
    "        posodice[i] = \"mokra\"\n",
    "    for i in range(5, n, 6):\n",
    "        posodice[i] = \"mokra in suha\"\n",
    "    return posodice"
   ]
  },
  {
   "cell_type": "code",
   "execution_count": 39,
   "metadata": {},
   "outputs": [
    {
     "data": {
      "text/plain": [
       "['voda',\n",
       " 'suha',\n",
       " 'mokra',\n",
       " 'suha',\n",
       " 'voda',\n",
       " 'mokra in suha',\n",
       " 'voda',\n",
       " 'suha',\n",
       " 'mokra',\n",
       " 'suha',\n",
       " 'voda',\n",
       " 'mokra in suha',\n",
       " 'voda',\n",
       " 'suha',\n",
       " 'mokra']"
      ]
     },
     "execution_count": 39,
     "metadata": {},
     "output_type": "execute_result"
    }
   ],
   "source": [
    "hrana(15)"
   ]
  },
  {
   "cell_type": "markdown",
   "metadata": {},
   "source": [
    "###  Rešitev s ponavljanjem\n",
    "\n",
    "OK, v seznamu se stalno ponavlja vzorec `['voda', 'suha', 'mokra', 'suha', 'voda', 'mokra in suha']`. Naredimo `(n + 5) // 6` ponovitev tega vzorca, potem pa vzemimo prvih `n` elementov.\n",
    "\n",
    "Kaj je `//` in čemu `+5`? `//` je celoštevilsko deljenje. Težko naredimo `2.5` ponovitve vzorca, ne? Ker pa celoštevilsko deljenje vedno zaokroža navzdol, poprej prištejemo `5`. Tako dobimo zaokrožanje navzgor. Če je `n` ravno deljivo s `6`, potem prištevanje `5` ne bo spremenilo ničesar. Če pa je ostanek po deljenju `n` s 6 enak `1`, bo prištevanje `5` poskrbelo, da se reč zaokroži navzgor. Pri večji ostankih pač toliko bolj.\n",
    "\n",
    "Emm, kako pa naredimo `(n + 5) // 6` ponovitev nekega vzorca? Saj ... ste se učili o tem triku?"
   ]
  },
  {
   "cell_type": "code",
   "execution_count": 40,
   "metadata": {},
   "outputs": [
    {
     "data": {
      "text/plain": [
       "['Ana',\n",
       " 'Berta',\n",
       " 'Cilka',\n",
       " 'Ana',\n",
       " 'Berta',\n",
       " 'Cilka',\n",
       " 'Ana',\n",
       " 'Berta',\n",
       " 'Cilka',\n",
       " 'Ana',\n",
       " 'Berta',\n",
       " 'Cilka']"
      ]
     },
     "execution_count": 40,
     "metadata": {},
     "output_type": "execute_result"
    }
   ],
   "source": [
    "[\"Ana\", \"Berta\", \"Cilka\"] * 4"
   ]
  },
  {
   "cell_type": "markdown",
   "metadata": {},
   "source": [
    "Tako je, ker je `[\"Ana\", \"Berta\", \"Cilka\"] * 4` pač isto kot `[\"Ana\", \"Berta\", \"Cilka\"] + [\"Ana\", \"Berta\", \"Cilka\"] + [\"Ana\", \"Berta\", \"Cilka\"] + [\"Ana\", \"Berta\", \"Cilka\"]`."
   ]
  },
  {
   "cell_type": "code",
   "execution_count": 41,
   "metadata": {},
   "outputs": [],
   "source": [
    "def hrana(n):\n",
    "    return (['voda', 'suha', 'mokra', 'suha', 'voda', 'mokra in suha'] * ((n + 5) // 6))[:n]"
   ]
  },
  {
   "cell_type": "code",
   "execution_count": 42,
   "metadata": {},
   "outputs": [
    {
     "data": {
      "text/plain": [
       "['voda',\n",
       " 'suha',\n",
       " 'mokra',\n",
       " 'suha',\n",
       " 'voda',\n",
       " 'mokra in suha',\n",
       " 'voda',\n",
       " 'suha',\n",
       " 'mokra',\n",
       " 'suha',\n",
       " 'voda',\n",
       " 'mokra in suha',\n",
       " 'voda',\n",
       " 'suha',\n",
       " 'mokra']"
      ]
     },
     "execution_count": 42,
     "metadata": {},
     "output_type": "execute_result"
    }
   ],
   "source": [
    "hrana(15)"
   ]
  },
  {
   "attachments": {},
   "cell_type": "markdown",
   "metadata": {},
   "source": [
    "## 3. Planinec Miha\n",
    "\n",
    "Planinec Miha si v seznamu beleži svoje vzpone. Element seznama je terka z imenom gore (niz) in njeno višino (celo število). Vrstni red v seznamu ponazarja vrsti red izletov. Napišite funkcijo `statistika(vzponi)`, ki za podan seznam vzponov vrne terko z naslednjimi vrednostmi:\n",
    "\n",
    "- Število osvojenih dvatisočakov. \n",
    "- Največjo razliko v višinskih metrih dveh zaporednih vzponov.\n",
    "- `True`/`False`, če je formo stopnjeval zlagoma, se pravi, da je za vsak naslednji vzpon šel na višjo goro. \n",
    "\n",
    "```python\n",
    ">>> statistika([(\"Črni vrh\", 1486), (\"Matajur\", 1642), (\"Krn\", 2244), (\"Špik\", 2472), (\"Škrlatica\", 2740)])\n",
    "(3, 602, True)\n",
    ">>> statistika([(\"Prisank\", 2547), (\"Jalovec\", 2645), (\"Triglav\", 2864), (\"Stenar\", 2501)])\n",
    "(4, 363, False)\n",
    "```\n",
    "\n",
    "### Rešitev\n",
    "\n",
    "Tule gre v bistvu za tri naloge in nihče nam ne brani napisati treh funkcij, ki vsaka lepo v miru izračuna, kar mora, potem pa četrta le pokliče te tri.\n",
    "\n",
    "Pa še nekaj si bomo privoščili: predpostavili bomo, da dobijo te funkcije le višine hribov, saj imen ne potrebujejo. Četrta funkcija pa jih bo potem seveda morala poklicati s primerno prečiščenim seznamom.\n",
    "\n",
    "Prva je najlažja: gremo po seznamu in preštevamo, koliko elementov je večjih od 2000."
   ]
  },
  {
   "cell_type": "code",
   "execution_count": 43,
   "metadata": {},
   "outputs": [],
   "source": [
    "def dvatisocaki(visine):\n",
    "    n = 0\n",
    "    for visina in visine:\n",
    "        if visina >= 2000:\n",
    "            n += 1\n",
    "    return n"
   ]
  },
  {
   "cell_type": "markdown",
   "metadata": {},
   "source": [
    "Preostali funkciji opazujeta zaporedne pare. To vedno počnite z `zip` - upam, da so vas naučili ta trik."
   ]
  },
  {
   "cell_type": "code",
   "execution_count": 44,
   "metadata": {},
   "outputs": [],
   "source": [
    "def naj_razlika(visine):\n",
    "    naj = 0\n",
    "    for visina1, visina2 in zip(visine, visine[1:]):\n",
    "        razlika = abs(visina1 - visina2)\n",
    "        if razlika > naj:\n",
    "            naj = razlika\n",
    "    return naj"
   ]
  },
  {
   "cell_type": "code",
   "execution_count": 45,
   "metadata": {},
   "outputs": [],
   "source": [
    "def narasca(visine):\n",
    "    for visina1, visina2 in zip(visine, visine[1:]):\n",
    "        if visina1 > visina2:\n",
    "            return False\n",
    "    return True"
   ]
  },
  {
   "cell_type": "markdown",
   "metadata": {},
   "source": [
    "Posebnega komentarja je vredna le zadnja: čim naletimo na nižji hrib, vrnemo `False`. S tem je konec zanke in funkcije. Če je s posamičnim parom vse v redu, pa se zanka nadaljuje: `True` vrnemo šele čisto na koncu, ko se zanka - in s tem preverjanje vseh parov, srečno izteče. Če se.\n",
    "\n",
    "Tole bi bilo narobe:\n",
    "\n",
    "```python\n",
    "# Tole ne deluje!\n",
    "def narasca(visine):\n",
    "    for visina1, visina2 in zip(visine, visine[1:]):\n",
    "        if visina1 > visina2:\n",
    "            return False\n",
    "        else:\n",
    "            return True\n",
    "```\n",
    "\n",
    "Tale funkcija bi preverila le prvi par in takoj vrnila `True` ali `False`. To napako boste pogosto delali kot študenti (vsaj nekateri) in pogosto videli kot učitelji (vsaj nekateri).\n",
    "\n",
    "Zdaj pa funkcija, ki jo zahteva naloga, in ki bo klicala gornje funkcije."
   ]
  },
  {
   "cell_type": "code",
   "execution_count": 46,
   "metadata": {},
   "outputs": [],
   "source": [
    "def statistika(vzponi):\n",
    "    visine = []\n",
    "    for hrib, visina in vzponi:\n",
    "        visine.append(visina)\n",
    "    return dvatisocaki(visine), naj_razlika(visine), narasca(visine)"
   ]
  },
  {
   "cell_type": "code",
   "execution_count": 47,
   "metadata": {},
   "outputs": [
    {
     "data": {
      "text/plain": [
       "(3, 602, True)"
      ]
     },
     "execution_count": 47,
     "metadata": {},
     "output_type": "execute_result"
    }
   ],
   "source": [
    "statistika([(\"Črni vrh\", 1486), (\"Matajur\", 1642), (\"Krn\", 2244), (\"Špik\", 2472), (\"Škrlatica\", 2740)])\n",
    "(3, 602, True)"
   ]
  },
  {
   "cell_type": "code",
   "execution_count": 48,
   "metadata": {},
   "outputs": [
    {
     "data": {
      "text/plain": [
       "(4, 363, False)"
      ]
     },
     "execution_count": 48,
     "metadata": {},
     "output_type": "execute_result"
    }
   ],
   "source": [
    "statistika([(\"Prisank\", 2547), (\"Jalovec\", 2645), (\"Triglav\", 2864), (\"Stenar\", 2501)])\n",
    "(4, 363, False)"
   ]
  },
  {
   "cell_type": "markdown",
   "metadata": {},
   "source": [
    "Nauk tule je, da so krajše funkcije dobre. No, ne funkcije, ki so kratke preprosto zato, ker ne počnejo ničesar. Ne drobite programov brez potrebe. Tule pa imamo tri funkcije, ki počnejo čisto ločene stvari. Zato jih je lepo razdeliti.\n",
    "\n",
    "Tistega lepega dne (če ne bo oni dan ravno dež) se bomo naučili narediti tako:"
   ]
  },
  {
   "cell_type": "code",
   "execution_count": 49,
   "metadata": {},
   "outputs": [],
   "source": [
    "def dvatisocaki(visine):\n",
    "    return sum(visina >= 2000 for visina in visine)\n",
    "\n",
    "def naj_razlika(visine):\n",
    "    return max(abs(x - y) for x, y in zip(visine, visine[1:]))\n",
    "\n",
    "def narasca(visine):\n",
    "    return all(x <= y for x, y in zip(visine, visine[1:]))"
   ]
  },
  {
   "cell_type": "code",
   "execution_count": 50,
   "metadata": {},
   "outputs": [
    {
     "data": {
      "text/plain": [
       "(3, 602, True)"
      ]
     },
     "execution_count": 50,
     "metadata": {},
     "output_type": "execute_result"
    }
   ],
   "source": [
    "statistika([(\"Črni vrh\", 1486), (\"Matajur\", 1642), (\"Krn\", 2244), (\"Špik\", 2472), (\"Škrlatica\", 2740)])\n",
    "(3, 602, True)"
   ]
  },
  {
   "cell_type": "code",
   "execution_count": 51,
   "metadata": {},
   "outputs": [
    {
     "data": {
      "text/plain": [
       "(4, 363, False)"
      ]
     },
     "execution_count": 51,
     "metadata": {},
     "output_type": "execute_result"
    }
   ],
   "source": [
    "statistika([(\"Prisank\", 2547), (\"Jalovec\", 2645), (\"Triglav\", 2864), (\"Stenar\", 2501)])\n",
    "(4, 363, False)"
   ]
  },
  {
   "attachments": {},
   "cell_type": "markdown",
   "metadata": {},
   "source": [
    "## 4. Dobro geslo\n",
    "\n",
    "Dobro geslo, ki si ga bomo enostavno zapomnili, lahko naredimo takole: uporabimo stavek, v katerem vsako besedo zamenjamo z njeno prvo črko, ki ji dodamo še dolžino te besede. Za stavek `'Dni mojih lepši polovica kmalo mladosti leta kmalo ste minule'` bi po tem postopku ustvarili geslo: `'D3m5l5p8k5m8l4k5s3m6'`.\n",
    "\n",
    "Napišite funkcijo `geslo(stavek)`, ki za podan stavek vrne geslo, ki ga pridobi po opisanem postopku. Privzamete lahko, da bo stavek vedno sestavljen iz besed, ki so ločene z enim presledkom in da ne bo vseboval ločil.\n",
    "\n",
    "### Rešitev\n",
    "\n",
    "Metoda `split` razdeli niz na besede (če je sestavljen iz besed, ločenih s presledki). Gremo čez ta seznam in v nek niz zlagamo prvo črko, ki ji dodamo dolžino besede. Ker funkcija `len` (seveda) vrne število, ga moramo pred dodajanjem v niz spremeniti v niz tako, da pokličemo funkcijo `str`."
   ]
  },
  {
   "cell_type": "code",
   "execution_count": 52,
   "metadata": {},
   "outputs": [],
   "source": [
    "def geslo(stavek):\n",
    "    predlog_gesla = \"\"\n",
    "    for beseda in stavek.split():\n",
    "        predlog_gesla += beseda[0] + str(len(beseda))\n",
    "    return predlog_gesla"
   ]
  },
  {
   "cell_type": "code",
   "execution_count": 53,
   "metadata": {},
   "outputs": [
    {
     "data": {
      "text/plain": [
       "'D3m5l5p8k5m8l4k5s3m6'"
      ]
     },
     "execution_count": 53,
     "metadata": {},
     "output_type": "execute_result"
    }
   ],
   "source": [
    "geslo(\"Dni mojih lepši polovica kmalo mladosti leta kmalo ste minule\")"
   ]
  },
  {
   "cell_type": "markdown",
   "metadata": {},
   "source": [
    "Spremenljivko, v katero nabiramo geslo, sem poimenoval `predlog_gesla`. Ime ni prav posrečeno, ker je dolgo. Zakaj pa ne preprosto `geslo`? Zato, ker se tako imenuje že funkcija. To bi sicer delovalo, vendar ni lepo. In nekoč, čez nekaj tednov, nam bo takšna napaka dejansko povzročala sitnosti."
   ]
  },
  {
   "attachments": {},
   "cell_type": "markdown",
   "metadata": {},
   "source": [
    "## 5. Kegljanje\n",
    "\n",
    "Izpiti pri Uvodu v programiranje so dokaj konsistentni in se vedno končajo z nalogo v tem slogu. Meni je ta naloga navadno manj simpatična (kar ne pomeni, da je z njo karkoli narobe, le mojemu slogu ne ustreza), zato jo na teh, prvih predavanjih navadno izpustim.\n",
    "\n",
    "## 1. naloga s kolokvija: Šahovnica\n",
    "\n",
    "Indijski kralj Šihram je iznajditelju šaha velikemu vezirju Sissi ibn Dahirju ponudil kakršnokoli razumno nagrado po njegovi izbiri. Sissa ibn Dahir je zahteval: »Začnite s prvim poljem na šahovnici in nanj položite eno zrno, za vsako naslednje polje pa podvojite število zrn na prejšnjem polju dokler ne dosežete vseh na šahovnici, ki jih je 64.« \n",
    " \n",
    "Kralj je bil nad »skromnostjo« vezirja navdušen, saj je imel v kraljevih shrambah kar 1 milijardo zrn pšenice! \n",
    "\n",
    "Napišite funkcijo `zrna()`, ki ne prejme nobenega vhodnega podatka, vrne pa terko z dvema vrednostma: 1. skupno število zrn, ki jih je vezir dejansko zahteval, 2. na katerem polju je kralju zmanjkalo pšenice.\n",
    "\n",
    "### Rešitev brez matematike\n",
    "\n",
    "Pač, gremo in seštevamo.\n"
   ]
  },
  {
   "cell_type": "code",
   "execution_count": 54,
   "metadata": {},
   "outputs": [],
   "source": [
    "def zrna():\n",
    "    zrn = 0\n",
    "    na_polju = 1\n",
    "    zmanjkalo = None\n",
    "    for polje in range(64):\n",
    "        zrn += na_polju\n",
    "        na_polju *= 2\n",
    "        if zrn > 1_000_000_000 and zmanjkalo == None:\n",
    "            zmanjkalo = polje + 1\n",
    "    return zrn, zmanjkalo"
   ]
  },
  {
   "cell_type": "code",
   "execution_count": 55,
   "metadata": {},
   "outputs": [
    {
     "data": {
      "text/plain": [
       "(18446744073709551615, 30)"
      ]
     },
     "execution_count": 55,
     "metadata": {},
     "output_type": "execute_result"
    }
   ],
   "source": [
    "zrna()"
   ]
  },
  {
   "cell_type": "markdown",
   "metadata": {},
   "source": [
    "Zanko izvedemo 64-krat. `na_polju` vedno shranjuje število zrn, ki gredo na naslednje polje. Ko število zrn preseže milijardo (med števila lahko dodajamo `_`, da so preglednejša), zabeležimo številko polja - ki je za `1` večja od števca, saj prvo polje ni `0` (kjer začne števec) temveč `1`. Pogoj `zmanjkalo == None` poskrbi, da to storimo samo enkrat.\n",
    "\n",
    "Spremenljivke `na_polju` pravzaprav ne potrebujemo: na polje z indeksom `polje` gre $2^{\\mbox{polje}}$ zrn."
   ]
  },
  {
   "cell_type": "code",
   "execution_count": 56,
   "metadata": {},
   "outputs": [],
   "source": [
    "def zrna():\n",
    "    zrn = 0\n",
    "    zmanjkalo = None\n",
    "    for polje in range(64):\n",
    "        zrn += 2 ** polje\n",
    "        if zrn > 1_000_000_000 and zmanjkalo == None:\n",
    "            zmanjkalo = polje + 1\n",
    "    return zrn, zmanjkalo"
   ]
  },
  {
   "cell_type": "code",
   "execution_count": 57,
   "metadata": {},
   "outputs": [
    {
     "data": {
      "text/plain": [
       "(18446744073709551615, 30)"
      ]
     },
     "execution_count": 57,
     "metadata": {},
     "output_type": "execute_result"
    }
   ],
   "source": [
    "zrna()"
   ]
  },
  {
   "cell_type": "markdown",
   "metadata": {},
   "source": [
    "### Rešitev z matematiko\n",
    "\n",
    "Koliko je, recimo, $1 + 2 + 4 + 8 + 16 + 32$? To vsoto najlažje izračunamo, če ji na levi prištejemo 1. Tako imamo $1 + 1 + 2 + 4 + 8 + 16 + 32$. To je, seveda $2 + 2 + 4 + 8 + 16 + 32$. To pa je $4 + 4 + 8 + 16 + 32$. In to je $8 + 8 + 16 + 32$, kar je $16 + 16 + 32$, kar je $32 + 32$, torej $64$. Potem to enico odštejemo nazaj: vsota, po kateri smo spraševali v začetku, je $63$.\n",
    "\n",
    "V splošnem: $1 + 2 + 4 + 8 + ... + 2^n = 2^{n + 1} - 1$.\n",
    "\n",
    "Na šahovnici bo torej"
   ]
  },
  {
   "cell_type": "code",
   "execution_count": 58,
   "metadata": {},
   "outputs": [
    {
     "data": {
      "text/plain": [
       "18446744073709551615"
      ]
     },
     "execution_count": 58,
     "metadata": {},
     "output_type": "execute_result"
    }
   ],
   "source": [
    "2 ** 64 - 1"
   ]
  },
  {
   "cell_type": "markdown",
   "metadata": {},
   "source": [
    "zrn. (Na prvem polju jih je namreč $2^0$ in na zadnjem $2^{63}$, torej vzamemo, kot pravi gornji razmislek, za 1 večjo potenco in odštejemo 1.)\n",
    "\n",
    "Naša funkcija tako postane takšna:"
   ]
  },
  {
   "cell_type": "code",
   "execution_count": 59,
   "metadata": {},
   "outputs": [],
   "source": [
    "def zrna():\n",
    "    for polje in range(64):\n",
    "        if 2 ** (polje + 1) - 1 > 1_000_000_000:\n",
    "            return 2 ** 64 - 1, polje + 1"
   ]
  },
  {
   "cell_type": "code",
   "execution_count": 60,
   "metadata": {},
   "outputs": [
    {
     "data": {
      "text/plain": [
       "(18446744073709551615, 30)"
      ]
     },
     "execution_count": 60,
     "metadata": {},
     "output_type": "execute_result"
    }
   ],
   "source": [
    "zrna()"
   ]
  },
  {
   "cell_type": "markdown",
   "metadata": {},
   "source": [
    "Ali pa kar"
   ]
  },
  {
   "cell_type": "code",
   "execution_count": 61,
   "metadata": {},
   "outputs": [],
   "source": [
    "def zrna():\n",
    "    for polje in range(64):\n",
    "        if 2 ** polje - 1 > 1_000_000_000:\n",
    "            return 2 ** 64 - 1, polje"
   ]
  },
  {
   "cell_type": "code",
   "execution_count": 62,
   "metadata": {},
   "outputs": [
    {
     "data": {
      "text/plain": [
       "(18446744073709551615, 30)"
      ]
     },
     "execution_count": 62,
     "metadata": {},
     "output_type": "execute_result"
    }
   ],
   "source": [
    "zrna()"
   ]
  },
  {
   "cell_type": "markdown",
   "metadata": {},
   "source": [
    "Če `polje + 1` obakrat spremenimo v `polje`, bo zanka tekla en krog dlje, a vrnila isto številko kot prej.\n",
    "\n",
    "Lahko pa dodamo še malo matematike: zanima nas, pri kakšnem $p$ je $2^p - 1 > z$ ($z$ je število vseh zrn, milijarda). To bo takrat, ko bo $2^p > z + 1$ oziroma $p > \\lceil \\log_2(z + 1) \\rceil$."
   ]
  },
  {
   "cell_type": "code",
   "execution_count": 63,
   "metadata": {},
   "outputs": [],
   "source": [
    "from math import log, ceil\n",
    "\n",
    "def zrna():\n",
    "    return 2 ** 64 - 1, int(ceil(log(1_000_000_000 + 1, 2)))"
   ]
  },
  {
   "cell_type": "code",
   "execution_count": 64,
   "metadata": {},
   "outputs": [
    {
     "data": {
      "text/plain": [
       "(18446744073709551615, 30)"
      ]
     },
     "execution_count": 64,
     "metadata": {},
     "output_type": "execute_result"
    }
   ],
   "source": [
    "zrna()"
   ]
  },
  {
   "attachments": {},
   "cell_type": "markdown",
   "metadata": {},
   "source": [
    "## 2. naloga s kolokvija: Plezanje\n",
    "\n",
    "Na OI 2021 so v športnem plezanju tekmovali v naslednjih disciplinah: hitrostno, balvansko in težavnostno. Končni rezultat posameznika se je izračunal kot zmnožek uvrstitev v posamezni disciplini.  \n",
    " \n",
    "Napišite funkcijo `rezultati(s)`, ki prejme seznam uvrstitev v posamezni disciplini za tekmovalca, nato pa preveri ali so pravilno razporejeni (od prvega do zadnjega) glede na končno uvrstitev. Če je razpored pravilen naj vrne True, drugače pa pozicijo elementa, pri katerem se urejenost konča.\n",
    "\n",
    "```\n",
    ">>> rezultati([('Garnbret Janja', 5, 1, 1), ('Nonaka Miho', 3, 3, 5), ('Noguchi Akiyo', 4, 4, 4)])\n",
    "True\n",
    ">>> rezultati([('Raboutou Brooke', 7, 2, 6), ('Pilz Jessica', 6, 5, 3), ('Jaubert Anouck', 2, 6, 7)])\n",
    "2\n",
    "```\n",
    "\n",
    "### Rešitev z zaporednimi elementi\n",
    "\n",
    "Prva, bolj dolgočasna različica je, da pripravimo seznam, ki vsebuje le zmnožke točk, potem pa naredimo enako kot v drugi hribovski nalogi, tisti o Mihovih vzponih."
   ]
  },
  {
   "cell_type": "code",
   "execution_count": 65,
   "metadata": {},
   "outputs": [],
   "source": [
    "def rezultati(s):\n",
    "    zmnozki = []\n",
    "    for ime, a, b, c in s:\n",
    "        zmnozki.append(a * b * c)\n",
    "    mesto = 1\n",
    "    for z1, z2 in zip(zmnozki, zmnozki[1:]):\n",
    "        if z1 > z2:\n",
    "            return mesto\n",
    "        mesto += 1\n",
    "    return True"
   ]
  },
  {
   "cell_type": "code",
   "execution_count": 66,
   "metadata": {},
   "outputs": [
    {
     "data": {
      "text/plain": [
       "True"
      ]
     },
     "execution_count": 66,
     "metadata": {},
     "output_type": "execute_result"
    }
   ],
   "source": [
    "rezultati([('Garnbret Janja', 5, 1, 1), ('Nonaka Miho', 3, 3, 5), ('Noguchi Akiyo', 4, 4, 4)])"
   ]
  },
  {
   "cell_type": "code",
   "execution_count": 67,
   "metadata": {},
   "outputs": [
    {
     "data": {
      "text/plain": [
       "2"
      ]
     },
     "execution_count": 67,
     "metadata": {},
     "output_type": "execute_result"
    }
   ],
   "source": [
    "rezultati([('Raboutou Brooke', 7, 2, 6), ('Pilz Jessica', 6, 5, 3), ('Jaubert Anouck', 2, 6, 7)])"
   ]
  },
  {
   "cell_type": "markdown",
   "metadata": {},
   "source": [
    "Gornja funkcija gre prek seznama parov, ko smo to počeli pri hribih, istočasno pa potrebuje tudi indeks, saj ga mora vrniti. Zato ločeno še šteje. Tega nam ni potrebno početi, saj imamo `enumerate`. Je pa v tem primeru malo bolj zabavno razpakiranje..."
   ]
  },
  {
   "cell_type": "code",
   "execution_count": 68,
   "metadata": {},
   "outputs": [],
   "source": [
    "def rezultati(s):\n",
    "    zmnozki = []\n",
    "    for ime, a, b, c in s:\n",
    "        zmnozki.append(a * b * c)\n",
    "    for mesto, (z1, z2) in enumerate(zip(zmnozki, zmnozki[1:]), start=1):\n",
    "        if z1 > z2:\n",
    "            return mesto\n",
    "    return True"
   ]
  },
  {
   "cell_type": "code",
   "execution_count": 69,
   "metadata": {},
   "outputs": [
    {
     "data": {
      "text/plain": [
       "2"
      ]
     },
     "execution_count": 69,
     "metadata": {},
     "output_type": "execute_result"
    }
   ],
   "source": [
    "rezultati([('Raboutou Brooke', 7, 2, 6), ('Pilz Jessica', 6, 5, 3), ('Jaubert Anouck', 2, 6, 7)])"
   ]
  },
  {
   "cell_type": "raw",
   "metadata": {},
   "source": [
    "`zip` vrne pare zaporednih elementov. `enumerate` vrne par, sestavljen iz zaporedne številke in tistega, kar vrne `zip`. Torej imamo par v paru. Razpakiranje mora slediti tej obliki, zato `mesto, (z1, z2)`.\n",
    "\n",
    "Funkciji `enumerate` smo dodali argument `start=1`, da začne šteti z 1 in ne z 0.\n",
    "\n",
    "Mimogrede navrzimo eno praktično funkcijo: `count(n)` iz modula `itertools`, šteje od `n` do neskončno. Če argument izpustimo, šteje od 0. Tako lahko `zip`-nemo skupaj tri elemente."
   ]
  },
  {
   "cell_type": "code",
   "execution_count": 70,
   "metadata": {},
   "outputs": [],
   "source": [
    "from itertools import count\n",
    "\n",
    "def rezultati(s):\n",
    "    zmnozki = []\n",
    "    for ime, a, b, c in s:\n",
    "        zmnozki.append(a * b * c)\n",
    "    for mesto, z1, z2 in zip(count(1), zmnozki, zmnozki[1:]):\n",
    "        if z1 > z2:\n",
    "            return mesto\n",
    "    return True"
   ]
  },
  {
   "cell_type": "code",
   "execution_count": 71,
   "metadata": {},
   "outputs": [
    {
     "data": {
      "text/plain": [
       "2"
      ]
     },
     "execution_count": 71,
     "metadata": {},
     "output_type": "execute_result"
    }
   ],
   "source": [
    "rezultati([('Raboutou Brooke', 7, 2, 6), ('Pilz Jessica', 6, 5, 3), ('Jaubert Anouck', 2, 6, 7)])"
   ]
  },
  {
   "cell_type": "markdown",
   "metadata": {},
   "source": [
    "### Rešitev s prejšnjim elementom\n",
    "\n",
    "Zdaj pa rešimo drugače: vsak zmnožek primerjajmo s prejšnjim zmnožkom. Zato si bomo morali seveda zapomniti prejšnji zmnožek; shranjevali ga bomo v `prejsnji`."
   ]
  },
  {
   "cell_type": "code",
   "execution_count": 72,
   "metadata": {},
   "outputs": [],
   "source": [
    "def rezultati(s):\n",
    "    prejsnji = 0\n",
    "    for mesto, (ime, a, b, c) in enumerate(s):\n",
    "        zmnozek = a * b * c\n",
    "        if zmnozek < prejsnji:\n",
    "            return mesto\n",
    "        prejsnji = zmnozek\n",
    "    return True"
   ]
  },
  {
   "cell_type": "code",
   "execution_count": 73,
   "metadata": {},
   "outputs": [
    {
     "data": {
      "text/plain": [
       "2"
      ]
     },
     "execution_count": 73,
     "metadata": {},
     "output_type": "execute_result"
    }
   ],
   "source": [
    "rezultati([('Raboutou Brooke', 7, 2, 6), ('Pilz Jessica', 6, 5, 3), ('Jaubert Anouck', 2, 6, 7)])"
   ]
  },
  {
   "cell_type": "markdown",
   "metadata": {},
   "source": [
    "Pazi: tu začnemo šteti z 0. V prejšnjih funkcijah je zanka najprej primerjala prvi element z ničtim. Tu pa najprej primerjamo ničtega z ..., no, z nobenim, saj prejšnjega niti ni, `prejsnji` pa smo postavili na 0, tako da je prvo mesto zagotovo pravilno."
   ]
  }
 ],
 "metadata": {
  "kernelspec": {
   "display_name": "Python 3 (ipykernel)",
   "language": "python",
   "name": "python3"
  },
  "language_info": {
   "codemirror_mode": {
    "name": "ipython",
    "version": 3
   },
   "file_extension": ".py",
   "mimetype": "text/x-python",
   "name": "python",
   "nbconvert_exporter": "python",
   "pygments_lexer": "ipython3",
   "version": "3.8.0"
  }
 },
 "nbformat": 4,
 "nbformat_minor": 4
}
