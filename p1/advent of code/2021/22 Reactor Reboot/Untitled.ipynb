{
 "cells": [
  {
   "cell_type": "code",
   "execution_count": 1,
   "id": "cd28082b",
   "metadata": {},
   "outputs": [],
   "source": [
    "import numpy as np\n",
    "\n",
    "f = np.array([[1], [2], [3], [4]])\n",
    "g = np.array([1, 10, 100])"
   ]
  },
  {
   "cell_type": "code",
   "execution_count": 2,
   "id": "05d14050",
   "metadata": {},
   "outputs": [
    {
     "data": {
      "text/plain": [
       "array([[1],\n",
       "       [2],\n",
       "       [3],\n",
       "       [4]])"
      ]
     },
     "execution_count": 2,
     "metadata": {},
     "output_type": "execute_result"
    }
   ],
   "source": [
    "f"
   ]
  },
  {
   "cell_type": "code",
   "execution_count": 3,
   "id": "22194f80",
   "metadata": {},
   "outputs": [
    {
     "data": {
      "text/plain": [
       "array([  1,  10, 100])"
      ]
     },
     "execution_count": 3,
     "metadata": {},
     "output_type": "execute_result"
    }
   ],
   "source": [
    "g"
   ]
  },
  {
   "cell_type": "code",
   "execution_count": 4,
   "id": "74ae1cfd",
   "metadata": {},
   "outputs": [
    {
     "data": {
      "text/plain": [
       "array([[  1,  10, 100],\n",
       "       [  2,  20, 200],\n",
       "       [  3,  30, 300],\n",
       "       [  4,  40, 400]])"
      ]
     },
     "execution_count": 4,
     "metadata": {},
     "output_type": "execute_result"
    }
   ],
   "source": [
    "f * g"
   ]
  },
  {
   "cell_type": "code",
   "execution_count": 5,
   "id": "23ebd797",
   "metadata": {},
   "outputs": [
    {
     "data": {
      "text/plain": [
       "30"
      ]
     },
     "execution_count": 5,
     "metadata": {},
     "output_type": "execute_result"
    }
   ],
   "source": [
    "(f * g)[2, 1]"
   ]
  },
  {
   "cell_type": "code",
   "execution_count": 6,
   "id": "16d74f46",
   "metadata": {},
   "outputs": [
    {
     "data": {
      "text/plain": [
       "array([30])"
      ]
     },
     "execution_count": 6,
     "metadata": {},
     "output_type": "execute_result"
    }
   ],
   "source": [
    "f[2] * g[1]"
   ]
  },
  {
   "cell_type": "code",
   "execution_count": 8,
   "id": "7d635dbf",
   "metadata": {},
   "outputs": [
    {
     "data": {
      "text/plain": [
       "30"
      ]
     },
     "execution_count": 8,
     "metadata": {},
     "output_type": "execute_result"
    }
   ],
   "source": [
    "f[2][0] * g[1]"
   ]
  },
  {
   "cell_type": "code",
   "execution_count": 14,
   "id": "c0b905a6",
   "metadata": {},
   "outputs": [],
   "source": [
    "e = np.array([[[1]], [[5]], [[8]]])"
   ]
  },
  {
   "cell_type": "code",
   "execution_count": 15,
   "id": "5f0d76c8",
   "metadata": {},
   "outputs": [
    {
     "data": {
      "text/plain": [
       "array([[[1]],\n",
       "\n",
       "       [[5]],\n",
       "\n",
       "       [[8]]])"
      ]
     },
     "execution_count": 15,
     "metadata": {},
     "output_type": "execute_result"
    }
   ],
   "source": [
    "e"
   ]
  },
  {
   "cell_type": "code",
   "execution_count": 16,
   "id": "f1a32402",
   "metadata": {},
   "outputs": [
    {
     "data": {
      "text/plain": [
       "array([[[   1,   10,  100],\n",
       "        [   2,   20,  200],\n",
       "        [   3,   30,  300],\n",
       "        [   4,   40,  400]],\n",
       "\n",
       "       [[   5,   50,  500],\n",
       "        [  10,  100, 1000],\n",
       "        [  15,  150, 1500],\n",
       "        [  20,  200, 2000]],\n",
       "\n",
       "       [[   8,   80,  800],\n",
       "        [  16,  160, 1600],\n",
       "        [  24,  240, 2400],\n",
       "        [  32,  320, 3200]]])"
      ]
     },
     "execution_count": 16,
     "metadata": {},
     "output_type": "execute_result"
    }
   ],
   "source": [
    "e * f * g"
   ]
  },
  {
   "cell_type": "code",
   "execution_count": 17,
   "id": "6d10f926",
   "metadata": {},
   "outputs": [
    {
     "data": {
      "text/plain": [
       "15"
      ]
     },
     "execution_count": 17,
     "metadata": {},
     "output_type": "execute_result"
    }
   ],
   "source": [
    "(e * f * g)[1, 2, 0]"
   ]
  },
  {
   "cell_type": "code",
   "execution_count": 18,
   "id": "8cc4cfad",
   "metadata": {},
   "outputs": [
    {
     "data": {
      "text/plain": [
       "15"
      ]
     },
     "execution_count": 18,
     "metadata": {},
     "output_type": "execute_result"
    }
   ],
   "source": [
    "e[1][0][0] * f[2][0] * g[0]"
   ]
  },
  {
   "cell_type": "code",
   "execution_count": 19,
   "id": "bc9244e5",
   "metadata": {},
   "outputs": [
    {
     "data": {
      "text/plain": [
       "array([[[   1,   10,  100],\n",
       "        [   2,   20,  200],\n",
       "        [   3,   30,  300],\n",
       "        [   4,   40,  400]],\n",
       "\n",
       "       [[   5,   50,  500],\n",
       "        [  10,  100, 1000],\n",
       "        [  15,  150, 1500],\n",
       "        [  20,  200, 2000]],\n",
       "\n",
       "       [[   8,   80,  800],\n",
       "        [  16,  160, 1600],\n",
       "        [  24,  240, 2400],\n",
       "        [  32,  320, 3200]]])"
      ]
     },
     "execution_count": 19,
     "metadata": {},
     "output_type": "execute_result"
    }
   ],
   "source": [
    "f * e * g"
   ]
  },
  {
   "cell_type": "code",
   "execution_count": 20,
   "id": "a80802b8",
   "metadata": {},
   "outputs": [
    {
     "data": {
      "text/plain": [
       "array([[[1]],\n",
       "\n",
       "       [[5]],\n",
       "\n",
       "       [[8]]])"
      ]
     },
     "execution_count": 20,
     "metadata": {},
     "output_type": "execute_result"
    }
   ],
   "source": [
    "e"
   ]
  },
  {
   "cell_type": "code",
   "execution_count": 21,
   "id": "9c10a753",
   "metadata": {},
   "outputs": [
    {
     "data": {
      "text/plain": [
       "(3, 1, 1)"
      ]
     },
     "execution_count": 21,
     "metadata": {},
     "output_type": "execute_result"
    }
   ],
   "source": [
    "e.shape"
   ]
  },
  {
   "cell_type": "code",
   "execution_count": 22,
   "id": "9069ee55",
   "metadata": {},
   "outputs": [],
   "source": [
    "e = np.array([1, 5, 8])"
   ]
  },
  {
   "cell_type": "code",
   "execution_count": 23,
   "id": "7bb8aba3",
   "metadata": {},
   "outputs": [
    {
     "data": {
      "text/plain": [
       "(3,)"
      ]
     },
     "execution_count": 23,
     "metadata": {},
     "output_type": "execute_result"
    }
   ],
   "source": [
    "e.shape"
   ]
  },
  {
   "cell_type": "code",
   "execution_count": 24,
   "id": "63766f79",
   "metadata": {},
   "outputs": [
    {
     "data": {
      "text/plain": [
       "array([[[1]],\n",
       "\n",
       "       [[5]],\n",
       "\n",
       "       [[8]]])"
      ]
     },
     "execution_count": 24,
     "metadata": {},
     "output_type": "execute_result"
    }
   ],
   "source": [
    "e[:, None, None]"
   ]
  },
  {
   "cell_type": "code",
   "execution_count": 25,
   "id": "df1e970c",
   "metadata": {},
   "outputs": [
    {
     "data": {
      "text/plain": [
       "(3, 1, 1)"
      ]
     },
     "execution_count": 25,
     "metadata": {},
     "output_type": "execute_result"
    }
   ],
   "source": [
    "e[:, None, None].shape"
   ]
  },
  {
   "cell_type": "code",
   "execution_count": 26,
   "id": "a10543f1",
   "metadata": {},
   "outputs": [
    {
     "data": {
      "text/plain": [
       "(1, 1, 3, 1, 1, 1)"
      ]
     },
     "execution_count": 26,
     "metadata": {},
     "output_type": "execute_result"
    }
   ],
   "source": [
    "e[None, None, :, None, None, None].shape"
   ]
  },
  {
   "cell_type": "code",
   "execution_count": 27,
   "id": "598d3688",
   "metadata": {},
   "outputs": [],
   "source": [
    "e = np.array([1, 5, 8])\n",
    "f = np.array([1, 2, 3, 4])\n",
    "g = np.array([1, 10, 100])"
   ]
  },
  {
   "cell_type": "code",
   "execution_count": 28,
   "id": "c726d687",
   "metadata": {},
   "outputs": [
    {
     "data": {
      "text/plain": [
       "array([[[   1,   10,  100],\n",
       "        [   2,   20,  200],\n",
       "        [   3,   30,  300],\n",
       "        [   4,   40,  400]],\n",
       "\n",
       "       [[   5,   50,  500],\n",
       "        [  10,  100, 1000],\n",
       "        [  15,  150, 1500],\n",
       "        [  20,  200, 2000]],\n",
       "\n",
       "       [[   8,   80,  800],\n",
       "        [  16,  160, 1600],\n",
       "        [  24,  240, 2400],\n",
       "        [  32,  320, 3200]]])"
      ]
     },
     "execution_count": 28,
     "metadata": {},
     "output_type": "execute_result"
    }
   ],
   "source": [
    "e[:, None, None] * f[:, None] * g"
   ]
  },
  {
   "cell_type": "code",
   "execution_count": 29,
   "id": "b62e80f8",
   "metadata": {},
   "outputs": [],
   "source": [
    "a = np.array([[3, 4, 1], [6, 4, 1], [9, 6, 2]])"
   ]
  },
  {
   "cell_type": "code",
   "execution_count": 30,
   "id": "e1a5ea16",
   "metadata": {},
   "outputs": [
    {
     "data": {
      "text/plain": [
       "array([[3, 4, 1],\n",
       "       [6, 4, 1],\n",
       "       [9, 6, 2]])"
      ]
     },
     "execution_count": 30,
     "metadata": {},
     "output_type": "execute_result"
    }
   ],
   "source": [
    "a"
   ]
  },
  {
   "cell_type": "code",
   "execution_count": 31,
   "id": "cad5fd99",
   "metadata": {},
   "outputs": [
    {
     "data": {
      "text/plain": [
       "array([3, 4, 1, 6, 4, 1, 9, 6, 2])"
      ]
     },
     "execution_count": 31,
     "metadata": {},
     "output_type": "execute_result"
    }
   ],
   "source": [
    "a.flatten()"
   ]
  },
  {
   "cell_type": "code",
   "execution_count": null,
   "id": "132c7db1",
   "metadata": {},
   "outputs": [],
   "source": []
  }
 ],
 "metadata": {
  "kernelspec": {
   "display_name": "Python 3 (ipykernel)",
   "language": "python",
   "name": "python3"
  },
  "language_info": {
   "codemirror_mode": {
    "name": "ipython",
    "version": 3
   },
   "file_extension": ".py",
   "mimetype": "text/x-python",
   "name": "python",
   "nbconvert_exporter": "python",
   "pygments_lexer": "ipython3",
   "version": "3.10.0"
  }
 },
 "nbformat": 4,
 "nbformat_minor": 5
}
