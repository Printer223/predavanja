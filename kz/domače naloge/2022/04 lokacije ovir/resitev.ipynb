{
 "cells": [
  {
   "cell_type": "markdown",
   "id": "fdf3b565",
   "metadata": {},
   "source": [
    "MOL je poslal zemljevid ovir na kolesarski poti. Zemljevid je shranjen kot seznam nizov, ki predstavljajo \"vrstice\": `#` predstavlja oviro, `.` pa prosto pot.\n",
    "\n",
    "Ker smo prejšnji teden napisali program, ki sprejme opis ovir kot seznam trojk `(x0, x1, y)`, bi radi pretvorili MOLov zemljevid v takšno obliko.\n",
    "\n",
    "## Obvezna naloga\n",
    "\n",
    "Napiši program, ki se začne z opisom ovire v eni vrstici, na primer\n",
    "\n",
    "```\n",
    "ovire = \".##..####...##\"\n",
    "```\n",
    "\n",
    "Program mora izpisati seznam **parov**, ki predstavljajo začetke in konce ovir. Za gornjo postavitev je to `[(2, 3), (6, 9), (13, 14)]`. **Ne spreglej**, da koordinate niso opisane po \"Pythonovsko\": prvi stolpec ima indeks 1 in obe meji sta vključeni (`(6, 9)` pokriva tudi vrstico 9, torej vsebuje 4 `#`).\n",
    "\n",
    "Program obvezno preskusi na nizih `\".##..####...##\"` in `##..#...#` (ki se pretvori v `[(1, 2), (5, 5), (9, 9)]`). **Pazi: v podatkih morajo biti napisani nizi v *točno takšni* obliki. Tu ne dodajaj ničesar na začetel ali konec; če želiš, pa lahko to kasneje naredi program sam.**\n",
    "\n",
    "### Rešitev\n",
    "\n",
    "Da bomo preskušali vse sitnosti naenkrat, vzemimo tale niz:"
   ]
  },
  {
   "cell_type": "code",
   "execution_count": 1,
   "id": "19c02fbe",
   "metadata": {},
   "outputs": [],
   "source": [
    "ovire = \"##...#.###..##\"\n",
    "#        12345678901234"
   ]
  },
  {
   "cell_type": "markdown",
   "id": "d868640f",
   "metadata": {},
   "source": [
    "Vsebuje oviro na začetku in na koncu, oviro dolžine 1 in oviri, ki sta razmaknjeni za 1. Spodaj smo napisali številke, da lažje razberemo pričakovani rezultat: `[(1, 2), (6, 6), (7, 9), (13, 14)]`.\n",
    "\n",
    "Nalogo je možno rešiti na kup načinov. Vsem je skupno to, da se je potrebno dobro zorganizirati. Da naloga ne bi bila pretežka, sem na predavanju, namenjenem začetnikom (starejši mački pa naj se kar malo potrudijo) predlagal, da na začetek in konec niza prilepijo piko, potem pa opazujejo vse `#`, ki so takoj za ali tik pred piko. Zanimajo nas njihovi indeksi; tisti za piko predstavljajo začetke, tisti po pa konce ovir."
   ]
  },
  {
   "cell_type": "code",
   "execution_count": 2,
   "id": "abc86033",
   "metadata": {},
   "outputs": [
    {
     "name": "stdout",
     "output_type": "stream",
     "text": [
      "[(1, 2), (6, 6), (8, 10), (13, 14)]\n"
     ]
    }
   ],
   "source": [
    "ovire = \"##...#.###..##\"\n",
    "\n",
    "\n",
    "ovire = \".\" + ovire + \".\"\n",
    "bloki = []\n",
    "for i in range(len(ovire)):\n",
    "    if ovire[i] == \"#\":\n",
    "        if ovire[i - 1] == \".\":\n",
    "            zacetek = i\n",
    "        if ovire[i + 1] == \".\":\n",
    "            bloki.append((zacetek, i))\n",
    "print(bloki)"
   ]
  },
  {
   "cell_type": "markdown",
   "id": "a25d16fc",
   "metadata": {},
   "source": [
    "Če vidimo `#`, pred katerim je `.`, si zapomnim, da je to začetek. Če vidimo `#`, za katerim je `.`, v seznam blokov dodamo blok od začetka do trenutnega indeksa.\n",
    "\n",
    "Za posamične `#` se zgodi oboje naenkrat, zato tu nismo uporabili kakega `else` ali `elif`.\n",
    "\n",
    "Stolpce v tej nalogi štejemo od `1` ne od `0`. Naši indeksi bodo pravilni, saj smo na začetek dodali `.`.\n",
    "\n",
    "Zdaj pa izboljšave.\n",
    "\n",
    "Na predavanjih običajno stokam, da `range(len(ovire))` ni lepo pisati - sploh, kadar potrebuješ tako indeks kot element. Raje pišimo:"
   ]
  },
  {
   "cell_type": "code",
   "execution_count": 3,
   "id": "35c5ff1e",
   "metadata": {},
   "outputs": [
    {
     "name": "stdout",
     "output_type": "stream",
     "text": [
      "[(1, 2), (6, 6), (8, 10), (13, 14)]\n"
     ]
    }
   ],
   "source": [
    "ovire = \"##...#.###..##\"\n",
    "\n",
    "\n",
    "ovire = \".\" + ovire + \".\"\n",
    "bloki = []\n",
    "for i, znak in enumerate(ovire):\n",
    "    if znak == \"#\":\n",
    "        if ovire[i - 1] == \".\":\n",
    "            zacetek = i\n",
    "        if ovire[i + 1] == \".\":\n",
    "            bloki.append((zacetek, i))\n",
    "print(bloki)"
   ]
  },
  {
   "cell_type": "markdown",
   "id": "a773948d",
   "metadata": {},
   "source": [
    "Se lahko zgodi, da bi bil indeks `i + 1` prevelik? To bi bilo možno le, če bi bil zadnji znak `#` in bi se torej spraševali po znaku za njim. To pa ne more biti, saj smo na konec dodali piko. Prav tako `i - 1` nikoli ne bo `-1`, saj je ničti znak vedno `.` in ne `#`.\n",
    "\n",
    "Še lepše je, če uporabimo čistokrvni `zip`. V tem primeru lahko pike dodamo kar v klicu `zip`-a."
   ]
  },
  {
   "cell_type": "code",
   "execution_count": 4,
   "id": "a3344a96",
   "metadata": {},
   "outputs": [
    {
     "name": "stdout",
     "output_type": "stream",
     "text": [
      "[(1, 2), (6, 6), (8, 10), (13, 14)]\n"
     ]
    }
   ],
   "source": [
    "ovire = \"##...#.###..##\"\n",
    "\n",
    "\n",
    "bloki = []\n",
    "for i, (prej, znak, potem) in enumerate(zip(\".\" + ovire, ovire, ovire[1:] + \".\"), start=1):\n",
    "    if znak == \"#\":\n",
    "        if prej == \".\":\n",
    "            zacetek = i\n",
    "        if potem == \".\":\n",
    "            bloki.append((zacetek, i))\n",
    "print(bloki)"
   ]
  },
  {
   "cell_type": "markdown",
   "id": "6466fb0b",
   "metadata": {},
   "source": [
    "Tule se je sicer zdaj zgodilo kar nekaj reči, o katerih se na predavanjih še nismo pogovarjali.\n",
    "\n",
    "Najprej, kaj zipamo. Tole"
   ]
  },
  {
   "cell_type": "raw",
   "id": "625ddce2",
   "metadata": {},
   "source": [
    ".##...#.###..##  (\".\" + ovire)\n",
    "##...#.###..##   (ovire)\n",
    "#...#.###..##    (ovire[1:] + \".\")"
   ]
  },
  {
   "cell_type": "markdown",
   "id": "f18c832c",
   "metadata": {},
   "source": [
    "Okrog `zip`-a pride še `enumerate`, da bomo imeli indekse; vse skupaj je potrebno razpakirati kot `for i, (prej, znak, potem)`, saj imamo pare (indeks, element), pri čemer je element trojka.\n",
    "\n",
    "Končno, ker morajo indeksi teči od `1`, smo v `enumerate` dodali `start=1`.\n",
    "\n",
    "Zdaj pa malo drugačna različica: zabeležimo vse spremembe."
   ]
  },
  {
   "cell_type": "code",
   "execution_count": 5,
   "id": "9e9f9215",
   "metadata": {},
   "outputs": [
    {
     "data": {
      "text/plain": [
       "[1, 3, 6, 7, 8, 11, 13, 15]"
      ]
     },
     "execution_count": 5,
     "metadata": {},
     "output_type": "execute_result"
    }
   ],
   "source": [
    "ovire = \"##...#.###..##\"\n",
    "\n",
    "\n",
    "ovire = \".\" + ovire + \".\"\n",
    "spremembe = []\n",
    "for i in range(len(ovire)):\n",
    "    if ovire[i] != ovire[i - 1]:\n",
    "        spremembe.append(i)\n",
    "        \n",
    "spremembe"
   ]
  },
  {
   "cell_type": "markdown",
   "id": "8a39dea1",
   "metadata": {},
   "source": [
    "Te indekse je potrebno popariti:"
   ]
  },
  {
   "cell_type": "code",
   "execution_count": 6,
   "id": "7461dc1f",
   "metadata": {},
   "outputs": [
    {
     "data": {
      "text/plain": [
       "[(1, 3), (6, 7), (8, 11), (13, 15)]"
      ]
     },
     "execution_count": 6,
     "metadata": {},
     "output_type": "execute_result"
    }
   ],
   "source": [
    "list(zip(spremembe[::2], spremembe[1::2]))"
   ]
  },
  {
   "cell_type": "markdown",
   "id": "fbf53eb0",
   "metadata": {},
   "source": [
    "Žal so drugi elementi teh terk - konci blokov - preveliki. Ker terk ni mogoče spreminjati, nam (dokler se ne naučimo, kako to storiti drugače) ne preostane drugega kot prepisati jih v nov seznam. No, saj ni tako hudo."
   ]
  },
  {
   "cell_type": "code",
   "execution_count": 7,
   "id": "231b2404",
   "metadata": {},
   "outputs": [
    {
     "data": {
      "text/plain": [
       "[(1, 2), (6, 6), (8, 10), (13, 14)]"
      ]
     },
     "execution_count": 7,
     "metadata": {},
     "output_type": "execute_result"
    }
   ],
   "source": [
    "ovire = \"##...#.###..##\"\n",
    "\n",
    "\n",
    "ovire = \".\" + ovire + \".\"\n",
    "spremembe = []\n",
    "for i in range(len(ovire)):\n",
    "    if ovire[i] != ovire[i - 1]:\n",
    "        spremembe.append(i)\n",
    "        \n",
    "bloki = []\n",
    "for zac, kon in zip(spremembe[::2], spremembe[1::2]):\n",
    "    bloki.append((zac, kon - 1))\n",
    "    \n",
    "bloki"
   ]
  },
  {
   "cell_type": "markdown",
   "id": "32b2663b",
   "metadata": {},
   "source": [
    "Pa brez dodajanja pik na začetek in konec? Gre, samo malo več sitnosti je. Recimo tako:"
   ]
  },
  {
   "cell_type": "code",
   "execution_count": 8,
   "id": "5596093c",
   "metadata": {},
   "outputs": [
    {
     "data": {
      "text/plain": [
       "[(1, 3), (6, 7), (8, 11), (13, 14)]"
      ]
     },
     "execution_count": 8,
     "metadata": {},
     "output_type": "execute_result"
    }
   ],
   "source": [
    "ovire = \"##...#.###..##\"\n",
    "\n",
    "prej = \".\"\n",
    "bloki = []\n",
    "for i, znak in enumerate(ovire, start=1):\n",
    "    if znak != prej:\n",
    "        if znak == \"#\":\n",
    "            zacetek = i\n",
    "        else:\n",
    "            bloki.append((zacetek, i))\n",
    "    prej = znak\n",
    "    \n",
    "if ovire[-1] == \"#\":\n",
    "    bloki.append((zacetek, len(ovire)))\n",
    "    \n",
    "bloki        "
   ]
  },
  {
   "cell_type": "markdown",
   "id": "14d02817",
   "metadata": {},
   "source": [
    "V spremenljivko `prej` beležimo, kakšen je bil prejšnji znak. V začetku se pretvarjamo, da je `\".\"`. To poskrbi, da zaznamo oviro na začetku niza. Za oviro na koncu pa poskrbimo z `if` po zanki.\n",
    "\n",
    "Če ne vemo, da ima `enumerate` lahko tudi argument `start`, namesto `i` vedno pišemo `i + 1`."
   ]
  },
  {
   "cell_type": "markdown",
   "id": "eb7fcc77",
   "metadata": {},
   "source": [
    "## Dodatna naloga\n",
    "\n",
    "Napiši program, ki prejme celotni zemljevid in izpiše seznam ovir, kot smo ga vajeni iz prejšnje naloge. Če zemljevid definiramo z\n",
    "\n",
    "```\n",
    "zemljevid = [\n",
    "    \"......\",\n",
    "    \"..##..\",\n",
    "    \".##.#.\",\n",
    "    \"...###\",\n",
    "    \"###.##\",\n",
    "]\n",
    "```\n",
    "\n",
    "mora izpisati `[(3, 4, 2), (2, 3, 3), (5, 5, 3), (4, 6, 4), (1, 3, 5), (5, 6, 5)]`.\n",
    "\n",
    "Pazi, tudi vrstice so oštevilčene od 1.\n",
    "\n",
    "### Rešitev\n",
    "\n",
    "Vzamemo katerokoli od prejšnjih rešitev in jo zapremo v zanko\n",
    "\n",
    "```python\n",
    "for y, ovire in enumerate(zemljevid, start=1):\n",
    "```\n",
    "\n",
    "ter k paru koordinat x dodamo še številko vrstice, `y`. Če ne vemo, da lahko funkciji `enumerate` podamo argument `start=2`, pa namesto `y` dodajamo `y + 1`."
   ]
  },
  {
   "cell_type": "code",
   "execution_count": 9,
   "id": "cb886458",
   "metadata": {},
   "outputs": [
    {
     "name": "stdout",
     "output_type": "stream",
     "text": [
      "[(3, 4, 2), (2, 3, 3), (5, 5, 3), (4, 6, 4), (1, 3, 5), (5, 6, 5)]\n"
     ]
    }
   ],
   "source": [
    "zemljevid = [\n",
    "    \"......\",\n",
    "    \"..##..\",\n",
    "    \".##.#.\",\n",
    "    \"...###\",\n",
    "    \"###.##\",\n",
    "]\n",
    "\n",
    "\n",
    "bloki = []\n",
    "for y, ovire in enumerate(zemljevid):\n",
    "    ovire = \".\" + ovire + \".\"\n",
    "    for i, znak in enumerate(ovire):\n",
    "        if znak == \"#\":\n",
    "            if ovire[i - 1] == \".\":\n",
    "                zacetek = i\n",
    "            if ovire[i + 1] == \".\":\n",
    "                bloki.append((zacetek, i, y + 1))\n",
    "print(bloki)"
   ]
  }
 ],
 "metadata": {
  "kernelspec": {
   "display_name": "Python 3 (ipykernel)",
   "language": "python",
   "name": "python3"
  },
  "language_info": {
   "codemirror_mode": {
    "name": "ipython",
    "version": 3
   },
   "file_extension": ".py",
   "mimetype": "text/x-python",
   "name": "python",
   "nbconvert_exporter": "python",
   "pygments_lexer": "ipython3",
   "version": "3.9.7"
  }
 },
 "nbformat": 4,
 "nbformat_minor": 5
}
