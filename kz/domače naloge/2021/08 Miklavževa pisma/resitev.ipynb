{
 "cells": [
  {
   "cell_type": "markdown",
   "id": "e1f5bf76",
   "metadata": {},
   "source": [
    "# Miklavževa darila\n",
    "\n",
    "V poddirektoriju trenutnega direktorija se nahaja direktorij pisma, v katerem so otroška pisma Miklavžu. (Torej: svoj program boste pisali v nekem direktoriju, na primer, da bo v datoteki `c:/programiranje1/naloga7/resitev.py`. Pisma so v poddirektoriju `c:/programiranje1/naloga7/pisma`, tako da je v njem, recimo `c:/programiranje1/naloga7/pisma/ana.txt`.) Ime datoteke je vedno sestavljeno iz imena otroka, ki mu sledi .txt. Moja datoteka, recimo, bi bila janez.txt.\n",
    "\n",
    "V datotekah ni drugega kot seznam stvari (po ena v vsaki vrstici), ki si jih je otrok zaželel. (Otroci so se odločili, da letos ne bodo obremenjevali sv. Miklavža s spiskom obljub, za katere je jasno, da se jih ne bodo držali.) Vsebina datoteke dani.txt je, recimo,\n",
    "\n",
    "```\n",
    "glavnik\n",
    "orglice\n",
    "zvezek\n",
    "```\n",
    "\n",
    "Napišite naslednje funkcije:\n",
    "\n",
    "- `preberi_datoteko(ime)` prejme ime otroka (npr. `\"dani\"`) in vrne množico stvari, ki si jih otrok želi. Za to mora prebrati ustrezno datoteko v poddirektoriju `\"pisma\"`.\n",
    "\n",
    "    ```\n",
    "    >>> preberi_datoteko(\"dani\")\n",
    "    {'orglice', 'zvezek', 'glavnik'}\n",
    "    ```\n",
    "\n",
    "- `pisci()` ne dobi nobenih argumentov, vrne pa množico z *imeni* vseh otrok, ki so napisali pisma Miklavžu. Ta dobi iz imen datotek.\n",
    "\n",
    "    ```\n",
    "    >>> pisci()\n",
    "    {'cilka', 'ema', 'ana', 'dani', 'berta'}\n",
    "    ```\n",
    "\n",
    "- `zelje(imena)` prejme množico imen otrok in vrne slovar, katerega ključi so ta imena, pripadajoče vrednosti pa množice stvari, ki si jih je zaželel otrok s tem imenom. Funkcija pridobi podatke iz datotek.\n",
    "\n",
    "    ```\n",
    "    >>> zelje(imena)\n",
    "    {'ana': {'sanke', 'pero', 'zvezek'}, 'cilka': {'notni zvezek', 'lok za violino'},\n",
    "    'ema': {'copati', 'glavnik'}, 'berta': {'copati', 'zvezek'},\n",
    "    'dani': {'zvezek', 'orglice', 'glavnik'}}\n",
    "    ```\n",
    "\n",
    "- `prestej_stvari(spiski)` prejme spiske v obliki slovarja, kakršnega vrača prejšnja funkcija, in vrne slovar, katerega ključi so imena stvari, ki so si jih zaželeli ti otroci, vrednosti pa so število teh stvari.\n",
    "\n",
    "    Če so si trije otroci zaželeli zvezek, bo ključu `\"zvezek\"` pripadala vrednost 3.\n",
    "\n",
    "    ```\n",
    "    >>> stvari = prestej_stvari(spiski)\n",
    "    {'zvezek': 3, 'glavnik': 2, 'copati': 2, 'pero': 1, 'notni zvezek': 1,\n",
    "    'sanke': 1, 'lok za violino': 1, 'orglice': 1}\n",
    "    ```\n",
    "\n",
    "    Namesto slovarja je dovoljeno uporabiti tudi kaj, kar je v sorodu z njim in se obnaša enako kot slovar. :)\n",
    "\n",
    "- `prosilci(spiski)` prejme spiske v obliki slovarja, kot ga vrača funkcija `zelje`, in vrne slovar, katerega ključi so darila, vrednosti pa množice otrok, ki so prosili za to darilo.\n",
    "\n",
    "### Rešitev\n",
    "\n",
    "`preberi_datoteko` sestavi množico, vrstico za vrstico bere datoteko in dodaja stvari v množico, mimogrede odstripavši odvečni `\\n`."
   ]
  },
  {
   "cell_type": "code",
   "execution_count": 1,
   "id": "22c081de",
   "metadata": {},
   "outputs": [],
   "source": [
    "def preberi_datoteko(ime: str):\n",
    "    stvari = set()\n",
    "    for stvar in open(\"pisma/\" + ime + \".txt\".format(ime)):\n",
    "        stvari.add(stvar.strip(\"\\n\"))\n",
    "    return stvari"
   ]
  },
  {
   "cell_type": "markdown",
   "id": "77bdbe39",
   "metadata": {},
   "source": [
    "Malo kasneje, po koncu predavanj, znamo tudi boljše - preprosteje sestavimo ime in, predvsem, preprosteje sestavimo množico."
   ]
  },
  {
   "cell_type": "code",
   "execution_count": 2,
   "id": "41782072",
   "metadata": {},
   "outputs": [],
   "source": [
    "def preberi_datoteko(ime):\n",
    "    return {vrstica.strip() for vrstica in open(\"pisma/{ime}.txt\")}\n"
   ]
  },
  {
   "cell_type": "markdown",
   "id": "01b36651",
   "metadata": {},
   "source": [
    "Funkcija `pisci` je podobna: sprehodi se po direktoriju in zlaga imena datotek v množico, mimogrede odstranivši odvečni `.txt`."
   ]
  },
  {
   "cell_type": "code",
   "execution_count": 3,
   "id": "0c2ebea7",
   "metadata": {},
   "outputs": [],
   "source": [
    "def pisci():\n",
    "    otroci = set()\n",
    "    for ime in os.listdir(\"pisma\"):\n",
    "        otroci.add(ime[:-4])\n",
    "    return otroci"
   ]
  },
  {
   "cell_type": "markdown",
   "id": "8bc57851",
   "metadata": {},
   "source": [
    "In, glej no, tudi to znamo po koncu predavanj narediti preprosteje:"
   ]
  },
  {
   "cell_type": "code",
   "execution_count": 4,
   "id": "37c13cde",
   "metadata": {},
   "outputs": [],
   "source": [
    "def pisci():\n",
    "    return {ime[:-4] for ime in os.listdir(\"pisma\")}"
   ]
  },
  {
   "cell_type": "markdown",
   "id": "993a0ea1",
   "metadata": {},
   "source": [
    "Funkcija `zelje` gre prek imen otrok; v slovar doda ime kot ključ in podatke iz datoteke kot vrednost."
   ]
  },
  {
   "cell_type": "code",
   "execution_count": 5,
   "id": "7cd8b58b",
   "metadata": {},
   "outputs": [],
   "source": [
    "def zelje(imena):\n",
    "    spiski = {}\n",
    "    for ime in imena:\n",
    "        spiski[ime] = preberi_datoteko(ime)\n",
    "    return spiski"
   ]
  },
  {
   "cell_type": "markdown",
   "id": "6522d4a9",
   "metadata": {},
   "source": [
    "Začuda znamo po predavanjih tudi to narediti preprosteje."
   ]
  },
  {
   "cell_type": "code",
   "execution_count": 7,
   "id": "1f1e46dc",
   "metadata": {},
   "outputs": [],
   "source": [
    "def zelje(imena):\n",
    "    return {ime: preberi_datoteko(ime) for ime in imena}"
   ]
  },
  {
   "cell_type": "markdown",
   "id": "bfcf677d",
   "metadata": {},
   "source": [
    "Za štetje stvari bomo uporabili `defaultdict`."
   ]
  },
  {
   "cell_type": "code",
   "execution_count": 8,
   "id": "a893721b",
   "metadata": {},
   "outputs": [],
   "source": [
    "def prestej_stvari(spiski):\n",
    "    spisek = defaultdict(int)\n",
    "    for zelje in spiski.values():\n",
    "        for zelja in zelje:\n",
    "            spisek[zelja] += 1\n",
    "    return spisek"
   ]
  },
  {
   "cell_type": "markdown",
   "id": "05a00cf1",
   "metadata": {},
   "source": [
    "V razdelku \"preprostejše\" tokrat ni ničesar."
   ]
  },
  {
   "cell_type": "markdown",
   "id": "d04740b1",
   "metadata": {},
   "source": [
    "Funkcija `prosilci` pa je praktično enaka gornji, le da imamo namesto števil množice in namesto `+= 1` imamo `add(ime)`. Pa namesto prek `spiski.values()` gremo prek `spiski.items()`, da poleg želja dobimo še želitelja."
   ]
  },
  {
   "cell_type": "code",
   "execution_count": 9,
   "id": "82284f20",
   "metadata": {},
   "outputs": [],
   "source": [
    "def prosilci(spiski):\n",
    "    spisek = defaultdict(set)\n",
    "    for ime, zelje in spiski.items():\n",
    "        for zelja in zelje:\n",
    "            spisek[zelja].add(ime)\n",
    "    return spisek"
   ]
  }
 ],
 "metadata": {
  "kernelspec": {
   "display_name": "Python 3 (ipykernel)",
   "language": "python",
   "name": "python3"
  },
  "language_info": {
   "codemirror_mode": {
    "name": "ipython",
    "version": 3
   },
   "file_extension": ".py",
   "mimetype": "text/x-python",
   "name": "python",
   "nbconvert_exporter": "python",
   "pygments_lexer": "ipython3",
   "version": "3.10.0"
  }
 },
 "nbformat": 4,
 "nbformat_minor": 5
}
