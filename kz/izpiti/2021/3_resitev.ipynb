{
 "cells": [
  {
   "attachments": {},
   "cell_type": "markdown",
   "id": "d8b1debd",
   "metadata": {},
   "source": [
    "## 1. Točni vlaki Slovenskih železnic (hipotetični, miselni eksperiment)\n",
    "\n",
    "Napiši funkcijo `tocni(redi, dejanski)`, ki prejma dva seznama seznamov. Vsak element se nanaša na en vlak; istoležni elementi se nanašajo na iste vlake. Prvi seznam vsebuje predvidene čase prihoda na postaje, drugi pa dejanske prihode. Časi so podani v minutah od polnoči. Funkcija naj vrne število vlakov, ki niso na nobeni postaji zamujali več kot dvajset minut (kar uporabniki Slovenskih železnic štejemo za praktično točen prihod). Klic\n",
    "\n",
    "```python\n",
    "tocni([[570, 590, 616, 620], [1200, 1500], [800, 900, 1000], [700, 800]],\n",
    "      [[570, 611, 622, 630], [1200, 1510], [810, 910, 1000], [800, 900]]))\n",
    "```\n",
    "\n",
    "vrne 2: \"točna\" sta bila drugi in tretji vlak. Prvi in četrti sta vsaj enkrat zamudila več kot 20 minut.\n",
    "\n",
    "**Namig:** če želiš, si lahko napišeš tudi pomožno funkcijo tocen(red, dejansko), ki prejme seznam za en sam vlak in vrne True, če je bil točen in False, če je kje zamudil za več kot 20 minut. (Če je ne napišeš, ignoriraj teste zanjo.)\n",
    "\n",
    "### Rešitev\n",
    "\n",
    "Ubogajmo, napišimo funkcijo `tocen`. Gremo čez vse pare predvidenih in dejanskih časov; če naletimo na zamudo, vrnemo `False`, sicer, na koncu, po zanki, vrnemo `True`."
   ]
  },
  {
   "cell_type": "code",
   "execution_count": 1,
   "id": "22adfe3d",
   "metadata": {},
   "outputs": [],
   "source": [
    "def tocen(red, dejansko):\n",
    "    for cas_red, cas_dejansko in zip(red, dejansko):\n",
    "        if cas_dejansko - cas_red > 20:\n",
    "            return False\n",
    "    return True"
   ]
  },
  {
   "cell_type": "markdown",
   "id": "817e5f35",
   "metadata": {},
   "source": [
    "Naprej je preprosto: gremo čez vse vlake in za vsakega, ki je bil točen, prištejemo 1."
   ]
  },
  {
   "cell_type": "code",
   "execution_count": 2,
   "id": "f3f363a3",
   "metadata": {},
   "outputs": [],
   "source": [
    "def tocni(red, dejansko):\n",
    "    tocnih = 0\n",
    "    for r, d in zip(red, dejansko):\n",
    "        if tocen(r, d):\n",
    "            tocnih += 1\n",
    "    return tocnih"
   ]
  },
  {
   "cell_type": "markdown",
   "id": "647f7149",
   "metadata": {},
   "source": [
    "Če znamo uporabljati izpeljane sezname (in če vemo, da je `False` isto kot `0` in `True` isto kot `1`), sta funkciji lahko tudi takšni:"
   ]
  },
  {
   "cell_type": "code",
   "execution_count": 3,
   "id": "2cdbac35",
   "metadata": {},
   "outputs": [],
   "source": [
    "def tocen(red, dejansko):\n",
    "    return all(d - r <= 20 for r, d in zip(red, dejansko))\n",
    "\n",
    "def tocni(redi, dejanski):\n",
    "    return sum(tocen(red, dejansko) for red, dejansko in zip(redi, dejanski))"
   ]
  },
  {
   "cell_type": "markdown",
   "id": "4a326df7",
   "metadata": {},
   "source": [
    "Brez dodatne funkcije je malo bolj zoprno. Ena od za silo elegantnih rešitev je `else` po `for`:"
   ]
  },
  {
   "cell_type": "code",
   "execution_count": 4,
   "id": "cdfd155b",
   "metadata": {},
   "outputs": [],
   "source": [
    "def tocni(red, dejansko):\n",
    "    tocnih = 0\n",
    "    for red1, dejansko1 in zip(red, dejansko):\n",
    "        for predviden, prisel in zip(red1, dejansko1):\n",
    "            if prisel > predviden + 20:\n",
    "                break\n",
    "        else:\n",
    "            tocnih += 1\n",
    "    return tocnih"
   ]
  },
  {
   "cell_type": "markdown",
   "id": "4592e01c",
   "metadata": {},
   "source": [
    "Obstajajo pa seveda tudi druge."
   ]
  },
  {
   "cell_type": "markdown",
   "id": "d637f8ed",
   "metadata": {},
   "source": [
    "Kdor je prelen za pisanje dodatne funkcije, zna pa uporabljati izpeljane sezname, pa zbaše vse skupaj v"
   ]
  },
  {
   "cell_type": "code",
   "execution_count": 5,
   "id": "b38898df",
   "metadata": {},
   "outputs": [],
   "source": [
    "def tocni(red, dejansko):\n",
    "    return sum(\n",
    "        all(prisel <= predviden + 20 for prisel, predviden in zip(pri, pre))\n",
    "        for pri, pre in zip(red, dejansko)\n",
    "    )"
   ]
  },
  {
   "attachments": {},
   "cell_type": "markdown",
   "id": "4e8f786d",
   "metadata": {},
   "source": [
    "## 2. Enake linije\n",
    "\n",
    "Dve liniji sta \"enaki\", če vsebujeta iste postaje **ali** pa imata isto začetno in končno postajo ter ena od njiju vsebuje vse postaje, ki jih vsebuje druga; v tem primeru je druga hitrejša različica prve. Noben vlak ne ustavi večkrat na isti postaji.\n",
    "\n",
    "Napiši funkcijo `enaki(linija1, linija2)`, ki prejme seznama imen postaj in vrne `True`, če sta liniji enaki in `False`, če ne. Funkcija naj ignorira vrstni red (razen prve in zadnje postaje, ki morata biti enaki): liniji Ljubljana - Sevnica - Trebnje - Novo mesto in Ljubljana - Trebnje - Sevnica - Novo mesto sta enaki.\n",
    "\n",
    "- Liniji Ljubljana - Kresnice - Jevnica - Litija - Zagorje - Zidani most in Ljubljana - Jevnica - Zidani most sta enaki.\n",
    "- Liniji Ljubljana - Kresnice - Zidani Most in Ljubljana - Zagorje - Zidani most nista enaki, ker vsaka vsebuje kakšno postajo, ki je druga nima.\n",
    "- Liniji Kresnice - Zagorje in Ljubljana - Kresnice - Zagorje nimata enake začetne postaje.\n",
    "\n",
    "### Rešitev\n",
    "\n",
    "Študent naj bi razmislil, kaj pomeni, da ima ena linija vse postaje, ki jih ima druga: gre za podmnožice. Seznama torej pretvorimo v množice in preverimo ali je ena podmnožica druge oziroma obratno. Poleg tega pa preverimo še prvo in zadnjo postajo, torej:"
   ]
  },
  {
   "cell_type": "code",
   "execution_count": 6,
   "id": "ca774442",
   "metadata": {},
   "outputs": [],
   "source": [
    "def enaki(linija1, linija2):\n",
    "    return linija1[0] == linija2[0] \\\n",
    "        and linija1[-1] == linija2[-1] \\\n",
    "        and (set(linija1) <= set(linija2)\n",
    "             or set(linija2) <= set(linija1))"
   ]
  },
  {
   "cell_type": "markdown",
   "id": "524fc198",
   "metadata": {},
   "source": [
    "Ne spreglejte oklepajev. Imamo tri stvari: prvi postaji sta enaki IN zadnji sta enaki IN (prva je podmnožica druge ali pa je druga podmnožica prve). Brez teh oklepajev rešitev ni pravilna, ker ima `and` prednost pred `or`."
   ]
  },
  {
   "attachments": {},
   "cell_type": "markdown",
   "id": "1da82607",
   "metadata": {},
   "source": [
    "## 3. Kopičenje zamud\n",
    "\n",
    "Napiši funkcijo `zamujenih(vlak, cakajoci)`, ki prejme niz s kodo vlaka, ki zamuja in slovar, katerega ključi so kode vlakov, vrednosti pa množice vseh vlakov, ki morajo čakati, kadar ta vlak zamuja. Funkcija naj vrne število vseh zamujenih vlakov. Pri tem upoštevaj, da bodo zamujali tudi vlaki, ki čakajo zamujene vlake, ki čakajo zamujene vlake ...\n",
    "\n",
    "V primeru iz testov je tako: če zamuja LP3682, bosta zaradi tega zamujala tudi LP8524 in IC021. Ker zamuja LP8524 bodo morali čakati tudi EN123, IC521 in LP6316, zaradi IC021 pa LP222 in IC204. Zaradi EN123 ne čaka nihče, zaradi IC521 pa ... in tako naprej. Skupno zaradi LP3682 zamudi 14 vlakov.\n",
    "\n",
    "Vlaki se nikoli ne čakajo v krogu: če A čaka B in B čaka C, potem ne B ne C ne čakata na A.\n",
    "\n",
    "### Rešitev\n",
    "\n",
    "Vrniti morate velikost \"rodbine vlakov\" - kar je prva naloga iz rekurzije, ki smo jo delali na predavanjih..."
   ]
  },
  {
   "cell_type": "code",
   "execution_count": 7,
   "id": "8b20687b",
   "metadata": {},
   "outputs": [],
   "source": [
    "def zamujenih(vlak, cakajoci):\n",
    "    zamud = 1\n",
    "    for vlak1 in cakajoci[vlak]:\n",
    "         zamud += zamujenih(vlak1, cakajoci)\n",
    "    return zamud"
   ]
  },
  {
   "cell_type": "markdown",
   "id": "c5653286",
   "metadata": {},
   "source": [
    "Malo hitreje pa je tako:"
   ]
  },
  {
   "cell_type": "code",
   "execution_count": 8,
   "id": "cc1737bd",
   "metadata": {},
   "outputs": [],
   "source": [
    "def zamujenih(vlak, cakajoci):\n",
    "    return 1 + sum(zamujenih(vlak1, cakajoci) for vlak1 in cakajoci[vlak])"
   ]
  },
  {
   "cell_type": "markdown",
   "id": "5b7b25e2",
   "metadata": {},
   "source": [
    "Kdor ve kaj več, je opazil, da ni tako preprosto: lahko bi se zgodil, da bi na A čakala B in C, potem pa bi na oba, torej na B in na C, čakal nek vlak D. Tale program bi D štel dvakrat. To bi lahko rešili tako, da bi namesto preštevanja našteli vsa imena v rodbini in pogledali, koliko jih je."
   ]
  },
  {
   "attachments": {},
   "cell_type": "markdown",
   "id": "3bb7ccae",
   "metadata": {},
   "source": [
    "## 4. Raztegnjen vozni red\n",
    "\n",
    "V želji odpraviti zamude bodo Slovenske železnice preprosto raztegnile vozni red: vsi časi bodo povečani za 10 %. (Vlake, ki bi zaradi tega odpeljali naslednji dan, pa bodo preprosto ukinili.)\n",
    "\n",
    "SŽ shranjujejo čase v obliki parov (terk) (ure, minute), na primer `(11, 48)`.\n",
    "\n",
    "Napiši funkcije:\n",
    "\n",
    "- `v_minute(cas)`, ki prejme čas v obliki terke in vrne čas v minutah od polnoči. Če je `cas = (11, 48)`, klic `v_minute(cas)` vrne `708` (to je, 11  * 60 + 48);\n",
    "- `v_cas(minute)`, prejme čas v minutah od polnoči in vrne terko z urami in minutami. Klic `v_cas(708)` vrne `(11, 48)`;\n",
    "- `raztegni(cas)` prejme čas v obliki terke in vrne čas v obliki terke. Čas, ki ga vrne, mora biti enak podanemu času, pomnoženemo z 1.1 in zaokroženemu na najbližje celo število. Za zaokrožanje uporabi funkcijo `round(x)`. Če je cas = `(11, 48)`, klic `raztegni(cas)` vrne `(12, 59)` (708 po polnoči spremeni v 779 minut po polnoči in ga pretvori nazaj v ure in minute).\n",
    "\n",
    "### Rešitev\n",
    "\n",
    "Tole je le naloga, ki preverja, ali znate napisati par funkcij in v njih malo računati."
   ]
  },
  {
   "cell_type": "code",
   "execution_count": 9,
   "id": "5208281f",
   "metadata": {},
   "outputs": [],
   "source": [
    "def v_minute(cas):\n",
    "    return cas[0] * 60 + cas[1]\n",
    "\n",
    "def v_cas(minute):\n",
    "    return minute // 60, minute % 60\n",
    "\n",
    "def raztegni(cas):\n",
    "    return v_cas(round(1.1 * v_minute(cas)))"
   ]
  },
  {
   "cell_type": "markdown",
   "id": "3200bef1",
   "metadata": {},
   "source": [
    "## Vse skupaj\n",
    "\n",
    "Rešitev celotnega izpita (brez ekstra trikov) je torej takšna:"
   ]
  },
  {
   "cell_type": "code",
   "execution_count": 10,
   "id": "4f3f13f1",
   "metadata": {},
   "outputs": [],
   "source": [
    "# 1\n",
    "\n",
    "def tocen(red, dejansko):\n",
    "    for cas_red, cas_dejansko in zip(red, dejansko):\n",
    "        if cas_dejansko - cas_red > 20:\n",
    "            return False\n",
    "    return True\n",
    "\n",
    "def tocni(red, dejansko):\n",
    "    tocnih = 0\n",
    "    for r, d in zip(red, dejansko):\n",
    "        if tocen(r, d):\n",
    "            tocnih += 1\n",
    "    return tocnih\n",
    "\n",
    "# 2\n",
    "\n",
    "def enaki(linija1, linija2):\n",
    "    return linija1[0] == linija2[0] \\\n",
    "        and linija1[-1] == linija2[-1] \\\n",
    "        and (set(linija1) <= set(linija2)\n",
    "             or set(linija2) <= set(linija1))\n",
    "\n",
    "# 3\n",
    "\n",
    "def zamujenih(vlak, cakajoci):\n",
    "    zamud = 1\n",
    "    for vlak1 in cakajoci[vlak]:\n",
    "         zamud += zamujenih(vlak1, cakajoci)\n",
    "    return zamud\n",
    "\n",
    "# 4\n",
    "\n",
    "def v_minute(cas):\n",
    "    return cas[0] * 60 + cas[1]\n",
    "\n",
    "def v_cas(minute):\n",
    "    return minute // 60, minute % 60\n",
    "\n",
    "def raztegni(cas):\n",
    "    return v_cas(round(1.1 * v_minute(cas)))"
   ]
  }
 ],
 "metadata": {
  "kernelspec": {
   "display_name": "Python 3 (ipykernel)",
   "language": "python",
   "name": "python3"
  },
  "language_info": {
   "codemirror_mode": {
    "name": "ipython",
    "version": 3
   },
   "file_extension": ".py",
   "mimetype": "text/x-python",
   "name": "python",
   "nbconvert_exporter": "python",
   "pygments_lexer": "ipython3",
   "version": "3.9.7"
  }
 },
 "nbformat": 4,
 "nbformat_minor": 5
}
